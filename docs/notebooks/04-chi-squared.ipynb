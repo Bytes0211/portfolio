{
 "cells": [
  {
   "cell_type": "markdown",
   "metadata": {},
   "source": [
    "<br>\n",
    "\n",
    "### $\\chi^2 \\text{ Test}$  \n",
    "\n",
    "$\\chi^2 $ Test (chi squared test) is used to investigate the relationship between categorical variables by calculating the difference between observed and expected values. Simply put, how closely related is the expected data to the actual data and is the difference statistically significant, where small $\\chi^2$ lends support to the data not being statistically significant and a large $\\chi^2$ value is statistically significant. <br>\n",
    "\n",
    "#### Types Of $\\chi^2$ Test\n",
    "\n",
    "There are three kinds of $\\chi^2$ test:\n",
    "* A $\\chi^2$ test for homogeneity\n",
    "* A $\\chi^2$ test for association/independence \n",
    "* A $\\chi^2$ test for goodness of fit \n",
    "\n",
    "The type of $\\chi^2$ test is determined by the type of data you have (will detail later)\n",
    "\n",
    "#### Conditions for $\\chi^2$\n",
    "\n",
    "* Random sample \n",
    "* Normality or Large Counts\n",
    "* Independence - Sample with replacement or sample size 10 % or less than population \n",
    "<br><br>\n",
    "\n",
    "#### $\\chi^2$ Formula \n",
    "\n",
    "&emsp;$\\chi^2 = \\sum \\dfrac{(\\text{observed - expected})^2}{expected}$\n",
    "<br><br>\n",
    "\n",
    "#### $\\chi^2$ Homogeneity Example \n",
    "Does age have an impact on sports preferences?<br>\n",
    "\n",
    "* sample 1 - 265 people in their 30's\n",
    "  * Each was asked to pick their favorite sport from a list of MLB, NFL, and NBA \n",
    "* sample 2 - 235 people in their 40's\n",
    "  * Each was asked to pick their favorite sport from a list of MLB, NFL, and NBA \n",
    "<br>\n",
    "\n",
    "This is a $chi^2$ test for homogeneity because we are comparing two distributions with categorical data\n",
    "<br><br>"
   ]
  },
  {
   "cell_type": "code",
   "execution_count": 1,
   "metadata": {},
   "outputs": [
    {
     "name": "stderr",
     "output_type": "stream",
     "text": [
      "c:\\Users\\scotton\\AppData\\Local\\Programs\\Python\\Python310\\lib\\site-packages\\scipy\\__init__.py:146: UserWarning: A NumPy version >=1.17.3 and <1.25.0 is required for this version of SciPy (detected version 1.26.2\n",
      "  warnings.warn(f\"A NumPy version >={np_minversion} and <{np_maxversion}\"\n"
     ]
    },
    {
     "data": {
      "text/markdown": [
       "<br><br>$H_0$: age does not effect sports preference<br><br>$H_a$: age does effect sports preference<br>\r\r"
      ],
      "text/plain": [
       "<IPython.core.display.Markdown object>"
      ]
     },
     "metadata": {},
     "output_type": "display_data"
    },
    {
     "data": {
      "text/markdown": [
       "### Survey Data <br>\r|           |  MLB  |  NFL  |  NBA  |  $\\Sigma$  |  $\\hat{p}$  |\n",
       "|:---------:|:-----:|:-----:|:-----:|:----------:|:-----------:|\n",
       "|   30's    |  60   |  125  |  80   |    265     |    0.53     |\n",
       "|   40's    |  65   |  100  |  70   |    235     |    0.47     |\n",
       "| $\\Sigma$  |  125  |  225  |  150  |    500     |    100.0    |\n",
       "| $\\hat{p}$ | 0.25  | 0.45  |  0.3  |            |             |\r\r<br>$\\hat{p}$ = proportion of population\r\r<span style = \"color:skyblue;\">Notes:<br>&emsp;$\\star$ If age had NO impact on preference we would find:<br>\r&emsp;&emsp;$\\star$ Of the 125 people who prefer MLB, 53 pct should be in their 30s and 47 pct should be in their 40s<br>\r&emsp;&emsp;$\\star$ Of the 225 people who prefer NFL, 53 pct should be in their 30s and 47 pct should be in their 40s<br>\r&emsp;&emsp;$\\star$ Of the 150 people who prefer NBA, 53 pct should be in their 30s and 47 pct should be in their 40s<br>\r"
      ],
      "text/plain": [
       "<IPython.core.display.Markdown object>"
      ]
     },
     "metadata": {},
     "output_type": "display_data"
    },
    {
     "data": {
      "text/latex": [
       "$\\displaystyle \\displaystyle \\bold{Calculate~Expected~Values}\\\\~\\\\\\text{The formula for expected value:}\\\\~\\\\\\qquad E[V] = \\dfrac{\\text{category 1 total} \\cdot \\text{ category 2 total}}{\\text{total population}}\\\\~\\\\~\\\\\\qquad E[V] = \\dfrac{\\text{mlb total } \\cdot \\text{ 30s total}}{\\text{total population}}\\qquad E[V] = \\dfrac{125 \\cdot 265}{500} = 66.0\\\\~\\\\\\qquad E[V] = \\dfrac{\\text{mlb total } \\cdot \\text{ 40s total}}{\\text{total population}}\\qquad E[V] = \\dfrac{125 \\cdot 235}{500} = 59.0\\\\~\\\\~\\\\\\qquad E[V] = \\dfrac{\\text{nfl total } \\cdot \\text{ 30s total}}{\\text{total population}}\\qquad E[V] = \\dfrac{225 \\cdot 265}{500} = 119.0\\\\~\\\\\\qquad E[V] = \\dfrac{\\text{nfl total } \\cdot \\text{ 40s total}}{\\text{total population}}\\qquad E[V] = \\dfrac{225 \\cdot 235}{500} = 106.0\\\\~\\\\-\\\\\\qquad E[V] = \\dfrac{\\text{nba total } \\cdot \\text{ 30s total}}{\\text{total population}}\\qquad E[V] = \\dfrac{150 \\cdot 265}{500} = 80.0\\\\~\\\\\\qquad E[V] = \\dfrac{\\text{nba total } \\cdot \\text{ 40s total}}{\\text{total population}}\\qquad E[V] = \\dfrac{150 \\cdot 235}{500} = 70.0\\\\~\\\\-\\\\$"
      ],
      "text/plain": [
       "<IPython.core.display.Math object>"
      ]
     },
     "metadata": {},
     "output_type": "display_data"
    },
    {
     "data": {
      "text/markdown": [
       "### Survey Data With Expected Values<br>\r|           |  MLB  |  E[MLB]  |  NFL  |  E[NFL]  |  NBA  |  E[NBA]  |  $\\Sigma$  |  $\\hat{p}$  |\n",
       "|:---------:|:-----:|:--------:|:-----:|:--------:|:-----:|:--------:|:----------:|:-----------:|\n",
       "|   30's    |  60   |    66    |  125  |   119    |  80   |    80    |    265     |    0.53     |\n",
       "|   40's    |  65   |    59    |  100  |   106    |  70   |    70    |    235     |    0.47     |\n",
       "| $\\Sigma$  |  125  |   125    |  225  |   225    |  150  |   150    |    500     |    100.0    |\n",
       "| $\\hat{p}$ | 0.25  |   0.25   | 0.45  |   0.45   |  0.3  |   0.3    |            |             |\r\r<br>$\\hat{p}$ = proportion of population<br>\r\r<span style = \"color:skyblue;\">Notes:<br>&emsp;$\\star$ Note the difference between categorical observed values and expected values<br>\r&emsp;&emsp;$\\star$ Ex: For the 30s age group mlb perference the observed is 60 but E[MLB] is 66</span><br><br></span>\r"
      ],
      "text/plain": [
       "<IPython.core.display.Markdown object>"
      ]
     },
     "metadata": {},
     "output_type": "display_data"
    },
    {
     "data": {
      "text/markdown": [
       "The inference condition for homogeneity is met:<br>\r* We assume the sample was random\r* Normality condidtion met because all values are greater than 10%<br>\r&emsp; * All expected values are greater than 5<br>\r* Independence conditoin met because we assumed sample with replacement or kept sample size less than 10%\r<br><br>\r\r<b>Calculate $\\chi^2$ Test<b>\r"
      ],
      "text/plain": [
       "<IPython.core.display.Markdown object>"
      ]
     },
     "metadata": {},
     "output_type": "display_data"
    },
    {
     "data": {
      "text/latex": [
       "$\\displaystyle \\chi^2 = \\sum \\dfrac{(\\text{observed - expected})^2}{\\text{expected}} = \\dfrac{(60 - 66.0)^2}{66.0} + \\dfrac{(125 - 119.0)^2}{119.0} + \\dfrac{(80 - 80.0)^2}{80.0}\\\\~\\\\\\qquad \\qquad+ ~\\dfrac{(65 - 59.0)^2}{59.0} + \\dfrac{(100 - 106.0)^2}{106.0} + \\dfrac{(70 - 70.0)^2}{70.0} =  1.7978\\\\~\\\\~\\\\$"
      ],
      "text/plain": [
       "<IPython.core.display.Math object>"
      ]
     },
     "metadata": {},
     "output_type": "display_data"
    },
    {
     "data": {
      "text/markdown": [
       "<span style = \"color:skyblue;\">Notes:<br>\rThe larger the value of $\\chi^2$, the more likely the chance of rejecting the Null Hypothesis<br><br><br></span>\r"
      ],
      "text/plain": [
       "<IPython.core.display.Markdown object>"
      ]
     },
     "metadata": {},
     "output_type": "display_data"
    },
    {
     "data": {
      "text/markdown": [
       "**Calculate Degrees of Freedom For Homogeneity**<br><br>\r$\\displaystyle \\text{df = (sample 1 categories - 1)} \\cdot \\text{(sample2 categories - 1)}$<br><br>\r$\\text{df = (30s + 40s - 1 )} \\cdot \\text{ (mlb + nfl + nba - 1)}= (1 + 1 - 1) \\cdot (1 + 1 + 1 - 1)= 1 \\cdot 2 = 2$<br><br>\r "
      ],
      "text/plain": [
       "<IPython.core.display.Markdown object>"
      ]
     },
     "metadata": {},
     "output_type": "display_data"
    },
    {
     "ename": "AttributeError",
     "evalue": "'Data' object has no attribute 'get_chi_square_ctitical_value'",
     "output_type": "error",
     "traceback": [
      "\u001b[1;31m---------------------------------------------------------------------------\u001b[0m",
      "\u001b[1;31mAttributeError\u001b[0m                            Traceback (most recent call last)",
      "\u001b[1;32m~\\AppData\\Local\\Temp\\ipykernel_13104\\3306094147.py\u001b[0m in \u001b[0;36m<cell line: 190>\u001b[1;34m()\u001b[0m\n\u001b[0;32m    188\u001b[0m \u001b[0mdisplay\u001b[0m\u001b[1;33m(\u001b[0m\u001b[0mMarkdown\u001b[0m\u001b[1;33m(\u001b[0m\u001b[0mmsg\u001b[0m\u001b[1;33m)\u001b[0m\u001b[1;33m)\u001b[0m\u001b[1;33m\u001b[0m\u001b[1;33m\u001b[0m\u001b[0m\n\u001b[0;32m    189\u001b[0m \u001b[1;33m\u001b[0m\u001b[0m\n\u001b[1;32m--> 190\u001b[1;33m \u001b[0mcritical_value\u001b[0m \u001b[1;33m=\u001b[0m \u001b[0mdatum\u001b[0m\u001b[1;33m.\u001b[0m\u001b[0mget_chi_square_ctitical_value\u001b[0m\u001b[1;33m(\u001b[0m\u001b[0malpha\u001b[0m \u001b[1;33m=\u001b[0m \u001b[0malpha\u001b[0m\u001b[1;33m,\u001b[0m \u001b[0mdf\u001b[0m \u001b[1;33m=\u001b[0m \u001b[0mdf\u001b[0m\u001b[1;33m)\u001b[0m\u001b[1;33m\u001b[0m\u001b[1;33m\u001b[0m\u001b[0m\n\u001b[0m\u001b[0;32m    191\u001b[0m \u001b[1;33m\u001b[0m\u001b[0m\n\u001b[0;32m    192\u001b[0m \u001b[0mmsg\u001b[0m \u001b[1;33m=\u001b[0m \u001b[1;34m'\\\\displaystyle \\\\chi^2 \\\\text{ critical value: } %s\\\\\\\\~\\\\\\\\'\u001b[0m\u001b[1;33m\u001b[0m\u001b[1;33m\u001b[0m\u001b[0m\n",
      "\u001b[1;31mAttributeError\u001b[0m: 'Data' object has no attribute 'get_chi_square_ctitical_value'"
     ]
    }
   ],
   "source": [
    "\n",
    "import sys \n",
    "sys.path.insert(0, '..')\n",
    "from resources import datum \n",
    "import numpy as np \n",
    "from IPython.display import display, Markdown,  Math\n",
    "from tabulate  import tabulate \n",
    "from scipy.stats import chi2\n",
    "\n",
    "datum = datum.Data()\n",
    "\n",
    "CL = 0.90\n",
    "tail = 'two'\n",
    "sample1_categories = 2 # sample 1 categories: 30s , 40s\n",
    "sample2_categories = 3 # sample 2 categories mlb, nfl, nba \n",
    "df = (sample1_categories - 1) * (sample2_categories - 1)\n",
    "alpha = ((1 - CL)/2) if tail == 'two' else 1 - CL\n",
    "\n",
    "col0 = [\"30's\", \"40's\", \"$\\Sigma$\"]\n",
    "mlb = [60, 65]\n",
    "nfl = [125, 100]\n",
    "nba = [80, 70]\n",
    "total = [sum([mlb[0], nfl[0], nba[0]]), sum([mlb[1], nfl[1], nba[1]])]\n",
    "phat = [] # proportions \n",
    "phat.extend([total[0]/sum(total), total[1]/sum(total)])\n",
    "\n",
    "# add sum \n",
    "mlb.append(sum(mlb))\n",
    "nfl.append(sum(nfl))\n",
    "nba.append(sum(nba))\n",
    "total.append(sum(total))\n",
    "phat.append((sum(phat) * 100))  \n",
    "\n",
    "# add proportions \n",
    "col0.append('$\\hat{p}$')\n",
    "mlb.append(mlb[2]/total[2])\n",
    "nfl.append(nfl[2]/total[2])\n",
    "nba.append(nba[2]/total[2])\n",
    "total.append('')\n",
    "phat.append('')\n",
    "\n",
    "# Hypothesis\n",
    "msg = '<br><br>$H_0$: age does not effect sports preference<br><br>'\n",
    "msg = msg + '$H_a$: age does effect sports preference<br>\\r\\r'\n",
    "display(Markdown(msg))\n",
    "\n",
    "# make dictionary for table \n",
    "data = {' ': col0, 'MLB': mlb, 'NFL': nfl, 'NBA': nba, '$\\Sigma$': total, '$\\hat{p}$': phat}\n",
    "\n",
    "tab = tabulate(data, headers='keys', tablefmt='pipe', numalign='center', stralign='center')\n",
    "header = '### Survey Data <br>\\r'\n",
    "footer = '\\r\\r<br>$\\hat{p}$ = proportion of population\\r\\r'\n",
    "notes = '<span style = \"color:skyblue;\">Notes:<br>'\n",
    "notes = notes + '&emsp;$\\star$ If age had NO impact on preference we would find:<br>\\r'\n",
    "notes = notes + '&emsp;&emsp;$\\star$ Of the 125 people who prefer MLB, 53 pct should be in their 30s and 47 pct should be in their 40s<br>\\r'\n",
    "notes = notes + '&emsp;&emsp;$\\star$ Of the 225 people who prefer NFL, 53 pct should be in their 30s and 47 pct should be in their 40s<br>\\r'\n",
    "notes = notes + '&emsp;&emsp;$\\star$ Of the 150 people who prefer NBA, 53 pct should be in their 30s and 47 pct should be in their 40s<br>\\r'\n",
    "\n",
    "msg = header + tab + footer + notes \n",
    "\n",
    "display(Markdown(msg))\n",
    "\n",
    "# ADD EXPECTED VALUES \n",
    "\n",
    "# calculate expected values \n",
    "ev_mlb30s = np.round((mlb[2]*total[0])/total[2])\n",
    "ev_mlb40s = np.round((mlb[2]*total[1])/total[2])\n",
    "ev_nfl30s = np.round((nfl[2]*total[0])/total[2])\n",
    "ev_nfl40s = np.round((nfl[2]*total[1])/total[2])\n",
    "ev_nba30s = np.round((nba[2]*total[0])/total[2])\n",
    "ev_nba40s = np.round((nba[2]*total[1])/total[2])\n",
    "\n",
    "# make expected value table \n",
    "ev_col0 = [\"30's\", \"40's\", \"$\\Sigma$\"]\n",
    "ev_mlb = [ev_mlb30s, ev_mlb40s]\n",
    "ev_nfl = [ev_nfl30s, ev_nfl40s]\n",
    "ev_nba = [ev_nba30s, ev_nba40s]\n",
    "ev_total = [sum([ev_mlb[0], ev_nfl[0], ev_nba[0]]), sum([ev_mlb[1], ev_nfl[1], ev_nba[1]])]\n",
    "\n",
    "# add totals\n",
    "ev_mlb.append(sum(ev_mlb))\n",
    "ev_nfl.append(sum(ev_nfl))\n",
    "ev_nba.append(sum(ev_nba))\n",
    "ev_total.append([sum(ev_total)])\n",
    "\n",
    "# add proportions \n",
    "ev_mlb.append(ev_mlb[2]/ev_total[2])\n",
    "ev_nfl.append(ev_nfl[2]/ev_total[2])\n",
    "ev_nba.append(ev_nba[2]/ev_total[2])\n",
    "\n",
    "data = {' ': col0, 'MLB': mlb, 'E[MLB]': ev_mlb, 'NFL': nfl, 'E[NFL]': ev_nfl, 'NBA': nba, 'E[NBA]': ev_nba, '$\\Sigma$': total, '$\\hat{p}$': phat}\n",
    "\n",
    "msg = '\\\\displaystyle \\\\bold{Calculate~Expected~Values}\\\\\\\\~\\\\\\\\\\\\text{The formula for expected value:}\\\\\\\\~\\\\\\\\'\n",
    "msg = msg + '\\\\qquad E[V] = \\\\dfrac{\\\\text{category 1 total} \\\\cdot \\\\text{ category 2 total}}{\\\\text{total population}}\\\\\\\\~\\\\\\\\~\\\\\\\\'\n",
    "msg = msg + '\\\\qquad E[V] = \\\\dfrac{\\\\text{mlb total } \\\\cdot \\\\text{ 30s total}}{\\\\text{total population}}'\n",
    "msg = msg + '\\\\qquad E[V] = \\\\dfrac{%s \\\\cdot %s}{%s} = %s\\\\\\\\~\\\\\\\\'\n",
    "msg = msg + '\\\\qquad E[V] = \\\\dfrac{\\\\text{mlb total } \\\\cdot \\\\text{ 40s total}}{\\\\text{total population}}'\n",
    "msg = msg + '\\\\qquad E[V] = \\\\dfrac{%s \\\\cdot %s}{%s} = %s\\\\\\\\~\\\\\\\\~\\\\\\\\'\n",
    "#nfl\n",
    "msg = msg + '\\\\qquad E[V] = \\\\dfrac{\\\\text{nfl total } \\\\cdot \\\\text{ 30s total}}{\\\\text{total population}}'\n",
    "msg = msg + '\\\\qquad E[V] = \\\\dfrac{%s \\\\cdot %s}{%s} = %s\\\\\\\\~\\\\\\\\'\n",
    "msg = msg + '\\\\qquad E[V] = \\\\dfrac{\\\\text{nfl total } \\\\cdot \\\\text{ 40s total}}{\\\\text{total population}}'\n",
    "msg = msg + '\\\\qquad E[V] = \\\\dfrac{%s \\\\cdot %s}{%s} = %s\\\\\\\\~\\\\\\\\-\\\\\\\\'\n",
    "#nba\n",
    "msg = msg + '\\\\qquad E[V] = \\\\dfrac{\\\\text{nba total } \\\\cdot \\\\text{ 30s total}}{\\\\text{total population}}'\n",
    "msg = msg + '\\\\qquad E[V] = \\\\dfrac{%s \\\\cdot %s}{%s} = %s\\\\\\\\~\\\\\\\\'\n",
    "msg = msg + '\\\\qquad E[V] = \\\\dfrac{\\\\text{nba total } \\\\cdot \\\\text{ 40s total}}{\\\\text{total population}}'\n",
    "msg = msg + '\\\\qquad E[V] = \\\\dfrac{%s \\\\cdot %s}{%s} = %s\\\\\\\\~\\\\\\\\-\\\\\\\\'\n",
    "display(Math(msg%(\n",
    "    #mlb 30s\n",
    "    mlb[2], total[0], total[2], ev_mlb[0]\n",
    "    #mlb 40s\n",
    "    ,mlb[2], total[1], total[2], ev_mlb[1]\n",
    "    #nfl 30s\n",
    "    ,nfl[2], total[0], total[2], ev_nfl[0]\n",
    "    #nfl 40s\n",
    "    ,nfl[2], total[1], total[2], ev_nfl[1]\n",
    "    #nba 30s\n",
    "    ,nba[2], total[0], total[2], ev_nba[0]\n",
    "    #nba 40s\n",
    "    ,nba[2], total[1], total[2], ev_nba[1]\n",
    "    )))\n",
    "\n",
    "\n",
    "\n",
    "\n",
    "tab = tabulate(data, headers='keys', tablefmt='pipe', numalign='center', stralign='center')\n",
    "header = '### Survey Data With Expected Values<br>\\r'\n",
    "footer = '\\r\\r<br>$\\hat{p}$ = proportion of population<br>\\r\\r'\n",
    "notes = '<span style = \"color:skyblue;\">Notes:<br>'\n",
    "notes = notes + '&emsp;$\\star$ Note the difference between categorical observed values and expected values<br>\\r'\n",
    "notes = notes + '&emsp;&emsp;$\\star$ Ex: For the 30s age group mlb perference the observed is 60 but E[MLB] is 66</span><br><br></span>\\r'\n",
    "\n",
    "msg = header + tab + footer + notes \n",
    "\n",
    "display(Markdown(msg))\n",
    "\n",
    "msg = 'The inference condition for homogeneity is met:<br>\\r'\n",
    "msg = msg + '* We assume the sample was random\\r'\n",
    "msg = msg + '* Normality condidtion met because all values are greater than 10%<br>\\r'\n",
    "msg = msg + '&emsp; * All expected values are greater than 5<br>\\r'\n",
    "msg = msg + '* Independence conditoin met because we assumed sample with replacement or kept sample size less than 10%\\r<br><br>\\r\\r'\n",
    "msg = msg + '<b>Calculate $\\chi^2$ Test<b>\\r'\n",
    "\n",
    "\n",
    "display(Markdown(msg))\n",
    "\n",
    "chi_mlb30s = (mlb[0] - ev_mlb[0])**2 / ev_mlb[0]\n",
    "chi_nfl30s = (nfl[0] - ev_nfl[0])**2 / ev_nfl[0]\n",
    "chi_nba30s = (nba[0] - ev_nba[0])**2 / ev_nba[0]\n",
    "chi_mlb40s = (mlb[1] - ev_mlb[1])**2 / ev_mlb[1]\n",
    "chi_nfl40s = (nfl[1] - ev_nfl[1])**2 / ev_nfl[1]\n",
    "chi_nba40s = (nba[1] - ev_nba[1])**2 / ev_nba[1]\n",
    "test_statistic = chi_mlb30s + chi_nfl30s + chi_nba30s + chi_mlb40s + chi_nfl40s + chi_nba40s\n",
    "\n",
    "msg = '\\\\chi^2 = \\\\sum \\\\dfrac{(\\\\text{observed - expected})^2}{\\\\text{expected}} = '\n",
    "msg = msg + '\\\\dfrac{(%s - %s)^2}{%s} + \\\\dfrac{(%s - %s)^2}{%s} + \\\\dfrac{(%s - %s)^2}{%s}\\\\\\\\~\\\\\\\\'\n",
    "msg = msg + '\\\\qquad \\\\qquad+ ~\\\\dfrac{(%s - %s)^2}{%s} + \\\\dfrac{(%s - %s)^2}{%s} + \\\\dfrac{(%s - %s)^2}{%s} = %s'\n",
    "msg = msg + '\\\\\\\\~\\\\\\\\~\\\\\\\\'\n",
    "\n",
    "display(Math(msg%(\n",
    "    #mlb30s\n",
    "    mlb[0], ev_mlb[0], ev_mlb[0]\n",
    "    #nfl30s\n",
    "    ,nfl[0], ev_nfl[0], ev_nfl[0]\n",
    "    #nba30s\n",
    "    ,nba[0], ev_nba[0], ev_nba[0]\n",
    "    #mlb40s\n",
    "    ,mlb[1], ev_mlb[1], ev_mlb[1]\n",
    "    #nfl40s\n",
    "    ,nfl[1], ev_nfl[1], ev_nfl[1]\n",
    "    #nba40s\n",
    "    ,nba[1], ev_nba[1], ev_nba[1]\n",
    "    # answer\n",
    "    ,f'{test_statistic: .4f}'\n",
    ")))\n",
    "\n",
    "notes = '<span style = \"color:skyblue;\">Notes:<br>\\r'\n",
    "notes = notes + 'The larger the value of $\\chi^2$, the more likely the chance of rejecting the Null Hypothesis'\n",
    "notes = notes + '<br><br><br></span>\\r'\n",
    "\n",
    "display(Markdown(notes))\n",
    "\n",
    "msg = '**Calculate Degrees of Freedom For Homogeneity**<br><br>\\r'\n",
    "msg = msg + '$\\displaystyle \\\\text{df = (sample 1 categories - 1)} \\cdot \\\\text{(sample2 categories - 1)}$<br><br>\\r'\n",
    "msg = msg + '$\\\\text{df = (30s + 40s - 1 )} \\\\cdot \\\\text{ (mlb + nfl + nba - 1)}= (1 + 1 - 1) \\cdot (1 + 1 + 1 - 1)'\n",
    "msg = msg + '= 1 \\\\cdot 2 = 2$<br><br>\\r '\n",
    "\n",
    "display(Markdown(msg))\n",
    "\n",
    "critical_value = datum.get_chi_square_ctitical_value(alpha = alpha, df = df)\n",
    "\n",
    "msg = '\\\\displaystyle \\\\chi^2 \\\\text{ critical value: } %s\\\\\\\\~\\\\\\\\'\n",
    "msg = msg + '\\\\text{Using the critical value approach, at a 90 pct confidence level, in the upper tail of a two tail test}\\\\\\\\~\\\\\\\\'\n",
    "msg = msg + '\\\\text{we would have to calculate a test statistic of at least 5.99 in order to reject the null hypothesis}\\\\\\\\~\\\\\\\\'\n",
    "msg = msg + '\\\\text{Thefore with }\\\\chi^2 \\\\text{ test statistic of %s}\\\\\\\\~\\\\\\\\'\n",
    "msg = msg + '\\\\qquad \\\\star \\\\text{ failed to reject the null hypothesis that age has no effect on sports preference}\\\\\\\\~\\\\\\\\'\n",
    "msg = msg + '\\\\qquad \\\\star \\\\text{ failed to support the alternative hypothesis that age has an effect on sports preference}\\\\\\\\~\\\\\\\\'\n",
    "msg = msg + '\\\\qquad \\\\star \\\\text{ we cannot conclude that age has any effect on the preference of sport }\\\\\\\\~\\\\\\\\'\n",
    "\n",
    "display(Math(msg%(f'{critical_value: .4f}',f'{test_statistic: .4f}')))\n",
    "\n"
   ]
  },
  {
   "cell_type": "markdown",
   "metadata": {},
   "source": [
    "#### The Different Types Of $\\chi^2$ Test\n",
    "<br>\n",
    "\n",
    "* <b>Association / Independence</b>\n",
    "  * One group and multiple traits about the one group\n",
    "  * Example: \n",
    "    * A group of families (one group) with at least one child (trait 1)\n",
    "    * A family with 1 child has more pets (trait 2) than a family with multiple children\n",
    "* <b>Homogeneity</b>\n",
    "  * Multiple Groups\n",
    "  * Example\n",
    "    * Sample from people in their 30s and from people in their 40s compared to multiple types of sports\n",
    "* <b>Goodness of Fit</b>\n",
    "  * One Category that has a dependent variable \n",
    "  * Think of a one-way table\n",
    "  * Example\n",
    "    * A car dealership sales by month\n",
    "    * Compare car sales by month. Are more cars sold in June than December? \n",
    "    * The expected values in the a Goodness of Fit Chi Square test will be the ame for all variables\n",
    "      * If the dealership sales 1200 cars per year the E[V] for each month will be 100\n",
    "      * If the dealership sales 2400 cars per year the E[V] for each month will be 200\n",
    "<b></b>\n",
    "\n",
    "The $\\chi^2$ test process is the same for each type of test: \n",
    "1. Layout, understand the data, making sure the correct $\\chi^2$ test is applied\n",
    "2. Calculate the expected values\n",
    "3. Calculate $\\chi^2$ (test statistic)\n",
    "4. Find the degrees of freedom\n",
    "5. Calculate the $\\chi^2$ critical value\n",
    "<br>\n",
    "\n",
    "<span style = 'color:crimson;font-weight:bold;size:102%'>\n",
    "END\n",
    "</span>\n",
    "\n"
   ]
  }
 ],
 "metadata": {
  "kernelspec": {
   "display_name": "Python 3",
   "language": "python",
   "name": "python3"
  },
  "language_info": {
   "codemirror_mode": {
    "name": "ipython",
    "version": 3
   },
   "file_extension": ".py",
   "mimetype": "text/x-python",
   "name": "python",
   "nbconvert_exporter": "python",
   "pygments_lexer": "ipython3",
   "version": "3.10.2"
  }
 },
 "nbformat": 4,
 "nbformat_minor": 2
}
