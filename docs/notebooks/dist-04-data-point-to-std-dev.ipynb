{
 "cells": [
  {
   "cell_type": "markdown",
   "metadata": {},
   "source": [
    "The relationshipIn order to analyze the data point 3.25, such as its probability, you must first convert it in terms of standard deviations. To do this, the formula is:<br>\n",
    "between a data point on the x-axis and the standard deviation was not completely clear to me. I <i>knew</i> there was a relationship but did not understand it at it's core. So here we go. <br>\n",
    "<br>\n",
    "Say you have a normal distribution of weights with a min of 0.99 to 5.02 with: <br>\n",
    "\n",
    "* $\\mu = 3$\n",
    "* $\\sigma = 0.1732$ \n",
    "<br>\n",
    "Now lets say you have a data point representing one of the weights as 3.25. I wont solve the probability here but I simply want to make the relationship between the data point and the statistics of the distribution crystal clear.<br>\n",
    "<br>\n",
    "In order to analyze the data point 3.25, such as it's probability you must first convert it in terms of standard deviations. To this the formula is:<br>\n",
    "\n",
    "$\\displaystyle \\qquad \\text{data point to std dev } = \\dfrac{(\\text{data point } - \\mu)}{\\sigma}$<br><Br>\n",
    "$\\displaystyle \\qquad \\text{data point to std dev } = \\dfrac{(3.25 - 3)}{0.1732}$<br><Br>\n",
    "$\\displaystyle \\qquad \\text{data point to std dev } = \\dfrac{(0.25 )}{0.1732}$<br><Br>\n",
    "$\\displaystyle \\qquad \\text{data point to std dev } = 1.4435$<br><br>\n",
    "So from here you can can get the z-score of 1.4435 which will give you the probability of a weight 3.25!"
   ]
  },
  {
   "cell_type": "code",
   "execution_count": 1,
   "metadata": {
    "execution": {
     "iopub.execute_input": "2025-10-30T01:48:58.150703Z",
     "iopub.status.busy": "2025-10-30T01:48:58.150419Z",
     "iopub.status.idle": "2025-10-30T01:48:59.166301Z",
     "shell.execute_reply": "2025-10-30T01:48:59.165550Z"
    }
   },
   "outputs": [
    {
     "name": "stdout",
     "output_type": "stream",
     "text": [
      "data_point_std_dev : 1.443418013856813\n",
      "datum.convert_to_std_dev( ): 1.443418013856813\n"
     ]
    }
   ],
   "source": [
    "import numpy as np\n",
    "import sys\n",
    "sys.path.insert(0, '..')\n",
    "\n",
    "import resources.datum as datum \n",
    "import resources.glyph as glyph \n",
    "\n",
    "data = datum.Data()\n",
    "\n",
    "data_point = 3.25\n",
    "mu = 3\n",
    "sigma = 0.1732 \n",
    "\n",
    "# data_point to std_dev value -> (data_point - mu )/ sigma \n",
    "data_point_std_dev = (data_point - mu)/sigma\n",
    "datum_conversion = data.convert_to_std_dev(x = data_point, mu = mu, sigma = sigma)\n",
    "print(f'data_point_std_dev : {data_point_std_dev}\\ndatum.convert_to_std_dev( ): {datum_conversion}')\n",
    "\n"
   ]
  }
 ],
 "metadata": {
  "kernelspec": {
   "display_name": "Python 3",
   "language": "python",
   "name": "python3"
  },
  "language_info": {
   "codemirror_mode": {
    "name": "ipython",
    "version": 3
   },
   "file_extension": ".py",
   "mimetype": "text/x-python",
   "name": "python",
   "nbconvert_exporter": "python",
   "pygments_lexer": "ipython3",
   "version": "3.13.7"
  }
 },
 "nbformat": 4,
 "nbformat_minor": 2
}
