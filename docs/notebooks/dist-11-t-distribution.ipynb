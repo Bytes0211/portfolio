{
 "cells": [
  {
   "cell_type": "code",
   "execution_count": 1,
   "metadata": {},
   "outputs": [
    {
     "data": {
      "application/javascript": "(function(root) {\n  function now() {\n    return new Date();\n  }\n\n  const force = true;\n\n  if (typeof root._bokeh_onload_callbacks === \"undefined\" || force === true) {\n    root._bokeh_onload_callbacks = [];\n    root._bokeh_is_loading = undefined;\n  }\n\nconst JS_MIME_TYPE = 'application/javascript';\n  const HTML_MIME_TYPE = 'text/html';\n  const EXEC_MIME_TYPE = 'application/vnd.bokehjs_exec.v0+json';\n  const CLASS_NAME = 'output_bokeh rendered_html';\n\n  /**\n   * Render data to the DOM node\n   */\n  function render(props, node) {\n    const script = document.createElement(\"script\");\n    node.appendChild(script);\n  }\n\n  /**\n   * Handle when an output is cleared or removed\n   */\n  function handleClearOutput(event, handle) {\n    const cell = handle.cell;\n\n    const id = cell.output_area._bokeh_element_id;\n    const server_id = cell.output_area._bokeh_server_id;\n    // Clean up Bokeh references\n    if (id != null && id in Bokeh.index) {\n      Bokeh.index[id].model.document.clear();\n      delete Bokeh.index[id];\n    }\n\n    if (server_id !== undefined) {\n      // Clean up Bokeh references\n      const cmd_clean = \"from bokeh.io.state import curstate; print(curstate().uuid_to_server['\" + server_id + \"'].get_sessions()[0].document.roots[0]._id)\";\n      cell.notebook.kernel.execute(cmd_clean, {\n        iopub: {\n          output: function(msg) {\n            const id = msg.content.text.trim();\n            if (id in Bokeh.index) {\n              Bokeh.index[id].model.document.clear();\n              delete Bokeh.index[id];\n            }\n          }\n        }\n      });\n      // Destroy server and session\n      const cmd_destroy = \"import bokeh.io.notebook as ion; ion.destroy_server('\" + server_id + \"')\";\n      cell.notebook.kernel.execute(cmd_destroy);\n    }\n  }\n\n  /**\n   * Handle when a new output is added\n   */\n  function handleAddOutput(event, handle) {\n    const output_area = handle.output_area;\n    const output = handle.output;\n\n    // limit handleAddOutput to display_data with EXEC_MIME_TYPE content only\n    if ((output.output_type != \"display_data\") || (!Object.prototype.hasOwnProperty.call(output.data, EXEC_MIME_TYPE))) {\n      return\n    }\n\n    const toinsert = output_area.element.find(\".\" + CLASS_NAME.split(' ')[0]);\n\n    if (output.metadata[EXEC_MIME_TYPE][\"id\"] !== undefined) {\n      toinsert[toinsert.length - 1].firstChild.textContent = output.data[JS_MIME_TYPE];\n      // store reference to embed id on output_area\n      output_area._bokeh_element_id = output.metadata[EXEC_MIME_TYPE][\"id\"];\n    }\n    if (output.metadata[EXEC_MIME_TYPE][\"server_id\"] !== undefined) {\n      const bk_div = document.createElement(\"div\");\n      bk_div.innerHTML = output.data[HTML_MIME_TYPE];\n      const script_attrs = bk_div.children[0].attributes;\n      for (let i = 0; i < script_attrs.length; i++) {\n        toinsert[toinsert.length - 1].firstChild.setAttribute(script_attrs[i].name, script_attrs[i].value);\n        toinsert[toinsert.length - 1].firstChild.textContent = bk_div.children[0].textContent\n      }\n      // store reference to server id on output_area\n      output_area._bokeh_server_id = output.metadata[EXEC_MIME_TYPE][\"server_id\"];\n    }\n  }\n\n  function register_renderer(events, OutputArea) {\n\n    function append_mime(data, metadata, element) {\n      // create a DOM node to render to\n      const toinsert = this.create_output_subarea(\n        metadata,\n        CLASS_NAME,\n        EXEC_MIME_TYPE\n      );\n      this.keyboard_manager.register_events(toinsert);\n      // Render to node\n      const props = {data: data, metadata: metadata[EXEC_MIME_TYPE]};\n      render(props, toinsert[toinsert.length - 1]);\n      element.append(toinsert);\n      return toinsert\n    }\n\n    /* Handle when an output is cleared or removed */\n    events.on('clear_output.CodeCell', handleClearOutput);\n    events.on('delete.Cell', handleClearOutput);\n\n    /* Handle when a new output is added */\n    events.on('output_added.OutputArea', handleAddOutput);\n\n    /**\n     * Register the mime type and append_mime function with output_area\n     */\n    OutputArea.prototype.register_mime_type(EXEC_MIME_TYPE, append_mime, {\n      /* Is output safe? */\n      safe: true,\n      /* Index of renderer in `output_area.display_order` */\n      index: 0\n    });\n  }\n\n  // register the mime type if in Jupyter Notebook environment and previously unregistered\n  if (root.Jupyter !== undefined) {\n    const events = require('base/js/events');\n    const OutputArea = require('notebook/js/outputarea').OutputArea;\n\n    if (OutputArea.prototype.mime_types().indexOf(EXEC_MIME_TYPE) == -1) {\n      register_renderer(events, OutputArea);\n    }\n  }\n  if (typeof (root._bokeh_timeout) === \"undefined\" || force === true) {\n    root._bokeh_timeout = Date.now() + 5000;\n    root._bokeh_failed_load = false;\n  }\n\n  const NB_LOAD_WARNING = {'data': {'text/html':\n     \"<div style='background-color: #fdd'>\\n\"+\n     \"<p>\\n\"+\n     \"BokehJS does not appear to have successfully loaded. If loading BokehJS from CDN, this \\n\"+\n     \"may be due to a slow or bad network connection. Possible fixes:\\n\"+\n     \"</p>\\n\"+\n     \"<ul>\\n\"+\n     \"<li>re-rerun `output_notebook()` to attempt to load from CDN again, or</li>\\n\"+\n     \"<li>use INLINE resources instead, as so:</li>\\n\"+\n     \"</ul>\\n\"+\n     \"<code>\\n\"+\n     \"from bokeh.resources import INLINE\\n\"+\n     \"output_notebook(resources=INLINE)\\n\"+\n     \"</code>\\n\"+\n     \"</div>\"}};\n\n  function display_loaded() {\n    const el = document.getElementById(null);\n    if (el != null) {\n      el.textContent = \"BokehJS is loading...\";\n    }\n    if (root.Bokeh !== undefined) {\n      if (el != null) {\n        el.textContent = \"BokehJS \" + root.Bokeh.version + \" successfully loaded.\";\n      }\n    } else if (Date.now() < root._bokeh_timeout) {\n      setTimeout(display_loaded, 100)\n    }\n  }\n\n  function run_callbacks() {\n    try {\n      root._bokeh_onload_callbacks.forEach(function(callback) {\n        if (callback != null)\n          callback();\n      });\n    } finally {\n      delete root._bokeh_onload_callbacks\n    }\n    console.debug(\"Bokeh: all callbacks have finished\");\n  }\n\n  function load_libs(css_urls, js_urls, callback) {\n    if (css_urls == null) css_urls = [];\n    if (js_urls == null) js_urls = [];\n\n    root._bokeh_onload_callbacks.push(callback);\n    if (root._bokeh_is_loading > 0) {\n      console.debug(\"Bokeh: BokehJS is being loaded, scheduling callback at\", now());\n      return null;\n    }\n    if (js_urls == null || js_urls.length === 0) {\n      run_callbacks();\n      return null;\n    }\n    console.debug(\"Bokeh: BokehJS not loaded, scheduling load and callback at\", now());\n    root._bokeh_is_loading = css_urls.length + js_urls.length;\n\n    function on_load() {\n      root._bokeh_is_loading--;\n      if (root._bokeh_is_loading === 0) {\n        console.debug(\"Bokeh: all BokehJS libraries/stylesheets loaded\");\n        run_callbacks()\n      }\n    }\n\n    function on_error(url) {\n      console.error(\"failed to load \" + url);\n    }\n\n    for (let i = 0; i < css_urls.length; i++) {\n      const url = css_urls[i];\n      const element = document.createElement(\"link\");\n      element.onload = on_load;\n      element.onerror = on_error.bind(null, url);\n      element.rel = \"stylesheet\";\n      element.type = \"text/css\";\n      element.href = url;\n      console.debug(\"Bokeh: injecting link tag for BokehJS stylesheet: \", url);\n      document.body.appendChild(element);\n    }\n\n    for (let i = 0; i < js_urls.length; i++) {\n      const url = js_urls[i];\n      const element = document.createElement('script');\n      element.onload = on_load;\n      element.onerror = on_error.bind(null, url);\n      element.async = false;\n      element.src = url;\n      console.debug(\"Bokeh: injecting script tag for BokehJS library: \", url);\n      document.head.appendChild(element);\n    }\n  };\n\n  function inject_raw_css(css) {\n    const element = document.createElement(\"style\");\n    element.appendChild(document.createTextNode(css));\n    document.body.appendChild(element);\n  }\n\n  const js_urls = [\"https://cdn.bokeh.org/bokeh/release/bokeh-3.1.1.min.js\", \"https://cdn.bokeh.org/bokeh/release/bokeh-gl-3.1.1.min.js\", \"https://cdn.bokeh.org/bokeh/release/bokeh-widgets-3.1.1.min.js\", \"https://cdn.bokeh.org/bokeh/release/bokeh-tables-3.1.1.min.js\", \"https://cdn.bokeh.org/bokeh/release/bokeh-mathjax-3.1.1.min.js\"];\n  const css_urls = [];\n\n  const inline_js = [    function(Bokeh) {\n      Bokeh.set_log_level(\"info\");\n    },\nfunction(Bokeh) {\n    }\n  ];\n\n  function run_inline_js() {\n    if (root.Bokeh !== undefined || force === true) {\n          for (let i = 0; i < inline_js.length; i++) {\n      inline_js[i].call(root, root.Bokeh);\n    }\n} else if (Date.now() < root._bokeh_timeout) {\n      setTimeout(run_inline_js, 100);\n    } else if (!root._bokeh_failed_load) {\n      console.log(\"Bokeh: BokehJS failed to load within specified timeout.\");\n      root._bokeh_failed_load = true;\n    } else if (force !== true) {\n      const cell = $(document.getElementById(null)).parents('.cell').data().cell;\n      cell.output_area.append_execute_result(NB_LOAD_WARNING)\n    }\n  }\n\n  if (root._bokeh_is_loading === 0) {\n    console.debug(\"Bokeh: BokehJS loaded, going straight to plotting\");\n    run_inline_js();\n  } else {\n    load_libs(css_urls, js_urls, function() {\n      console.debug(\"Bokeh: BokehJS plotting callback run at\", now());\n      run_inline_js();\n    });\n  }\n}(window));",
      "application/vnd.bokehjs_load.v0+json": ""
     },
     "metadata": {},
     "output_type": "display_data"
    },
    {
     "data": {
      "text/html": [
       "\n",
       "  <div id=\"f51fc479-d7d9-404f-96bf-80afaea7324e\" data-root-id=\"p1007\" style=\"display: contents;\"></div>\n"
      ]
     },
     "metadata": {},
     "output_type": "display_data"
    },
    {
     "data": {
      "application/javascript": "(function(root) {\n  function embed_document(root) {\n  const docs_json = {\"12769c8c-a698-46ef-93e6-80efdb44f3af\":{\"version\":\"3.1.1\",\"title\":\"Bokeh Application\",\"defs\":[],\"roots\":[{\"type\":\"object\",\"name\":\"Figure\",\"id\":\"p1007\",\"attributes\":{\"width\":670,\"height\":400,\"x_range\":{\"type\":\"object\",\"name\":\"DataRange1d\",\"id\":\"p1008\"},\"y_range\":{\"type\":\"object\",\"name\":\"DataRange1d\",\"id\":\"p1009\"},\"x_scale\":{\"type\":\"object\",\"name\":\"LinearScale\",\"id\":\"p1021\"},\"y_scale\":{\"type\":\"object\",\"name\":\"LinearScale\",\"id\":\"p1023\"},\"title\":{\"type\":\"object\",\"name\":\"Title\",\"id\":\"p1010\",\"attributes\":{\"text\":\"Student's t Distribution\\nLast 10 Observations\\n\",\"text_color\":\"#E0E0E0\",\"text_font\":\"Helvetica\",\"text_font_size\":\"1.15em\"}},\"outline_line_color\":\"#E0E0E0\",\"outline_line_alpha\":0.25,\"renderers\":[{\"type\":\"object\",\"name\":\"GlyphRenderer\",\"id\":\"p1060\",\"attributes\":{\"data_source\":{\"type\":\"object\",\"name\":\"ColumnDataSource\",\"id\":\"p1001\",\"attributes\":{\"selected\":{\"type\":\"object\",\"name\":\"Selection\",\"id\":\"p1003\",\"attributes\":{\"indices\":[],\"line_indices\":[]}},\"selection_policy\":{\"type\":\"object\",\"name\":\"UnionRenderers\",\"id\":\"p1002\"},\"data\":{\"type\":\"map\",\"entries\":[[\"x\",{\"type\":\"ndarray\",\"array\":{\"type\":\"bytes\",\"data\":\"AAAAAAAACMAzMzMzMzMHwGZmZmZmZgbAmZmZmZmZBcDMzMzMzMwEwP///////wPAMjMzMzMzA8BlZmZmZmYCwJiZmZmZmQHAy8zMzMzMAMD8////////v2JmZmZmZv6/yMzMzMzM/L8uMzMzMzP7v5SZmZmZmfm/+v//////979gZmZmZmb2v8bMzMzMzPS/LDMzMzMz87+SmZmZmZnxv/D//////++/vMzMzMzM7L+ImZmZmZnpv1RmZmZmZua/IDMzMzMz47/Y///////fv3CZmZmZmdm/CDMzMzMz079AmZmZmZnJv+CYmZmZmbm/AAAAAAAA6DxgmpmZmZm5PwCamZmZmck/aDMzMzMz0z/QmZmZmZnZPxwAAAAAAOA/UDMzMzMz4z+EZmZmZmbmP7iZmZmZmek/7MzMzMzM7D8QAAAAAADwP6iZmZmZmfE/RDMzMzMz8z/gzMzMzMz0P3hmZmZmZvY/EAAAAAAA+D+smZmZmZn5P0gzMzMzM/s/4MzMzMzM/D94ZmZmZmb+PwoAAAAAAABA2MzMzMzMAECkmZmZmZkBQHBmZmZmZgJAPjMzMzMzA0AMAAAAAAAEQNjMzMzMzARApJmZmZmZBUByZmZmZmYGQEAzMzMzMwdA\"},\"shape\":[60],\"dtype\":\"float64\",\"order\":\"little\"}],[\"floor\",{\"type\":\"ndarray\",\"array\":{\"type\":\"bytes\",\"data\":\"AAAAAAAAAAAAAAAAAAAAAAAAAAAAAAAAAAAAAAAAAAAAAAAAAAAAAAAAAAAAAAAAAAAAAAAAAAAAAAAAAAAAAAAAAAAAAAAAAAAAAAAAAAAAAAAAAAAAAAAAAAAAAAAAAAAAAAAAAAAAAAAAAAAAAAAAAAAAAAAAAAAAAAAAAAAAAAAAAAAAAAAAAAAAAAAAAAAAAAAAAAAAAAAAAAAAAAAAAAAAAAAAAAAAAAAAAAAAAAAAAAAAAAAAAAAAAAAAAAAAAAAAAAAAAAAAAAAAAAAAAAAAAAAAAAAAAAAAAAAAAAAAAAAAAAAAAAAAAAAAAAAAAAAAAAAAAAAAAAAAAAAAAAAAAAAAAAAAAAAAAAAAAAAAAAAAAAAAAAAAAAAAAAAAAAAAAAAAAAAAAAAAAAAAAAAAAAAAAAAAAAAAAAAAAAAAAAAAAAAAAAAAAAAAAAAAAAAAAAAAAAAAAAAAAAAAAAAAAAAAAAAAAAAAAAAAAAAAAAAAAAAAAAAAAAAAAAAAAAAAAAAAAAAAAAAAAAAAAAAAAAAAAAAAAAAAAAAAAAAAAAAAAAAAAAAAAAAAAAAAAAAAAAAAAAAAAAAAAAAAAAAAAAAAAAAAAAAAAAAAAAAAAAAAAAAAAAAAAAAA\"},\"shape\":[60],\"dtype\":\"float64\",\"order\":\"little\"}],[\"display_1\",{\"type\":\"ndarray\",\"array\":{\"type\":\"bytes\",\"data\":\"0AY7viZMoD8Od/H7vVGhP4U5j9Kgb6I/QBC2fcCooz9nTdXSewClPzsSYwaxeqY/ToZsTtIbqD+Mv0yy/eipP6f9OkIY6Ks/xaiGwuwfrj/TBju+JkywP+p1SSMcrbE/lFy+Yv03sz/9q3SSqfK0P6qTt1vD47Y/+mwzwrESuT+Mi3GNjYe7PwpVsJrtSr4/iecax76ywD+NOY/SoG/CP47IyW0wX8Q/VSQ/1aOCxj8MGt2e/NfIPziTUwFBWMs/hr0oVmX1zT/ZBju+JkzQP0Vm/Uzaj9E/QUcExZOw0j8iLbjfmpbTP6SERruNK9Q/hMjJbTBf1D+fhEa7jSvUPxctuN+altM/MUcExZOw0j8zZv1M2o/RP8QGO74mTNA/X70oVmX1zT8Rk1MBQVjLP+gZ3Z7818g/MyQ/1aOCxj9wyMltMF/EP3Q5j9Kgb8I/b+cax76ywD/aVLCa7Uq+P2aLcY2Nh7s/22wzwrESuT+Lk7dbw+O2P9+rdJKp8rQ/fVy+Yv03sz/VdUkjHK2xP8AGO74mTLA/n6iGwuwfrj+I/TpCGOirP3O/TLL96Kk/NIZsTtIbqD8iEmMGsXqmP1NN1dJ7AKU/LxC2fcCooz90OY/SoG+iP/128fu9UaE/\"},\"shape\":[60],\"dtype\":\"float64\",\"order\":\"little\"}],[\"display_2\",{\"type\":\"ndarray\",\"array\":{\"type\":\"bytes\",\"data\":\"BgqszFzEez/8wSjyd5WBP308TSxtK4Y/2fEBx0vRiz8DMOKXMV2RPzeBnaP4j5U/saU6V1Cgmj8s98Ln41egP5DBh6+x8KM/iLyYmUIsqD+q0w/MvRutP8nzAJJsZ7E/9WD7zmKptD/06GMae1i4P+IN2JTmdrw/e7H0UtCBwD8JM0aV5PzCPwS9IgcKqMU/y1Uq2i58yD8d05fyuW/LP+Kj+NqQds4/yYbgdiLB0D+Ja9uCNUHSPz4f2umOstM/HGfwm9ML1T+m0bGEpEPWPzVfiQENUdc/wROuR/Qr2D+xlQ2tic3YP1LdqZyjMNk/+l7XpwlS2T9S3amcozDZP7GVDa2Jzdg/qhOuR/Qr2D8dX4kBDVHXP5DRsYSkQ9Y/CWfwm9ML1T8qH9rpjrLTP3dr24I1QdI/uYbgdiLB0D+qo/jakHbOP+nSl/K5b8s/nVUq2i58yD/IvCIHCqjFP+cyRpXk/MI/XbH0UtCBwD+vDdiU5na8P7LoYxp7WLg/v2D7zmKptD+d8wCSbGexP2DTD8y9G60/N7yYmUIsqD9ewYevsfCjPwT3wufjV6A/W6U6V1Cgmj/ygJ2j+I+VP8sv4pcxXZE/gvEBx0vRiz85PE0sbSuGP7rBKPJ3lYE/\"},\"shape\":[60],\"dtype\":\"float64\",\"order\":\"little\"}]]}}},\"view\":{\"type\":\"object\",\"name\":\"CDSView\",\"id\":\"p1061\",\"attributes\":{\"filter\":{\"type\":\"object\",\"name\":\"AllIndices\",\"id\":\"p1062\"}}},\"glyph\":{\"type\":\"object\",\"name\":\"Line\",\"id\":\"p1057\",\"attributes\":{\"x\":{\"type\":\"field\",\"field\":\"x\"},\"y\":{\"type\":\"field\",\"field\":\"display_1\"},\"line_color\":\"mediumseagreen\",\"line_width\":2}},\"nonselection_glyph\":{\"type\":\"object\",\"name\":\"Line\",\"id\":\"p1058\",\"attributes\":{\"x\":{\"type\":\"field\",\"field\":\"x\"},\"y\":{\"type\":\"field\",\"field\":\"display_1\"},\"line_color\":\"mediumseagreen\",\"line_alpha\":0.1,\"line_width\":2}},\"muted_glyph\":{\"type\":\"object\",\"name\":\"Line\",\"id\":\"p1059\",\"attributes\":{\"x\":{\"type\":\"field\",\"field\":\"x\"},\"y\":{\"type\":\"field\",\"field\":\"display_1\"},\"line_color\":\"mediumseagreen\",\"line_alpha\":0.2,\"line_width\":2}}}},{\"type\":\"object\",\"name\":\"GlyphRenderer\",\"id\":\"p1071\",\"attributes\":{\"data_source\":{\"type\":\"object\",\"name\":\"ColumnDataSource\",\"id\":\"p1004\",\"attributes\":{\"selected\":{\"type\":\"object\",\"name\":\"Selection\",\"id\":\"p1006\",\"attributes\":{\"indices\":[],\"line_indices\":[]}},\"selection_policy\":{\"type\":\"object\",\"name\":\"UnionRenderers\",\"id\":\"p1005\"},\"data\":{\"type\":\"map\",\"entries\":[[\"x\",{\"type\":\"ndarray\",\"array\":{\"type\":\"bytes\",\"data\":\"AAAAAAAACMAzMzMzMzMHwGZmZmZmZgbAmZmZmZmZBcDMzMzMzMwEwP///////wPAMjMzMzMzA8BlZmZmZmYCwJiZmZmZmQHAy8zMzMzMAMD8////////v2JmZmZmZv6/yMzMzMzM/L8uMzMzMzP7v5SZmZmZmfm/+v//////979gZmZmZmb2v8bMzMzMzPS/LDMzMzMz87+SmZmZmZnxv/D//////++/vMzMzMzM7L+ImZmZmZnpv1RmZmZmZua/IDMzMzMz47/Y///////fv3CZmZmZmdm/CDMzMzMz079AmZmZmZnJv+CYmZmZmbm/AAAAAAAA6DxgmpmZmZm5PwCamZmZmck/aDMzMzMz0z/QmZmZmZnZPxwAAAAAAOA/UDMzMzMz4z+EZmZmZmbmP7iZmZmZmek/7MzMzMzM7D8QAAAAAADwP6iZmZmZmfE/RDMzMzMz8z/gzMzMzMz0P3hmZmZmZvY/EAAAAAAA+D+smZmZmZn5P0gzMzMzM/s/4MzMzMzM/D94ZmZmZmb+PwoAAAAAAABA2MzMzMzMAECkmZmZmZkBQHBmZmZmZgJAPjMzMzMzA0AMAAAAAAAEQNjMzMzMzARApJmZmZmZBUByZmZmZmYGQEAzMzMzMwdA\"},\"shape\":[60],\"dtype\":\"float64\",\"order\":\"little\"}],[\"floor\",{\"type\":\"ndarray\",\"array\":{\"type\":\"bytes\",\"data\":\"AAAAAAAAAAAAAAAAAAAAAAAAAAAAAAAAAAAAAAAAAAAAAAAAAAAAAAAAAAAAAAAAAAAAAAAAAAAAAAAAAAAAAAAAAAAAAAAAAAAAAAAAAAAAAAAAAAAAAAAAAAAAAAAAAAAAAAAAAAAAAAAAAAAAAAAAAAAAAAAAAAAAAAAAAAAAAAAAAAAAAAAAAAAAAAAAAAAAAAAAAAAAAAAAAAAAAAAAAAAAAAAAAAAAAAAAAAAAAAAAAAAAAAAAAAAAAAAAAAAAAAAAAAAAAAAAAAAAAAAAAAAAAAAAAAAAAAAAAAAAAAAAAAAAAAAAAAAAAAAAAAAAAAAAAAAAAAAAAAAAAAAAAAAAAAAAAAAAAAAAAAAAAAAAAAAAAAAAAAAAAAAAAAAAAAAAAAAAAAAAAAAAAAAAAAAAAAAAAAAAAAAAAAAAAAAAAAAAAAAAAAAAAAAAAAAAAAAAAAAAAAAAAAAAAAAAAAAAAAAAAAAAAAAAAAAAAAAAAAAAAAAAAAAAAAAAAAAAAAAAAAAAAAAAAAAAAAAAAAAAAAAAAAAAAAAAAAAAAAAAAAAAAAAAAAAAAAAAAAAAAAAAAAAAAAAAAAAAAAAAAAAAAAAAAAAAAAAAAAAAAAAAAAAAAAAAAAAAAAAA\"},\"shape\":[60],\"dtype\":\"float64\",\"order\":\"little\"}],[\"display_1\",{\"type\":\"ndarray\",\"array\":{\"type\":\"bytes\",\"data\":\"0AY7viZMoD8Od/H7vVGhP4U5j9Kgb6I/QBC2fcCooz9nTdXSewClPzsSYwaxeqY/ToZsTtIbqD+Mv0yy/eipP6f9OkIY6Ks/xaiGwuwfrj/TBju+JkywP+p1SSMcrbE/lFy+Yv03sz/9q3SSqfK0P6qTt1vD47Y/+mwzwrESuT+Mi3GNjYe7PwpVsJrtSr4/iecax76ywD+NOY/SoG/CP47IyW0wX8Q/VSQ/1aOCxj8MGt2e/NfIPziTUwFBWMs/hr0oVmX1zT/ZBju+JkzQP0Vm/Uzaj9E/QUcExZOw0j8iLbjfmpbTP6SERruNK9Q/hMjJbTBf1D+fhEa7jSvUPxctuN+altM/MUcExZOw0j8zZv1M2o/RP8QGO74mTNA/X70oVmX1zT8Rk1MBQVjLP+gZ3Z7818g/MyQ/1aOCxj9wyMltMF/EP3Q5j9Kgb8I/b+cax76ywD/aVLCa7Uq+P2aLcY2Nh7s/22wzwrESuT+Lk7dbw+O2P9+rdJKp8rQ/fVy+Yv03sz/VdUkjHK2xP8AGO74mTLA/n6iGwuwfrj+I/TpCGOirP3O/TLL96Kk/NIZsTtIbqD8iEmMGsXqmP1NN1dJ7AKU/LxC2fcCooz90OY/SoG+iP/128fu9UaE/\"},\"shape\":[60],\"dtype\":\"float64\",\"order\":\"little\"}],[\"display_2\",{\"type\":\"ndarray\",\"array\":{\"type\":\"bytes\",\"data\":\"BgqszFzEez/8wSjyd5WBP308TSxtK4Y/2fEBx0vRiz8DMOKXMV2RPzeBnaP4j5U/saU6V1Cgmj8s98Ln41egP5DBh6+x8KM/iLyYmUIsqD+q0w/MvRutP8nzAJJsZ7E/9WD7zmKptD/06GMae1i4P+IN2JTmdrw/e7H0UtCBwD8JM0aV5PzCPwS9IgcKqMU/y1Uq2i58yD8d05fyuW/LP+Kj+NqQds4/yYbgdiLB0D+Ja9uCNUHSPz4f2umOstM/HGfwm9ML1T+m0bGEpEPWPzVfiQENUdc/wROuR/Qr2D+xlQ2tic3YP1LdqZyjMNk/+l7XpwlS2T9S3amcozDZP7GVDa2Jzdg/qhOuR/Qr2D8dX4kBDVHXP5DRsYSkQ9Y/CWfwm9ML1T8qH9rpjrLTP3dr24I1QdI/uYbgdiLB0D+qo/jakHbOP+nSl/K5b8s/nVUq2i58yD/IvCIHCqjFP+cyRpXk/MI/XbH0UtCBwD+vDdiU5na8P7LoYxp7WLg/v2D7zmKptD+d8wCSbGexP2DTD8y9G60/N7yYmUIsqD9ewYevsfCjPwT3wufjV6A/W6U6V1Cgmj/ygJ2j+I+VP8sv4pcxXZE/gvEBx0vRiz85PE0sbSuGP7rBKPJ3lYE/\"},\"shape\":[60],\"dtype\":\"float64\",\"order\":\"little\"}]]}}},\"view\":{\"type\":\"object\",\"name\":\"CDSView\",\"id\":\"p1072\",\"attributes\":{\"filter\":{\"type\":\"object\",\"name\":\"AllIndices\",\"id\":\"p1073\"}}},\"glyph\":{\"type\":\"object\",\"name\":\"VArea\",\"id\":\"p1068\",\"attributes\":{\"x\":{\"type\":\"field\",\"field\":\"x\"},\"y1\":{\"type\":\"field\",\"field\":\"floor\"},\"y2\":{\"type\":\"field\",\"field\":\"display_1\"},\"fill_color\":\"dodgerblue\",\"fill_alpha\":0.2,\"hatch_color\":{\"type\":\"value\",\"value\":\"dodgerblue\"},\"hatch_alpha\":{\"type\":\"value\",\"value\":0.2}}},\"nonselection_glyph\":{\"type\":\"object\",\"name\":\"VArea\",\"id\":\"p1069\",\"attributes\":{\"x\":{\"type\":\"field\",\"field\":\"x\"},\"y1\":{\"type\":\"field\",\"field\":\"floor\"},\"y2\":{\"type\":\"field\",\"field\":\"display_1\"},\"fill_color\":\"dodgerblue\",\"fill_alpha\":0.1,\"hatch_color\":{\"type\":\"value\",\"value\":\"dodgerblue\"},\"hatch_alpha\":{\"type\":\"value\",\"value\":0.1}}},\"muted_glyph\":{\"type\":\"object\",\"name\":\"VArea\",\"id\":\"p1070\",\"attributes\":{\"x\":{\"type\":\"field\",\"field\":\"x\"},\"y1\":{\"type\":\"field\",\"field\":\"floor\"},\"y2\":{\"type\":\"field\",\"field\":\"display_1\"},\"fill_color\":\"dodgerblue\",\"fill_alpha\":0.2,\"hatch_color\":{\"type\":\"value\",\"value\":\"dodgerblue\"},\"hatch_alpha\":{\"type\":\"value\",\"value\":0.2}}}}}],\"toolbar\":{\"type\":\"object\",\"name\":\"Toolbar\",\"id\":\"p1016\",\"attributes\":{\"tools\":[{\"type\":\"object\",\"name\":\"PanTool\",\"id\":\"p1039\"},{\"type\":\"object\",\"name\":\"WheelZoomTool\",\"id\":\"p1040\"},{\"type\":\"object\",\"name\":\"BoxZoomTool\",\"id\":\"p1041\",\"attributes\":{\"overlay\":{\"type\":\"object\",\"name\":\"BoxAnnotation\",\"id\":\"p1042\",\"attributes\":{\"syncable\":false,\"level\":\"overlay\",\"visible\":false,\"left_units\":\"canvas\",\"right_units\":\"canvas\",\"bottom_units\":\"canvas\",\"top_units\":\"canvas\",\"line_color\":\"black\",\"line_alpha\":1.0,\"line_width\":2,\"line_dash\":[4,4],\"fill_color\":\"lightgrey\",\"fill_alpha\":0.5}}}},{\"type\":\"object\",\"name\":\"SaveTool\",\"id\":\"p1043\"},{\"type\":\"object\",\"name\":\"ResetTool\",\"id\":\"p1044\"},{\"type\":\"object\",\"name\":\"HelpTool\",\"id\":\"p1045\"}]}},\"toolbar_location\":null,\"left\":[{\"type\":\"object\",\"name\":\"LinearAxis\",\"id\":\"p1032\",\"attributes\":{\"ticker\":{\"type\":\"object\",\"name\":\"BasicTicker\",\"id\":\"p1033\",\"attributes\":{\"mantissas\":[1,2,5]}},\"formatter\":{\"type\":\"object\",\"name\":\"BasicTickFormatter\",\"id\":\"p1034\"},\"axis_label_standoff\":10,\"axis_label_text_color\":\"#E0E0E0\",\"axis_label_text_font\":\"Helvetica\",\"axis_label_text_font_size\":\"1.25em\",\"axis_label_text_font_style\":\"normal\",\"major_label_policy\":{\"type\":\"object\",\"name\":\"AllLabels\",\"id\":\"p1035\"},\"major_label_text_color\":\"#E0E0E0\",\"major_label_text_font\":\"Helvetica\",\"major_label_text_font_size\":\"1.025em\",\"axis_line_color\":\"#E0E0E0\",\"axis_line_alpha\":0,\"major_tick_line_color\":\"#E0E0E0\",\"major_tick_line_alpha\":0,\"minor_tick_line_color\":\"#E0E0E0\",\"minor_tick_line_alpha\":0}}],\"below\":[{\"type\":\"object\",\"name\":\"LinearAxis\",\"id\":\"p1025\",\"attributes\":{\"ticker\":{\"type\":\"object\",\"name\":\"BasicTicker\",\"id\":\"p1026\",\"attributes\":{\"mantissas\":[1,2,5]}},\"formatter\":{\"type\":\"object\",\"name\":\"BasicTickFormatter\",\"id\":\"p1027\"},\"axis_label\":\"Weight in Kg\",\"axis_label_standoff\":10,\"axis_label_text_color\":\"#E0E0E0\",\"axis_label_text_font\":\"Helvetica\",\"axis_label_text_font_size\":\"1.25em\",\"axis_label_text_font_style\":\"normal\",\"major_label_policy\":{\"type\":\"object\",\"name\":\"AllLabels\",\"id\":\"p1028\"},\"major_label_text_color\":\"#E0E0E0\",\"major_label_text_font\":\"Helvetica\",\"major_label_text_font_size\":\"1.025em\",\"axis_line_color\":\"#E0E0E0\",\"axis_line_alpha\":0,\"major_tick_line_color\":\"#E0E0E0\",\"major_tick_line_alpha\":0,\"minor_tick_line_color\":\"#E0E0E0\",\"minor_tick_line_alpha\":0}}],\"center\":[{\"type\":\"object\",\"name\":\"Grid\",\"id\":\"p1031\",\"attributes\":{\"axis\":{\"id\":\"p1025\"},\"grid_line_color\":\"#E0E0E0\",\"grid_line_alpha\":0.25}},{\"type\":\"object\",\"name\":\"Grid\",\"id\":\"p1038\",\"attributes\":{\"dimension\":1,\"axis\":{\"id\":\"p1032\"},\"grid_line_color\":\"#E0E0E0\",\"grid_line_alpha\":0.25}},{\"type\":\"object\",\"name\":\"Legend\",\"id\":\"p1063\",\"attributes\":{\"border_line_alpha\":0,\"background_fill_color\":\"#20262B\",\"background_fill_alpha\":0.25,\"label_text_color\":\"#E0E0E0\",\"label_text_font\":\"Helvetica\",\"label_text_font_size\":\"1.025em\",\"label_standoff\":8,\"glyph_width\":15,\"spacing\":8,\"items\":[{\"type\":\"object\",\"name\":\"LegendItem\",\"id\":\"p1064\",\"attributes\":{\"label\":{\"type\":\"value\",\"value\":\"10 Observations\"},\"renderers\":[{\"id\":\"p1060\"}]}},{\"type\":\"object\",\"name\":\"LegendItem\",\"id\":\"p1074\",\"attributes\":{\"label\":{\"type\":\"value\",\"value\":\"data\"},\"renderers\":[{\"id\":\"p1071\"}]}}]}}],\"background_fill_color\":\"#20262B\",\"border_fill_color\":\"#15191C\"}}],\"callbacks\":{\"type\":\"map\"}}};\n  const render_items = [{\"docid\":\"12769c8c-a698-46ef-93e6-80efdb44f3af\",\"roots\":{\"p1007\":\"f51fc479-d7d9-404f-96bf-80afaea7324e\"},\"root_ids\":[\"p1007\"]}];\n  root.Bokeh.embed.embed_items_notebook(docs_json, render_items);\n  }\n  if (root.Bokeh !== undefined) {\n    embed_document(root);\n  } else {\n    let attempts = 0;\n    const timer = setInterval(function(root) {\n      if (root.Bokeh !== undefined) {\n        clearInterval(timer);\n        embed_document(root);\n      } else {\n        attempts++;\n        if (attempts > 100) {\n          clearInterval(timer);\n          console.log(\"Bokeh: ERROR: Unable to run BokehJS code because BokehJS library is missing\");\n        }\n      }\n    }, 10, root)\n  }\n})(window);",
      "application/vnd.bokehjs_exec.v0+json": ""
     },
     "metadata": {
      "application/vnd.bokehjs_exec.v0+json": {
       "id": "p1007"
      }
     },
     "output_type": "display_data"
    }
   ],
   "source": [
    "\n",
    "from scipy.stats import t # t distribution\n",
    "from bokeh.plotting import figure, show, curdoc, output_notebook, ColumnDataSource\n",
    "import numpy as np\n",
    "\n",
    "curdoc().theme = 'dark_minimal'\n",
    "output_notebook(hide_banner=True)\n",
    "\n",
    "x = np.arange(-3, 3, 0.1)\n",
    "\n",
    "# DEGREES OF FREEDOM = 1\n",
    "display_t1 = t.pdf(x, 1)\n",
    "\n",
    "# DEGREES OF FREEDOM = 30\n",
    "display_t2 = t.pdf(x, 30)\n",
    "\n",
    "floor = np.zeros(len(x))\n",
    "\n",
    "source = ColumnDataSource(\n",
    "       dict(x = x, floor = floor, display_1 = display_t1, display_2 = display_t2)\n",
    ")\n",
    "\n",
    "source_sel = ColumnDataSource(\n",
    "       dict(x = x, floor = floor, display_1 = display_t1, display_2 = display_t2)\n",
    ")\n",
    "\n",
    "p = figure(width=670, height=400, toolbar_location=None,\n",
    "           title=\"Student's t Distribution\\nLast 10 Observations\\n\")\n",
    "\n",
    "p.line(x = 'x'\n",
    "       ,y = \"display_1\"\n",
    "       #,legend_label = \"1 Degree of Freedom\"\n",
    "       ,legend_label = \"10 Observations\"\n",
    "       ,line_color = \"mediumseagreen\"\n",
    "       ,width = 2\n",
    "       ,source = source \n",
    "       )\n",
    "\n",
    "\n",
    "p.varea(\n",
    "        x = \"x\"\n",
    "        ,y1 = \"floor\"\n",
    "        ,y2 = \"display_1\"\n",
    "        ,color = 'dodgerblue'\n",
    "        ,alpha = 0.20\n",
    "        ,legend_label = 'data'\n",
    "        ,source = source_sel\n",
    "    )\n",
    "\n",
    "p.xaxis.axis_label = \"Weight in Kg\"\n",
    "\n",
    "show(p)"
   ]
  },
  {
   "cell_type": "code",
   "execution_count": 5,
   "metadata": {},
   "outputs": [
    {
     "name": "stdout",
     "output_type": "stream",
     "text": [
      "yes\n",
      "yes\n",
      "yes\n"
     ]
    }
   ],
   "source": [
    "scores = dict(team1 = ['score1', 'score2', 'score3', 'score4', 'score5'],\n",
    "                team2 = ['score6', 'score7', 'score8', 'score9', 'score10'],\n",
    "                team3 = ['score11', 'score12', 'score13', 'score14', 'score15']\n",
    "            )\n",
    "\n",
    "for team, score in scores.items():\n",
    "    if all([(isinstance(team, str)), (isinstance(score, list))]):\n",
    "        print('yes')\n",
    "    else:\n",
    "        print('no')"
   ]
  }
 ],
 "metadata": {
  "kernelspec": {
   "display_name": "bokehVenv",
   "language": "python",
   "name": "python3"
  },
  "language_info": {
   "codemirror_mode": {
    "name": "ipython",
    "version": 3
   },
   "file_extension": ".py",
   "mimetype": "text/x-python",
   "name": "python",
   "nbconvert_exporter": "python",
   "pygments_lexer": "ipython3",
   "version": "3.11.3"
  },
  "orig_nbformat": 4
 },
 "nbformat": 4,
 "nbformat_minor": 2
}
