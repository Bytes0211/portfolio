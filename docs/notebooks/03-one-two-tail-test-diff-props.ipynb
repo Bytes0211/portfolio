{
 "cells": [
  {
   "cell_type": "markdown",
   "metadata": {},
   "source": [
    "## Hypothesis Testing For Difference of Proportions\n",
    "\n",
    "Hypothesis testing for two proportions compares categorical response variables between two populations or treatments. The focus is on testing whether the difference in sample proportions provides evidence about the difference in population proportions.\n",
    "\n",
    "### Criteria For Hypothesis Testing For Difference Of Proportions\n",
    "\n",
    "1. Two independent samples\n",
    "2. Five or more successes and failures in each sample\n",
    "<br>\n",
    "\n",
    "### Types Of Test For Difference of Proportion\n",
    "\n",
    "#### Two Tail Hypothesis Test For Difference of Proportions\n",
    "\n",
    "* $H_0: p_1 - p_2 = 0 \\rightarrow p_1 = p_2$\n",
    "  * The population proportions are equal\n",
    "\n",
    "<br>\n",
    "\n",
    "* $H_a: p_1 - p_2 \\ne 0 \\rightarrow p_1 \\ne p_2$\n",
    "  * The population proportions are different\n",
    "<br><br>\n",
    "\n",
    "#### Upper Tail Hypothesis Test For Difference of Proportions\n",
    "\n",
    "* $H_0: p_1 - p_2 \\le 0 \\rightarrow p_1 \\le p_2$\n",
    "  * Population 1 proportion is less than or equal to population 2 proportion\n",
    "\n",
    "<br>\n",
    "\n",
    "* $H_a: p_1 - p_2 > 0 \\rightarrow p_1 > p_2$\n",
    "  * Population 1 proportion is greater than population 2 proportion\n",
    "<br><br>\n",
    "\n",
    "#### Lower Tail Hypothesis Test For Difference of Proportions\n",
    "\n",
    "* $H_0: p_1 - p_2 \\ge 0 \\rightarrow p_1 \\ge p_2$\n",
    "  * Population 1 proportion is greater than or equal to population 2 proportion\n",
    "\n",
    "<br>\n",
    "\n",
    "* $H_a: p_1 - p_2 < 0 \\rightarrow p_1 < p_2$\n",
    "  * Population 1 proportion is less than population 2 proportion\n",
    "<br><br>\n",
    "\n",
    "<span style = \"color:skyblue;font-weight:bold\">\n",
    "📓 NOTE\n",
    "</span><br>\n",
    "\n",
    "<span style = \"color:gainsboro;size:103%\">\n",
    "The hypothesized difference is often 0, but can be any value. For example, the alternative hypothesis might claim the difference is 0.20 rather than 0.\n",
    "</span><br><br>\n",
    "\n",
    "Upper and lower tail tests are equivalent when you switch the population labels and reverse the inequality direction.<br><br>\n",
    "\n",
    "### Formula\n",
    "\n",
    "<b>Test Statistic Formula for Difference of Proportions</b><br>\n",
    "\n",
    "$z = \\dfrac{(\\hat{p}_1 - \\hat{p}_2) - (p_1 - p_2)}{\\sqrt{\\color{dodgerblue}\\hat{p}\\color{defaultcolor} \\cdot (1 - \\color{dodgerblue}\\hat{p}\\color{defaultcolor}) \\cdot (\\dfrac{1}{n_1} + \\dfrac{1}{n_2})}}$<br><Br>\n",
    "\n",
    "$\\color{dodgerblue}\\hat{p} = \\dfrac{(\\hat{p}_1 \\cdot n_1) + (\\hat{p}_2 \\cdot n_2)}{n_1 + n_2} \\color{defaultcolor}$<Br><Br>\n",
    "\n",
    "<b>p_hat Formula for Difference of Proportions</b><br>\n",
    "The <span style = \"color:dodgerblue;font-weight:bold\">bottom formula</span> is the combined sample proportion where each sample proportion is multiplied by its sample size, then the 2 products are added, to finally be divided by the sum of the two sample sizes<br><br>\n",
    "\n",
    "### Example\n",
    "We will use the same example from the confidence interval of difference of proportions<br><br>\n",
    "\n",
    "Say we are interested in the proportions of passenger trucks vs cars in California versus Colorado. After researching and obtaining data, we find: <br><br>\n",
    "\n",
    "| Parameter <br> statistic | Population 1 (CA) | Population 2 (CO) |\n",
    "| :----------------------: | :---------------: | :--------------: |\n",
    "|            N             |      unknown      |     unknown      |\n",
    "|            n             |        100        |        80        |\n",
    "|        $\\hat{p}$         |       0.40        |       0.30       |\n",
    "\n",
    "<br><br>\n",
    "With a confidence interval of 95%\n"
   ]
  },
  {
   "cell_type": "code",
   "execution_count": 1,
   "metadata": {
    "execution": {
     "iopub.execute_input": "2025-10-29T19:23:09.470983Z",
     "iopub.status.busy": "2025-10-29T19:23:09.470707Z",
     "iopub.status.idle": "2025-10-29T19:23:11.004921Z",
     "shell.execute_reply": "2025-10-29T19:23:11.004352Z"
    }
   },
   "outputs": [
    {
     "data": {
      "application/javascript": "'use strict';\n(function(root) {\n  function now() {\n    return new Date();\n  }\n\n  const force = true;\n\n  if (typeof root._bokeh_onload_callbacks === \"undefined\" || force === true) {\n    root._bokeh_onload_callbacks = [];\n    root._bokeh_is_loading = undefined;\n  }\n\nconst JS_MIME_TYPE = 'application/javascript';\n  const HTML_MIME_TYPE = 'text/html';\n  const EXEC_MIME_TYPE = 'application/vnd.bokehjs_exec.v0+json';\n  const CLASS_NAME = 'output_bokeh rendered_html';\n\n  /**\n   * Render data to the DOM node\n   */\n  function render(props, node) {\n    const script = document.createElement(\"script\");\n    node.appendChild(script);\n  }\n\n  /**\n   * Handle when an output is cleared or removed\n   */\n  function handleClearOutput(event, handle) {\n    function drop(id) {\n      const view = Bokeh.index.get_by_id(id)\n      if (view != null) {\n        view.model.document.clear()\n        Bokeh.index.delete(view)\n      }\n    }\n\n    const cell = handle.cell;\n\n    const id = cell.output_area._bokeh_element_id;\n    const server_id = cell.output_area._bokeh_server_id;\n\n    // Clean up Bokeh references\n    if (id != null) {\n      drop(id)\n    }\n\n    if (server_id !== undefined) {\n      // Clean up Bokeh references\n      const cmd_clean = \"from bokeh.io.state import curstate; print(curstate().uuid_to_server['\" + server_id + \"'].get_sessions()[0].document.roots[0]._id)\";\n      cell.notebook.kernel.execute(cmd_clean, {\n        iopub: {\n          output: function(msg) {\n            const id = msg.content.text.trim()\n            drop(id)\n          }\n        }\n      });\n      // Destroy server and session\n      const cmd_destroy = \"import bokeh.io.notebook as ion; ion.destroy_server('\" + server_id + \"')\";\n      cell.notebook.kernel.execute(cmd_destroy);\n    }\n  }\n\n  /**\n   * Handle when a new output is added\n   */\n  function handleAddOutput(event, handle) {\n    const output_area = handle.output_area;\n    const output = handle.output;\n\n    // limit handleAddOutput to display_data with EXEC_MIME_TYPE content only\n    if ((output.output_type != \"display_data\") || (!Object.prototype.hasOwnProperty.call(output.data, EXEC_MIME_TYPE))) {\n      return\n    }\n\n    const toinsert = output_area.element.find(\".\" + CLASS_NAME.split(' ')[0]);\n\n    if (output.metadata[EXEC_MIME_TYPE][\"id\"] !== undefined) {\n      toinsert[toinsert.length - 1].firstChild.textContent = output.data[JS_MIME_TYPE];\n      // store reference to embed id on output_area\n      output_area._bokeh_element_id = output.metadata[EXEC_MIME_TYPE][\"id\"];\n    }\n    if (output.metadata[EXEC_MIME_TYPE][\"server_id\"] !== undefined) {\n      const bk_div = document.createElement(\"div\");\n      bk_div.innerHTML = output.data[HTML_MIME_TYPE];\n      const script_attrs = bk_div.children[0].attributes;\n      for (let i = 0; i < script_attrs.length; i++) {\n        toinsert[toinsert.length - 1].firstChild.setAttribute(script_attrs[i].name, script_attrs[i].value);\n        toinsert[toinsert.length - 1].firstChild.textContent = bk_div.children[0].textContent\n      }\n      // store reference to server id on output_area\n      output_area._bokeh_server_id = output.metadata[EXEC_MIME_TYPE][\"server_id\"];\n    }\n  }\n\n  function register_renderer(events, OutputArea) {\n\n    function append_mime(data, metadata, element) {\n      // create a DOM node to render to\n      const toinsert = this.create_output_subarea(\n        metadata,\n        CLASS_NAME,\n        EXEC_MIME_TYPE\n      );\n      this.keyboard_manager.register_events(toinsert);\n      // Render to node\n      const props = {data: data, metadata: metadata[EXEC_MIME_TYPE]};\n      render(props, toinsert[toinsert.length - 1]);\n      element.append(toinsert);\n      return toinsert\n    }\n\n    /* Handle when an output is cleared or removed */\n    events.on('clear_output.CodeCell', handleClearOutput);\n    events.on('delete.Cell', handleClearOutput);\n\n    /* Handle when a new output is added */\n    events.on('output_added.OutputArea', handleAddOutput);\n\n    /**\n     * Register the mime type and append_mime function with output_area\n     */\n    OutputArea.prototype.register_mime_type(EXEC_MIME_TYPE, append_mime, {\n      /* Is output safe? */\n      safe: true,\n      /* Index of renderer in `output_area.display_order` */\n      index: 0\n    });\n  }\n\n  // register the mime type if in Jupyter Notebook environment and previously unregistered\n  if (root.Jupyter !== undefined) {\n    const events = require('base/js/events');\n    const OutputArea = require('notebook/js/outputarea').OutputArea;\n\n    if (OutputArea.prototype.mime_types().indexOf(EXEC_MIME_TYPE) == -1) {\n      register_renderer(events, OutputArea);\n    }\n  }\n  if (typeof (root._bokeh_timeout) === \"undefined\" || force === true) {\n    root._bokeh_timeout = Date.now() + 5000;\n    root._bokeh_failed_load = false;\n  }\n\n  const NB_LOAD_WARNING = {'data': {'text/html':\n     \"<div style='background-color: #fdd'>\\n\"+\n     \"<p>\\n\"+\n     \"BokehJS does not appear to have successfully loaded. If loading BokehJS from CDN, this \\n\"+\n     \"may be due to a slow or bad network connection. Possible fixes:\\n\"+\n     \"</p>\\n\"+\n     \"<ul>\\n\"+\n     \"<li>re-rerun `output_notebook()` to attempt to load from CDN again, or</li>\\n\"+\n     \"<li>use INLINE resources instead, as so:</li>\\n\"+\n     \"</ul>\\n\"+\n     \"<code>\\n\"+\n     \"from bokeh.resources import INLINE\\n\"+\n     \"output_notebook(resources=INLINE)\\n\"+\n     \"</code>\\n\"+\n     \"</div>\"}};\n\n  function display_loaded(error = null) {\n    const el = document.getElementById(null);\n    if (el != null) {\n      const html = (() => {\n        if (typeof root.Bokeh === \"undefined\") {\n          if (error == null) {\n            return \"BokehJS is loading ...\";\n          } else {\n            return \"BokehJS failed to load.\";\n          }\n        } else {\n          const prefix = `BokehJS ${root.Bokeh.version}`;\n          if (error == null) {\n            return `${prefix} successfully loaded.`;\n          } else {\n            return `${prefix} <b>encountered errors</b> while loading and may not function as expected.`;\n          }\n        }\n      })();\n      el.innerHTML = html;\n\n      if (error != null) {\n        const wrapper = document.createElement(\"div\");\n        wrapper.style.overflow = \"auto\";\n        wrapper.style.height = \"5em\";\n        wrapper.style.resize = \"vertical\";\n        const content = document.createElement(\"div\");\n        content.style.fontFamily = \"monospace\";\n        content.style.whiteSpace = \"pre-wrap\";\n        content.style.backgroundColor = \"rgb(255, 221, 221)\";\n        content.textContent = error.stack ?? error.toString();\n        wrapper.append(content);\n        el.append(wrapper);\n      }\n    } else if (Date.now() < root._bokeh_timeout) {\n      setTimeout(() => display_loaded(error), 100);\n    }\n  }\n\n  function run_callbacks() {\n    try {\n      root._bokeh_onload_callbacks.forEach(function(callback) {\n        if (callback != null)\n          callback();\n      });\n    } finally {\n      delete root._bokeh_onload_callbacks\n    }\n    console.debug(\"Bokeh: all callbacks have finished\");\n  }\n\n  function load_libs(css_urls, js_urls, callback) {\n    if (css_urls == null) css_urls = [];\n    if (js_urls == null) js_urls = [];\n\n    root._bokeh_onload_callbacks.push(callback);\n    if (root._bokeh_is_loading > 0) {\n      console.debug(\"Bokeh: BokehJS is being loaded, scheduling callback at\", now());\n      return null;\n    }\n    if (js_urls == null || js_urls.length === 0) {\n      run_callbacks();\n      return null;\n    }\n    console.debug(\"Bokeh: BokehJS not loaded, scheduling load and callback at\", now());\n    root._bokeh_is_loading = css_urls.length + js_urls.length;\n\n    function on_load() {\n      root._bokeh_is_loading--;\n      if (root._bokeh_is_loading === 0) {\n        console.debug(\"Bokeh: all BokehJS libraries/stylesheets loaded\");\n        run_callbacks()\n      }\n    }\n\n    function on_error(url) {\n      console.error(\"failed to load \" + url);\n    }\n\n    for (let i = 0; i < css_urls.length; i++) {\n      const url = css_urls[i];\n      const element = document.createElement(\"link\");\n      element.onload = on_load;\n      element.onerror = on_error.bind(null, url);\n      element.rel = \"stylesheet\";\n      element.type = \"text/css\";\n      element.href = url;\n      console.debug(\"Bokeh: injecting link tag for BokehJS stylesheet: \", url);\n      document.body.appendChild(element);\n    }\n\n    for (let i = 0; i < js_urls.length; i++) {\n      const url = js_urls[i];\n      const element = document.createElement('script');\n      element.onload = on_load;\n      element.onerror = on_error.bind(null, url);\n      element.async = false;\n      element.src = url;\n      console.debug(\"Bokeh: injecting script tag for BokehJS library: \", url);\n      document.head.appendChild(element);\n    }\n  };\n\n  function inject_raw_css(css) {\n    const element = document.createElement(\"style\");\n    element.appendChild(document.createTextNode(css));\n    document.body.appendChild(element);\n  }\n\n  const js_urls = [\"https://cdn.bokeh.org/bokeh/release/bokeh-3.8.0.min.js\", \"https://cdn.bokeh.org/bokeh/release/bokeh-gl-3.8.0.min.js\", \"https://cdn.bokeh.org/bokeh/release/bokeh-widgets-3.8.0.min.js\", \"https://cdn.bokeh.org/bokeh/release/bokeh-tables-3.8.0.min.js\", \"https://cdn.bokeh.org/bokeh/release/bokeh-mathjax-3.8.0.min.js\"];\n  const css_urls = [];\n\n  const inline_js = [    function(Bokeh) {\n      Bokeh.set_log_level(\"info\");\n    },\nfunction(Bokeh) {\n    }\n  ];\n\n  function run_inline_js() {\n    if (root.Bokeh !== undefined || force === true) {\n      try {\n            for (let i = 0; i < inline_js.length; i++) {\n      inline_js[i].call(root, root.Bokeh);\n    }\n\n      } catch (error) {throw error;\n      }} else if (Date.now() < root._bokeh_timeout) {\n      setTimeout(run_inline_js, 100);\n    } else if (!root._bokeh_failed_load) {\n      console.log(\"Bokeh: BokehJS failed to load within specified timeout.\");\n      root._bokeh_failed_load = true;\n    } else if (force !== true) {\n      const cell = $(document.getElementById(null)).parents('.cell').data().cell;\n      cell.output_area.append_execute_result(NB_LOAD_WARNING)\n    }\n  }\n\n  if (root._bokeh_is_loading === 0) {\n    console.debug(\"Bokeh: BokehJS loaded, going straight to plotting\");\n    run_inline_js();\n  } else {\n    load_libs(css_urls, js_urls, function() {\n      console.debug(\"Bokeh: BokehJS plotting callback run at\", now());\n      run_inline_js();\n    });\n  }\n}(window));",
      "application/vnd.bokehjs_load.v0+json": ""
     },
     "metadata": {},
     "output_type": "display_data"
    },
    {
     "name": "stdout",
     "output_type": "stream",
     "text": [
      "phat:  0.3444\n",
      "test statistic:  1.3310\n"
     ]
    }
   ],
   "source": [
    "import sys\n",
    "sys.path.insert(0, \"..\")\n",
    "from resources import datum \n",
    "from bokeh.plotting import figure, show, output_notebook, curdoc\n",
    "\n",
    "output_notebook(hide_banner=True)\n",
    "curdoc().theme = 'light_minimal'\n",
    "\n",
    "data = datum.Data()\n",
    "\n",
    "CL = 95\n",
    "tail = \"two\"\n",
    "null_hypo = \"There is NO difference in CA and CO truck proportions, p1 - p2 = 0\"\n",
    "alt_hyp0 = \"There is a difference in CA and CO truck proportions, p1 - p2 != 0\"\n",
    "p1 = 0.40\n",
    "p2 = 0.30\n",
    "n1 = 80\n",
    "n2 = 100\n",
    "\n",
    "# SINCE THE NULL HYPOTHESIS IS SET TO ZERO, WE NEED TO REPLACE (p1 - p2), WE NEED TO REPLACE (p1 - p2) TO ZERO IN\n",
    "# THE TEST STATISTIC FORMULA \n",
    "p_diff = 0\n",
    "\n",
    "\n",
    "if data.check_proportion_distro_for_normality(p1 = p1, p2 = p2, n1 = n1, n2 = n2):\n",
    "    phat = data.get_phat_for_proportion(p1 = p1, p2 = p2, n1 = n1, n2 = n2)\n",
    "    test_statistic = data.get_test_statistic_for_diff_of_props(p_diff=p_diff, phat=phat, p1=p1, p2=p2, n1=n1, n2=n2)\n",
    "    \n",
    "print(f'phat: {phat: .4f}\\ntest statistic: {test_statistic: .4f}')\n"
   ]
  },
  {
   "cell_type": "code",
   "execution_count": 2,
   "metadata": {
    "execution": {
     "iopub.execute_input": "2025-10-29T19:23:11.031177Z",
     "iopub.status.busy": "2025-10-29T19:23:11.030923Z",
     "iopub.status.idle": "2025-10-29T19:23:11.126450Z",
     "shell.execute_reply": "2025-10-29T19:23:11.125891Z"
    }
   },
   "outputs": [
    {
     "data": {
      "text/latex": [
       "$\\displaystyle \\displaystyle1.\\text{ Understand the information and the problem statement}\\\\~\\\\\\qquad \\star~CL~=  0.95~-~ \\text{ confidence level is the probability that an estimate will include the observed value}\\\\~\\\\\\qquad \\star~  a =  0.05 ~-~ \\text{the alpha value / level of significance}\\\\~\\\\\\qquad \\star~ \\text{lower tail test } ~-~ \\text{type of hypothesis test}\\\\~\\\\\\qquad \\star~  n = 100 ~-~ \\text{the sample size}\\\\~\\\\\\qquad \\star~  p = 0.25 ~-~ \\text{The proportion of the sample that is the successes}\\\\~\\\\\\qquad \\star~  \\hat{p} = 0.2 ~-~ \\text{The ratio of successes relative to the sample size}\\\\~\\\\2. \\text{ Form an alternative and null hypothesis}\\\\~\\\\\\qquad \\star~ H_0: \\text{ p is greater than or equal to 0.25}\\\\~\\\\\\qquad \\star~ H_a: \\text{ p is less than 0.25}\\\\~\\\\3.\\text{ Calculate the z-score:}\\\\~\\\\\\qquad \\star~Z = \\dfrac{\\hat{p} - p}{\\sqrt{\\dfrac{p(1 - p)}{n}}} = \\dfrac{ 0.200 - 0.25}{\\sqrt{\\dfrac{0.25(1 - 0.25)}{100}}} = \\dfrac{-0.05}{0.0433} = -1.154701\\\\~\\\\4.\\text{ Find the p-value:}\\\\~\\\\\\qquad \\star~ \\text{p-value } = -1.154701 \\text{ (z-score) } \\Rightarrow  \\text{z-table } \\Rightarrow  0.1241\\\\~\\\\\\displaystyle 5.\\text{ Perform p-value and critical value test:}\\\\~\\\\\\qquad \\star~\\text{p-value test:}\\\\~\\\\\\qquad \\qquad \\star~\\text{p-value 0.12410653949496186} > 0.10\\\\~\\\\\\qquad \\qquad \\star~ \\text{There is weak or no evidence against Null Hypothesis}\\\\~\\\\\\qquad \\star~\\text{lower tail critical value test:}\\\\~\\\\\\qquad \\qquad \\star~\\text{test statistic -1.1547 is less than the critical value 1.96}\\\\~\\\\\\qquad \\qquad \\star~\\text{the critical value test fails to support for the Null Hypothesis}\\\\~\\\\~\\\\$"
      ],
      "text/plain": [
       "<IPython.core.display.Math object>"
      ]
     },
     "metadata": {},
     "output_type": "display_data"
    },
    {
     "data": {
      "application/javascript": "'use strict';\n(function(root) {\n  function now() {\n    return new Date();\n  }\n\n  const force = true;\n\n  if (typeof root._bokeh_onload_callbacks === \"undefined\" || force === true) {\n    root._bokeh_onload_callbacks = [];\n    root._bokeh_is_loading = undefined;\n  }\n\nconst JS_MIME_TYPE = 'application/javascript';\n  const HTML_MIME_TYPE = 'text/html';\n  const EXEC_MIME_TYPE = 'application/vnd.bokehjs_exec.v0+json';\n  const CLASS_NAME = 'output_bokeh rendered_html';\n\n  /**\n   * Render data to the DOM node\n   */\n  function render(props, node) {\n    const script = document.createElement(\"script\");\n    node.appendChild(script);\n  }\n\n  /**\n   * Handle when an output is cleared or removed\n   */\n  function handleClearOutput(event, handle) {\n    function drop(id) {\n      const view = Bokeh.index.get_by_id(id)\n      if (view != null) {\n        view.model.document.clear()\n        Bokeh.index.delete(view)\n      }\n    }\n\n    const cell = handle.cell;\n\n    const id = cell.output_area._bokeh_element_id;\n    const server_id = cell.output_area._bokeh_server_id;\n\n    // Clean up Bokeh references\n    if (id != null) {\n      drop(id)\n    }\n\n    if (server_id !== undefined) {\n      // Clean up Bokeh references\n      const cmd_clean = \"from bokeh.io.state import curstate; print(curstate().uuid_to_server['\" + server_id + \"'].get_sessions()[0].document.roots[0]._id)\";\n      cell.notebook.kernel.execute(cmd_clean, {\n        iopub: {\n          output: function(msg) {\n            const id = msg.content.text.trim()\n            drop(id)\n          }\n        }\n      });\n      // Destroy server and session\n      const cmd_destroy = \"import bokeh.io.notebook as ion; ion.destroy_server('\" + server_id + \"')\";\n      cell.notebook.kernel.execute(cmd_destroy);\n    }\n  }\n\n  /**\n   * Handle when a new output is added\n   */\n  function handleAddOutput(event, handle) {\n    const output_area = handle.output_area;\n    const output = handle.output;\n\n    // limit handleAddOutput to display_data with EXEC_MIME_TYPE content only\n    if ((output.output_type != \"display_data\") || (!Object.prototype.hasOwnProperty.call(output.data, EXEC_MIME_TYPE))) {\n      return\n    }\n\n    const toinsert = output_area.element.find(\".\" + CLASS_NAME.split(' ')[0]);\n\n    if (output.metadata[EXEC_MIME_TYPE][\"id\"] !== undefined) {\n      toinsert[toinsert.length - 1].firstChild.textContent = output.data[JS_MIME_TYPE];\n      // store reference to embed id on output_area\n      output_area._bokeh_element_id = output.metadata[EXEC_MIME_TYPE][\"id\"];\n    }\n    if (output.metadata[EXEC_MIME_TYPE][\"server_id\"] !== undefined) {\n      const bk_div = document.createElement(\"div\");\n      bk_div.innerHTML = output.data[HTML_MIME_TYPE];\n      const script_attrs = bk_div.children[0].attributes;\n      for (let i = 0; i < script_attrs.length; i++) {\n        toinsert[toinsert.length - 1].firstChild.setAttribute(script_attrs[i].name, script_attrs[i].value);\n        toinsert[toinsert.length - 1].firstChild.textContent = bk_div.children[0].textContent\n      }\n      // store reference to server id on output_area\n      output_area._bokeh_server_id = output.metadata[EXEC_MIME_TYPE][\"server_id\"];\n    }\n  }\n\n  function register_renderer(events, OutputArea) {\n\n    function append_mime(data, metadata, element) {\n      // create a DOM node to render to\n      const toinsert = this.create_output_subarea(\n        metadata,\n        CLASS_NAME,\n        EXEC_MIME_TYPE\n      );\n      this.keyboard_manager.register_events(toinsert);\n      // Render to node\n      const props = {data: data, metadata: metadata[EXEC_MIME_TYPE]};\n      render(props, toinsert[toinsert.length - 1]);\n      element.append(toinsert);\n      return toinsert\n    }\n\n    /* Handle when an output is cleared or removed */\n    events.on('clear_output.CodeCell', handleClearOutput);\n    events.on('delete.Cell', handleClearOutput);\n\n    /* Handle when a new output is added */\n    events.on('output_added.OutputArea', handleAddOutput);\n\n    /**\n     * Register the mime type and append_mime function with output_area\n     */\n    OutputArea.prototype.register_mime_type(EXEC_MIME_TYPE, append_mime, {\n      /* Is output safe? */\n      safe: true,\n      /* Index of renderer in `output_area.display_order` */\n      index: 0\n    });\n  }\n\n  // register the mime type if in Jupyter Notebook environment and previously unregistered\n  if (root.Jupyter !== undefined) {\n    const events = require('base/js/events');\n    const OutputArea = require('notebook/js/outputarea').OutputArea;\n\n    if (OutputArea.prototype.mime_types().indexOf(EXEC_MIME_TYPE) == -1) {\n      register_renderer(events, OutputArea);\n    }\n  }\n  if (typeof (root._bokeh_timeout) === \"undefined\" || force === true) {\n    root._bokeh_timeout = Date.now() + 5000;\n    root._bokeh_failed_load = false;\n  }\n\n  const NB_LOAD_WARNING = {'data': {'text/html':\n     \"<div style='background-color: #fdd'>\\n\"+\n     \"<p>\\n\"+\n     \"BokehJS does not appear to have successfully loaded. If loading BokehJS from CDN, this \\n\"+\n     \"may be due to a slow or bad network connection. Possible fixes:\\n\"+\n     \"</p>\\n\"+\n     \"<ul>\\n\"+\n     \"<li>re-rerun `output_notebook()` to attempt to load from CDN again, or</li>\\n\"+\n     \"<li>use INLINE resources instead, as so:</li>\\n\"+\n     \"</ul>\\n\"+\n     \"<code>\\n\"+\n     \"from bokeh.resources import INLINE\\n\"+\n     \"output_notebook(resources=INLINE)\\n\"+\n     \"</code>\\n\"+\n     \"</div>\"}};\n\n  function display_loaded(error = null) {\n    const el = document.getElementById(null);\n    if (el != null) {\n      const html = (() => {\n        if (typeof root.Bokeh === \"undefined\") {\n          if (error == null) {\n            return \"BokehJS is loading ...\";\n          } else {\n            return \"BokehJS failed to load.\";\n          }\n        } else {\n          const prefix = `BokehJS ${root.Bokeh.version}`;\n          if (error == null) {\n            return `${prefix} successfully loaded.`;\n          } else {\n            return `${prefix} <b>encountered errors</b> while loading and may not function as expected.`;\n          }\n        }\n      })();\n      el.innerHTML = html;\n\n      if (error != null) {\n        const wrapper = document.createElement(\"div\");\n        wrapper.style.overflow = \"auto\";\n        wrapper.style.height = \"5em\";\n        wrapper.style.resize = \"vertical\";\n        const content = document.createElement(\"div\");\n        content.style.fontFamily = \"monospace\";\n        content.style.whiteSpace = \"pre-wrap\";\n        content.style.backgroundColor = \"rgb(255, 221, 221)\";\n        content.textContent = error.stack ?? error.toString();\n        wrapper.append(content);\n        el.append(wrapper);\n      }\n    } else if (Date.now() < root._bokeh_timeout) {\n      setTimeout(() => display_loaded(error), 100);\n    }\n  }\n\n  function run_callbacks() {\n    try {\n      root._bokeh_onload_callbacks.forEach(function(callback) {\n        if (callback != null)\n          callback();\n      });\n    } finally {\n      delete root._bokeh_onload_callbacks\n    }\n    console.debug(\"Bokeh: all callbacks have finished\");\n  }\n\n  function load_libs(css_urls, js_urls, callback) {\n    if (css_urls == null) css_urls = [];\n    if (js_urls == null) js_urls = [];\n\n    root._bokeh_onload_callbacks.push(callback);\n    if (root._bokeh_is_loading > 0) {\n      console.debug(\"Bokeh: BokehJS is being loaded, scheduling callback at\", now());\n      return null;\n    }\n    if (js_urls == null || js_urls.length === 0) {\n      run_callbacks();\n      return null;\n    }\n    console.debug(\"Bokeh: BokehJS not loaded, scheduling load and callback at\", now());\n    root._bokeh_is_loading = css_urls.length + js_urls.length;\n\n    function on_load() {\n      root._bokeh_is_loading--;\n      if (root._bokeh_is_loading === 0) {\n        console.debug(\"Bokeh: all BokehJS libraries/stylesheets loaded\");\n        run_callbacks()\n      }\n    }\n\n    function on_error(url) {\n      console.error(\"failed to load \" + url);\n    }\n\n    for (let i = 0; i < css_urls.length; i++) {\n      const url = css_urls[i];\n      const element = document.createElement(\"link\");\n      element.onload = on_load;\n      element.onerror = on_error.bind(null, url);\n      element.rel = \"stylesheet\";\n      element.type = \"text/css\";\n      element.href = url;\n      console.debug(\"Bokeh: injecting link tag for BokehJS stylesheet: \", url);\n      document.body.appendChild(element);\n    }\n\n    for (let i = 0; i < js_urls.length; i++) {\n      const url = js_urls[i];\n      const element = document.createElement('script');\n      element.onload = on_load;\n      element.onerror = on_error.bind(null, url);\n      element.async = false;\n      element.src = url;\n      console.debug(\"Bokeh: injecting script tag for BokehJS library: \", url);\n      document.head.appendChild(element);\n    }\n  };\n\n  function inject_raw_css(css) {\n    const element = document.createElement(\"style\");\n    element.appendChild(document.createTextNode(css));\n    document.body.appendChild(element);\n  }\n\n  const js_urls = [\"https://cdn.bokeh.org/bokeh/release/bokeh-3.8.0.min.js\", \"https://cdn.bokeh.org/bokeh/release/bokeh-gl-3.8.0.min.js\", \"https://cdn.bokeh.org/bokeh/release/bokeh-widgets-3.8.0.min.js\", \"https://cdn.bokeh.org/bokeh/release/bokeh-tables-3.8.0.min.js\", \"https://cdn.bokeh.org/bokeh/release/bokeh-mathjax-3.8.0.min.js\"];\n  const css_urls = [];\n\n  const inline_js = [    function(Bokeh) {\n      Bokeh.set_log_level(\"info\");\n    },\nfunction(Bokeh) {\n    }\n  ];\n\n  function run_inline_js() {\n    if (root.Bokeh !== undefined || force === true) {\n      try {\n            for (let i = 0; i < inline_js.length; i++) {\n      inline_js[i].call(root, root.Bokeh);\n    }\n\n      } catch (error) {throw error;\n      }} else if (Date.now() < root._bokeh_timeout) {\n      setTimeout(run_inline_js, 100);\n    } else if (!root._bokeh_failed_load) {\n      console.log(\"Bokeh: BokehJS failed to load within specified timeout.\");\n      root._bokeh_failed_load = true;\n    } else if (force !== true) {\n      const cell = $(document.getElementById(null)).parents('.cell').data().cell;\n      cell.output_area.append_execute_result(NB_LOAD_WARNING)\n    }\n  }\n\n  if (root._bokeh_is_loading === 0) {\n    console.debug(\"Bokeh: BokehJS loaded, going straight to plotting\");\n    run_inline_js();\n  } else {\n    load_libs(css_urls, js_urls, function() {\n      console.debug(\"Bokeh: BokehJS plotting callback run at\", now());\n      run_inline_js();\n    });\n  }\n}(window));",
      "application/vnd.bokehjs_load.v0+json": ""
     },
     "metadata": {},
     "output_type": "display_data"
    },
    {
     "data": {
      "text/html": [
       "\n",
       "  <div id=\"b029d2d1-5c4b-451b-a3d4-d7245d226ee3\" data-root-id=\"p1008\" style=\"display: contents;\"></div>\n"
      ]
     },
     "metadata": {},
     "output_type": "display_data"
    },
    {
     "data": {
      "application/javascript": "(function(root) {\n  function embed_document(root) {\n  const docs_json = {\"9d8fbedf-8b8c-4c86-a122-ca3236d4ffd4\":{\"version\":\"3.8.0\",\"title\":\"Bokeh Application\",\"config\":{\"type\":\"object\",\"name\":\"DocumentConfig\",\"id\":\"p1089\",\"attributes\":{\"notifications\":{\"type\":\"object\",\"name\":\"Notifications\",\"id\":\"p1090\"}}},\"roots\":[{\"type\":\"object\",\"name\":\"Figure\",\"id\":\"p1008\",\"attributes\":{\"width\":650,\"height\":450,\"x_range\":{\"type\":\"object\",\"name\":\"DataRange1d\",\"id\":\"p1009\"},\"y_range\":{\"type\":\"object\",\"name\":\"DataRange1d\",\"id\":\"p1010\"},\"x_scale\":{\"type\":\"object\",\"name\":\"LinearScale\",\"id\":\"p1018\"},\"y_scale\":{\"type\":\"object\",\"name\":\"LinearScale\",\"id\":\"p1019\"},\"title\":{\"type\":\"object\",\"name\":\"Title\",\"id\":\"p1011\",\"attributes\":{\"text\":\"Lower Tail Test\\nNull Hypothesis p is greater than or equal to 0.25\\n\",\"text_color\":\"#E0E0E0\",\"text_font\":\"Helvetica\",\"text_font_size\":\"1.15em\"}},\"outline_line_color\":\"#E0E0E0\",\"outline_line_alpha\":0.25,\"renderers\":[{\"type\":\"object\",\"name\":\"GlyphRenderer\",\"id\":\"p1052\",\"attributes\":{\"data_source\":{\"type\":\"object\",\"name\":\"ColumnDataSource\",\"id\":\"p1043\",\"attributes\":{\"selected\":{\"type\":\"object\",\"name\":\"Selection\",\"id\":\"p1044\",\"attributes\":{\"indices\":[],\"line_indices\":[]}},\"selection_policy\":{\"type\":\"object\",\"name\":\"UnionRenderers\",\"id\":\"p1045\"},\"data\":{\"type\":\"map\",\"entries\":[[\"x\",[-3.0,-2.9393939393939394,-2.878787878787879,-2.8181818181818183,-2.757575757575758,-2.696969696969697,-2.6363636363636362,-2.5757575757575757,-2.515151515151515,-2.4545454545454546,-2.393939393939394,-2.333333333333333,-2.2727272727272725,-2.212121212121212,-2.1515151515151514,-2.090909090909091,-2.0303030303030303,-1.9696969696969697,-1.9090909090909092,-1.8484848484848484,-1.7878787878787878,-1.7272727272727273,-1.6666666666666665,-1.606060606060606,-1.5454545454545454,-1.4848484848484849,-1.4242424242424243,-1.3636363636363635,-1.303030303030303,-1.2424242424242424,-1.1818181818181817,-1.121212121212121,-1.0606060606060606,-1.0,-0.9393939393939394,-0.8787878787878789,-0.8181818181818183,-0.7575757575757573,-0.6969696969696968,-0.6363636363636362,-0.5757575757575757,-0.5151515151515151,-0.4545454545454546,-0.39393939393939403,-0.33333333333333304,-0.2727272727272725,-0.21212121212121193,-0.15151515151515138,-0.09090909090909083,-0.030303030303030276,0.030303030303030276,0.09090909090909083,0.15151515151515138,0.21212121212121238,0.27272727272727293,0.3333333333333335,0.39393939393939403,0.4545454545454546,0.5151515151515151,0.5757575757575757,0.6363636363636367,0.6969696969696972,0.7575757575757578,0.8181818181818183,0.8787878787878789,0.9393939393939394,1.0,1.0606060606060606,1.121212121212121,1.1818181818181817,1.2424242424242422,1.3030303030303028,1.3636363636363633,1.4242424242424248,1.4848484848484853,1.5454545454545459,1.6060606060606064,1.666666666666667,1.7272727272727275,1.787878787878788,1.8484848484848486,1.9090909090909092,1.9696969696969697,2.0303030303030303,2.090909090909091,2.1515151515151514,2.212121212121212,2.2727272727272725,2.333333333333334,2.3939393939393945,2.454545454545455,2.5151515151515156,2.575757575757576,2.6363636363636367,2.6969696969696972,2.757575757575758,2.8181818181818183,2.878787878787879,2.9393939393939394,3.0]],[\"y\",[0.03489994191329647,0.04178204907640429,0.04983788009193033,0.05922897025852322,0.07013157604204304,0.08273662680958743,0.09724937475868577,0.11388869596799125,0.1328859966698013,0.15448368168791593,0.17893314669070426,0.2064922626329588,0.2374223296018675,0.27198448827612776,0.3104355903074773,0.3530235440054315,0.3999821685153526,0.45152560789081836,0.507842375633703,0.5690891198700466,0.6353842187170393,0.70680133387133,0.7833630672511424,0.8650348798644784,0.9517194431633055,1.0432516002230547,1.1393941164717942,1.2398343968039909,1.3441823373119812,1.4519694652911488,1.5626495005625594,1.675600444674415,1.7901282725940841,1.9054722647301798,2.020811976408292,2.135275798359582,2.2479510166503234,2.357895235210703,2.4641489802379546,2.5657492648171263,2.661743855665185,2.751205953416242,2.833248974631463,2.9070411088288104,2.971819318111197,3.026902450942889,3.071703155456959,3.105738301184858,3.128637650734115,3.1401505638039713,3.1401505638039713,3.128637650734115,3.105738301184858,3.071703155456959,3.0269024509428886,2.9718193181111965,2.9070411088288104,2.833248974631463,2.751205953416242,2.661743855665185,2.5657492648171254,2.464148980237954,2.357895235210702,2.2479510166503234,2.135275798359582,2.020811976408292,1.9054722647301798,1.7901282725940841,1.675600444674415,1.5626495005625594,1.4519694652911492,1.3441823373119817,1.239834396803991,1.1393941164717936,1.043251600223054,0.9517194431633047,0.8650348798644778,0.7833630672511418,0.7068013338713297,0.635384218717039,0.5690891198700464,0.507842375633703,0.45152560789081836,0.3999821685153526,0.3530235440054315,0.3104355903074773,0.27198448827612776,0.2374223296018675,0.20649226263295836,0.17893314669070412,0.1544836816879157,0.1328859966698012,0.11388869596799116,0.09724937475868568,0.08273662680958732,0.07013157604204304,0.05922897025852322,0.04983788009193033,0.04178204907640429,0.03489994191329647]]]}}},\"view\":{\"type\":\"object\",\"name\":\"CDSView\",\"id\":\"p1053\",\"attributes\":{\"filter\":{\"type\":\"object\",\"name\":\"AllIndices\",\"id\":\"p1054\"}}},\"glyph\":{\"type\":\"object\",\"name\":\"Line\",\"id\":\"p1049\",\"attributes\":{\"x\":{\"type\":\"field\",\"field\":\"x\"},\"y\":{\"type\":\"field\",\"field\":\"y\"},\"line_color\":\"gainsboro\",\"line_alpha\":0.9,\"line_width\":2}},\"nonselection_glyph\":{\"type\":\"object\",\"name\":\"Line\",\"id\":\"p1050\",\"attributes\":{\"x\":{\"type\":\"field\",\"field\":\"x\"},\"y\":{\"type\":\"field\",\"field\":\"y\"},\"line_color\":\"gainsboro\",\"line_alpha\":0.1,\"line_width\":2}},\"muted_glyph\":{\"type\":\"object\",\"name\":\"Line\",\"id\":\"p1051\",\"attributes\":{\"x\":{\"type\":\"field\",\"field\":\"x\"},\"y\":{\"type\":\"field\",\"field\":\"y\"},\"line_color\":\"gainsboro\",\"line_alpha\":0.2,\"line_width\":2}}}},{\"type\":\"object\",\"name\":\"GlyphRenderer\",\"id\":\"p1061\",\"attributes\":{\"data_source\":{\"type\":\"object\",\"name\":\"ColumnDataSource\",\"id\":\"p1055\",\"attributes\":{\"selected\":{\"type\":\"object\",\"name\":\"Selection\",\"id\":\"p1056\",\"attributes\":{\"indices\":[],\"line_indices\":[]}},\"selection_policy\":{\"type\":\"object\",\"name\":\"UnionRenderers\",\"id\":\"p1057\"},\"data\":{\"type\":\"map\",\"entries\":[[\"x\",[0,0]],[\"y\",[0.03489994191329647,3.141592653589793]]]}}},\"view\":{\"type\":\"object\",\"name\":\"CDSView\",\"id\":\"p1062\",\"attributes\":{\"filter\":{\"type\":\"object\",\"name\":\"AllIndices\",\"id\":\"p1063\"}}},\"glyph\":{\"type\":\"object\",\"name\":\"Line\",\"id\":\"p1058\",\"attributes\":{\"x\":{\"type\":\"field\",\"field\":\"x\"},\"y\":{\"type\":\"field\",\"field\":\"y\"},\"line_color\":\"firebrick\",\"line_alpha\":0.75}},\"nonselection_glyph\":{\"type\":\"object\",\"name\":\"Line\",\"id\":\"p1059\",\"attributes\":{\"x\":{\"type\":\"field\",\"field\":\"x\"},\"y\":{\"type\":\"field\",\"field\":\"y\"},\"line_color\":\"firebrick\",\"line_alpha\":0.1}},\"muted_glyph\":{\"type\":\"object\",\"name\":\"Line\",\"id\":\"p1060\",\"attributes\":{\"x\":{\"type\":\"field\",\"field\":\"x\"},\"y\":{\"type\":\"field\",\"field\":\"y\"},\"line_color\":\"firebrick\",\"line_alpha\":0.2}}}},{\"type\":\"object\",\"name\":\"GlyphRenderer\",\"id\":\"p1072\",\"attributes\":{\"data_source\":{\"type\":\"object\",\"name\":\"ColumnDataSource\",\"id\":\"p1066\",\"attributes\":{\"selected\":{\"type\":\"object\",\"name\":\"Selection\",\"id\":\"p1067\",\"attributes\":{\"indices\":[],\"line_indices\":[]}},\"selection_policy\":{\"type\":\"object\",\"name\":\"UnionRenderers\",\"id\":\"p1068\"},\"data\":{\"type\":\"map\",\"entries\":[[\"x\",[-1.1818181818181817,-1.1818181818181817]],[\"y\",[0.03489994191329647,1.5626495005625594]]]}}},\"view\":{\"type\":\"object\",\"name\":\"CDSView\",\"id\":\"p1073\",\"attributes\":{\"filter\":{\"type\":\"object\",\"name\":\"AllIndices\",\"id\":\"p1074\"}}},\"glyph\":{\"type\":\"object\",\"name\":\"Line\",\"id\":\"p1069\",\"attributes\":{\"x\":{\"type\":\"field\",\"field\":\"x\"},\"y\":{\"type\":\"field\",\"field\":\"y\"},\"line_color\":\"darkorange\",\"line_alpha\":0.75,\"line_width\":3}},\"nonselection_glyph\":{\"type\":\"object\",\"name\":\"Line\",\"id\":\"p1070\",\"attributes\":{\"x\":{\"type\":\"field\",\"field\":\"x\"},\"y\":{\"type\":\"field\",\"field\":\"y\"},\"line_color\":\"darkorange\",\"line_alpha\":0.1,\"line_width\":3}},\"muted_glyph\":{\"type\":\"object\",\"name\":\"Line\",\"id\":\"p1071\",\"attributes\":{\"x\":{\"type\":\"field\",\"field\":\"x\"},\"y\":{\"type\":\"field\",\"field\":\"y\"},\"line_color\":\"darkorange\",\"line_alpha\":0.2,\"line_width\":3}}}},{\"type\":\"object\",\"name\":\"GlyphRenderer\",\"id\":\"p1085\",\"attributes\":{\"data_source\":{\"type\":\"object\",\"name\":\"ColumnDataSource\",\"id\":\"p1076\",\"attributes\":{\"selected\":{\"type\":\"object\",\"name\":\"Selection\",\"id\":\"p1077\",\"attributes\":{\"indices\":[],\"line_indices\":[]}},\"selection_policy\":{\"type\":\"object\",\"name\":\"UnionRenderers\",\"id\":\"p1078\"},\"data\":{\"type\":\"map\",\"entries\":[[\"x\",[-3.0,-2.9393939393939394,-2.878787878787879,-2.8181818181818183,-2.757575757575758,-2.696969696969697,-2.6363636363636362,-2.5757575757575757,-2.515151515151515,-2.4545454545454546,-2.393939393939394,-2.333333333333333,-2.2727272727272725,-2.212121212121212,-2.1515151515151514,-2.090909090909091,-2.0303030303030303,-1.9696969696969697,-1.9090909090909092,-1.8484848484848484,-1.7878787878787878,-1.7272727272727273,-1.6666666666666665,-1.606060606060606,-1.5454545454545454,-1.4848484848484849,-1.4242424242424243]],[\"floor\",{\"type\":\"ndarray\",\"array\":{\"type\":\"bytes\",\"data\":\"H4sIAAEAAAAC/9t3wGdX+r2F9vuGGQ0ATcYSfNgAAAA=\"},\"shape\":[27],\"dtype\":\"float64\",\"order\":\"little\"}],[\"y\",[0.03489994191329647,0.04178204907640429,0.04983788009193033,0.05922897025852322,0.07013157604204304,0.08273662680958743,0.09724937475868577,0.11388869596799125,0.1328859966698013,0.15448368168791593,0.17893314669070426,0.2064922626329588,0.2374223296018675,0.27198448827612776,0.3104355903074773,0.3530235440054315,0.3999821685153526,0.45152560789081836,0.507842375633703,0.5690891198700466,0.6353842187170393,0.70680133387133,0.7833630672511424,0.8650348798644784,0.9517194431633055,1.0432516002230547,1.1393941164717942]]]}}},\"view\":{\"type\":\"object\",\"name\":\"CDSView\",\"id\":\"p1086\",\"attributes\":{\"filter\":{\"type\":\"object\",\"name\":\"AllIndices\",\"id\":\"p1087\"}}},\"glyph\":{\"type\":\"object\",\"name\":\"VArea\",\"id\":\"p1082\",\"attributes\":{\"x\":{\"type\":\"field\",\"field\":\"x\"},\"y1\":{\"type\":\"field\",\"field\":\"floor\"},\"y2\":{\"type\":\"field\",\"field\":\"y\"},\"fill_color\":\"dodgerblue\",\"fill_alpha\":0.75}},\"nonselection_glyph\":{\"type\":\"object\",\"name\":\"VArea\",\"id\":\"p1083\",\"attributes\":{\"x\":{\"type\":\"field\",\"field\":\"x\"},\"y1\":{\"type\":\"field\",\"field\":\"floor\"},\"y2\":{\"type\":\"field\",\"field\":\"y\"},\"fill_color\":\"dodgerblue\",\"fill_alpha\":0.1,\"hatch_alpha\":{\"type\":\"value\",\"value\":0.1}}},\"muted_glyph\":{\"type\":\"object\",\"name\":\"VArea\",\"id\":\"p1084\",\"attributes\":{\"x\":{\"type\":\"field\",\"field\":\"x\"},\"y1\":{\"type\":\"field\",\"field\":\"floor\"},\"y2\":{\"type\":\"field\",\"field\":\"y\"},\"fill_color\":\"dodgerblue\",\"fill_alpha\":0.2,\"hatch_alpha\":{\"type\":\"value\",\"value\":0.2}}}}}],\"toolbar\":{\"type\":\"object\",\"name\":\"Toolbar\",\"id\":\"p1017\",\"attributes\":{\"tools\":[{\"type\":\"object\",\"name\":\"PanTool\",\"id\":\"p1030\"},{\"type\":\"object\",\"name\":\"WheelZoomTool\",\"id\":\"p1031\",\"attributes\":{\"renderers\":\"auto\"}},{\"type\":\"object\",\"name\":\"BoxZoomTool\",\"id\":\"p1032\",\"attributes\":{\"dimensions\":\"both\",\"overlay\":{\"type\":\"object\",\"name\":\"BoxAnnotation\",\"id\":\"p1033\",\"attributes\":{\"syncable\":false,\"line_color\":\"black\",\"line_alpha\":1.0,\"line_width\":2,\"line_dash\":[4,4],\"fill_color\":\"lightgrey\",\"fill_alpha\":0.5,\"level\":\"overlay\",\"visible\":false,\"left\":{\"type\":\"number\",\"value\":\"nan\"},\"right\":{\"type\":\"number\",\"value\":\"nan\"},\"top\":{\"type\":\"number\",\"value\":\"nan\"},\"bottom\":{\"type\":\"number\",\"value\":\"nan\"},\"left_units\":\"canvas\",\"right_units\":\"canvas\",\"top_units\":\"canvas\",\"bottom_units\":\"canvas\",\"handles\":{\"type\":\"object\",\"name\":\"BoxInteractionHandles\",\"id\":\"p1039\",\"attributes\":{\"all\":{\"type\":\"object\",\"name\":\"AreaVisuals\",\"id\":\"p1038\",\"attributes\":{\"fill_color\":\"white\",\"hover_fill_color\":\"lightgray\"}}}}}}}},{\"type\":\"object\",\"name\":\"SaveTool\",\"id\":\"p1040\"},{\"type\":\"object\",\"name\":\"ResetTool\",\"id\":\"p1041\"},{\"type\":\"object\",\"name\":\"HelpTool\",\"id\":\"p1042\"}]}},\"left\":[{\"type\":\"object\",\"name\":\"LinearAxis\",\"id\":\"p1025\",\"attributes\":{\"ticker\":{\"type\":\"object\",\"name\":\"BasicTicker\",\"id\":\"p1026\",\"attributes\":{\"mantissas\":[1,2,5]}},\"formatter\":{\"type\":\"object\",\"name\":\"BasicTickFormatter\",\"id\":\"p1027\"},\"axis_label_standoff\":10,\"axis_label_text_color\":\"#E0E0E0\",\"axis_label_text_font\":\"Helvetica\",\"axis_label_text_font_size\":\"1.25em\",\"axis_label_text_font_style\":\"normal\",\"major_label_policy\":{\"type\":\"object\",\"name\":\"AllLabels\",\"id\":\"p1028\"},\"major_label_text_color\":\"#E0E0E0\",\"major_label_text_font\":\"Helvetica\",\"major_label_text_font_size\":\"1.025em\",\"axis_line_color\":\"#E0E0E0\",\"axis_line_alpha\":0,\"major_tick_line_color\":\"#E0E0E0\",\"major_tick_line_alpha\":0,\"minor_tick_line_color\":\"#E0E0E0\",\"minor_tick_line_alpha\":0}}],\"below\":[{\"type\":\"object\",\"name\":\"LinearAxis\",\"id\":\"p1020\",\"attributes\":{\"ticker\":{\"type\":\"object\",\"name\":\"BasicTicker\",\"id\":\"p1021\",\"attributes\":{\"mantissas\":[1,2,5]}},\"formatter\":{\"type\":\"object\",\"name\":\"BasicTickFormatter\",\"id\":\"p1022\"},\"axis_label_standoff\":10,\"axis_label_text_color\":\"#E0E0E0\",\"axis_label_text_font\":\"Helvetica\",\"axis_label_text_font_size\":\"1.25em\",\"axis_label_text_font_style\":\"normal\",\"major_label_policy\":{\"type\":\"object\",\"name\":\"AllLabels\",\"id\":\"p1023\"},\"major_label_text_color\":\"#E0E0E0\",\"major_label_text_font\":\"Helvetica\",\"major_label_text_font_size\":\"1.025em\",\"axis_line_color\":\"#E0E0E0\",\"axis_line_alpha\":0,\"major_tick_line_color\":\"#E0E0E0\",\"major_tick_line_alpha\":0,\"minor_tick_line_color\":\"#E0E0E0\",\"minor_tick_line_alpha\":0}}],\"center\":[{\"type\":\"object\",\"name\":\"Grid\",\"id\":\"p1024\",\"attributes\":{\"axis\":{\"id\":\"p1020\"},\"grid_line_color\":\"#E0E0E0\",\"grid_line_alpha\":0.25}},{\"type\":\"object\",\"name\":\"Grid\",\"id\":\"p1029\",\"attributes\":{\"dimension\":1,\"axis\":{\"id\":\"p1025\"},\"grid_line_color\":\"#E0E0E0\",\"grid_line_alpha\":0.25}},{\"type\":\"object\",\"name\":\"Legend\",\"id\":\"p1064\",\"attributes\":{\"border_line_alpha\":0,\"background_fill_color\":\"#20262B\",\"background_fill_alpha\":0.25,\"label_text_color\":\"#E0E0E0\",\"label_text_font\":\"Helvetica\",\"label_text_font_size\":\"1.025em\",\"label_standoff\":8,\"glyph_width\":15,\"spacing\":8,\"items\":[{\"type\":\"object\",\"name\":\"LegendItem\",\"id\":\"p1065\",\"attributes\":{\"label\":{\"type\":\"value\",\"value\":\"mean: 0\"},\"renderers\":[{\"id\":\"p1061\"}]}},{\"type\":\"object\",\"name\":\"LegendItem\",\"id\":\"p1075\",\"attributes\":{\"label\":{\"type\":\"value\",\"value\":\"test statistic -1.1818\"},\"renderers\":[{\"id\":\"p1072\"}]}},{\"type\":\"object\",\"name\":\"LegendItem\",\"id\":\"p1088\",\"attributes\":{\"label\":{\"type\":\"value\",\"value\":\"lower region of rejection\"},\"renderers\":[{\"id\":\"p1085\"}]}}]}}],\"background_fill_color\":\"#20262B\",\"border_fill_color\":\"#15191C\"}}]}};\n  const render_items = [{\"docid\":\"9d8fbedf-8b8c-4c86-a122-ca3236d4ffd4\",\"roots\":{\"p1008\":\"b029d2d1-5c4b-451b-a3d4-d7245d226ee3\"},\"root_ids\":[\"p1008\"]}];\n  void root.Bokeh.embed.embed_items_notebook(docs_json, render_items);\n  }\n  if (root.Bokeh !== undefined) {\n    embed_document(root);\n  } else {\n    let attempts = 0;\n    const timer = setInterval(function(root) {\n      if (root.Bokeh !== undefined) {\n        clearInterval(timer);\n        embed_document(root);\n      } else {\n        attempts++;\n        if (attempts > 100) {\n          clearInterval(timer);\n          console.log(\"Bokeh: ERROR: Unable to run BokehJS code because BokehJS library is missing\");\n        }\n      }\n    }, 10, root)\n  }\n})(window);",
      "application/vnd.bokehjs_exec.v0+json": ""
     },
     "metadata": {
      "application/vnd.bokehjs_exec.v0+json": {
       "id": "p1008"
      }
     },
     "output_type": "display_data"
    }
   ],
   "source": [
    "\n",
    "import numpy as np \n",
    "import sys\n",
    "sys.path.insert(0, '../..')\n",
    "from resources import test, datum \n",
    "\n",
    "test = test.Test()\n",
    "data = datum.Data()\n",
    "\n",
    "def create_test_params():    \n",
    "    test_type = \"prop\"\n",
    "    CL = 0.95\n",
    "    mu = 0\n",
    "    sigma1 = 1\n",
    "    sigma2 = 0\n",
    "    tail = 'lower'   \n",
    "    N = 0                                      \n",
    "    n1 = 100\n",
    "    n2 = 80\n",
    "    xbar1 = 0 # the mean of the expected value\n",
    "    xbar2 = 0\n",
    "    p_hat = 0\n",
    "    p1 = 0.30\n",
    "    p2 = 0.40\n",
    "    observed_value = 0 # the historical mean\n",
    "    successes = 20    \n",
    "    p = 0.25\n",
    "    var1 = 0\n",
    "    s1 = 1\n",
    "    s2 = 0\n",
    "    null_hypo = 'p is greater than or equal to 0.25'\n",
    "    alt_hypo = 'p is less than 0.25'\n",
    "    \n",
    "    # no need to check mu and sigma values for test type proportion \n",
    "    mean = mu\n",
    "    std_dev = sigma1\n",
    "    #std_dev = sigma1 if sigma1 > 0 else s1\n",
    "    # mean = mu if mu > 0 else xbar1\n",
    "    \n",
    "    # for a proportion test I will use a standard normal distr\n",
    "    x_data = list(np.linspace(-3, 3, n1))\n",
    "    y_data = data.get_normal_dist(x_arr= x_data, mu = mean, sigma = std_dev)\n",
    "    hypothesize_diff = 30\n",
    "    statement = True \n",
    "    visual = True \n",
    "\n",
    "\n",
    "    \n",
    "    margin_of_error_for_calculating_minimum_n = 2\n",
    "    \n",
    "    test_params = {}\n",
    "    test_params['cl'] = CL\n",
    "    test_params['type'] = test_type \n",
    "    test_params['mu'] = mu\n",
    "    test_params['tail'] = tail\n",
    "    test_params['N'] = N\n",
    "    test_params['sigma1'] = sigma1\n",
    "    test_params['sigma2'] = sigma2\n",
    "    test_params['n1'] = n1\n",
    "    test_params['n2'] = n2\n",
    "    test_params['xbar1'] = xbar1\n",
    "    test_params['xbar2'] = xbar2\n",
    "    test_params['p_hat'] = p_hat\n",
    "    test_params['p'] = p\n",
    "    test_params['p1'] = p1\n",
    "    test_params['p2'] = p2\n",
    "    test_params['observed_value'] = observed_value\n",
    "    test_params['successes'] = successes\n",
    "    test_params['var1'] = var1\n",
    "    test_params['s1'] = s1\n",
    "    test_params['s2'] = s2\n",
    "    test_params['hypothesize_diff'] = hypothesize_diff\n",
    "    test_params['x_data'] = x_data\n",
    "    test_params['y_data'] = y_data\n",
    "    test_params['null_hypo'] = null_hypo\n",
    "    test_params['alt_hypo'] = alt_hypo\n",
    "    test_params['mar_err_min_n'] =   margin_of_error_for_calculating_minimum_n\n",
    "    test_params[\"statement\"] = statement\n",
    "    test_params[\"visual\"] = visual\n",
    "    test\n",
    "    return test_params\n",
    "\n",
    "# check out the data before testing \n",
    "# params = create_test_params()\n",
    "# data.check_normality(params[\"y_data\"])\n",
    "\n",
    "test.make_hypothesis_test(info = create_test_params())\n",
    "\n"
   ]
  }
 ],
 "metadata": {
  "kernelspec": {
   "display_name": ".hypoVenv",
   "language": "python",
   "name": "python3"
  },
  "language_info": {
   "codemirror_mode": {
    "name": "ipython",
    "version": 3
   },
   "file_extension": ".py",
   "mimetype": "text/x-python",
   "name": "python",
   "nbconvert_exporter": "python",
   "pygments_lexer": "ipython3",
   "version": "3.13.7"
  }
 },
 "nbformat": 4,
 "nbformat_minor": 2
}
