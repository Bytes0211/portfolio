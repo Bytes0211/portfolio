{
 "cells": [
  {
   "cell_type": "markdown",
   "metadata": {},
   "source": [
    "### Hypothesis Test for Linear Regression \n",
    "\n",
    "<b>Objective:</b><br>\n",
    "A test to determine the significance of the regression  slope<br>\n",
    "Here we will use a two-tail test to determine if the slope is significant, however the same rules would apply for a upper or lower one tail test. The population least squares regression line would be $y = \\beta_0 + \\beta_1 + \\epsilon$<br>Where:<br><br>\n",
    "\n",
    "* $\\beta_0$ (pronounced beta naught) is the population y-intercept\n",
    "* $\\beta_1$ (pronounced beta one) is the population slope \n",
    "* $\\epsilon$ (error term) \n",
    "<Br><br>\n",
    "\n",
    "#### The Data and Problem Statement\n",
    "We will only be using the two-tailed test for a population slope.<br><br>\n",
    "The Hypothesis is centered around the relationship between x and y. <br><br>\n",
    "\n",
    "* $H_0: \\beta_1 = 0$\n",
    "* $H_0: \\beta_1 \\ne 0$\n",
    "<br>\n",
    "\n",
    "If the regression equation has a slope of zero, then every x value will give the same y value and the regression equation would be useless for prediction. We should perform a t-test to see if the slope is significantly different from zero before using the regression equation for prediction. The numeric value of t will be the same as the t-test for a correlation. The two test statistic formulas are algebraically equal; however, the formulas are different and we use a different parameter in the hypotheses.<br><br>\n",
    "\n",
    "The data we will use depicts the relationship of hours studied as the independent variable and exam scores as the dependent variable. <br><Br>\n",
    "If the slope was horizontal $(\\beta_1 = 0)$ the regression line would give the same y-value for every input of $x$ and would be of no use. \n",
    "<br>"
   ]
  },
  {
   "cell_type": "code",
   "execution_count": 14,
   "metadata": {},
   "outputs": [
    {
     "data": {
      "application/javascript": "(function(root) {\n  function now() {\n    return new Date();\n  }\n\n  const force = true;\n\n  if (typeof root._bokeh_onload_callbacks === \"undefined\" || force === true) {\n    root._bokeh_onload_callbacks = [];\n    root._bokeh_is_loading = undefined;\n  }\n\nconst JS_MIME_TYPE = 'application/javascript';\n  const HTML_MIME_TYPE = 'text/html';\n  const EXEC_MIME_TYPE = 'application/vnd.bokehjs_exec.v0+json';\n  const CLASS_NAME = 'output_bokeh rendered_html';\n\n  /**\n   * Render data to the DOM node\n   */\n  function render(props, node) {\n    const script = document.createElement(\"script\");\n    node.appendChild(script);\n  }\n\n  /**\n   * Handle when an output is cleared or removed\n   */\n  function handleClearOutput(event, handle) {\n    const cell = handle.cell;\n\n    const id = cell.output_area._bokeh_element_id;\n    const server_id = cell.output_area._bokeh_server_id;\n    // Clean up Bokeh references\n    if (id != null && id in Bokeh.index) {\n      Bokeh.index[id].model.document.clear();\n      delete Bokeh.index[id];\n    }\n\n    if (server_id !== undefined) {\n      // Clean up Bokeh references\n      const cmd_clean = \"from bokeh.io.state import curstate; print(curstate().uuid_to_server['\" + server_id + \"'].get_sessions()[0].document.roots[0]._id)\";\n      cell.notebook.kernel.execute(cmd_clean, {\n        iopub: {\n          output: function(msg) {\n            const id = msg.content.text.trim();\n            if (id in Bokeh.index) {\n              Bokeh.index[id].model.document.clear();\n              delete Bokeh.index[id];\n            }\n          }\n        }\n      });\n      // Destroy server and session\n      const cmd_destroy = \"import bokeh.io.notebook as ion; ion.destroy_server('\" + server_id + \"')\";\n      cell.notebook.kernel.execute(cmd_destroy);\n    }\n  }\n\n  /**\n   * Handle when a new output is added\n   */\n  function handleAddOutput(event, handle) {\n    const output_area = handle.output_area;\n    const output = handle.output;\n\n    // limit handleAddOutput to display_data with EXEC_MIME_TYPE content only\n    if ((output.output_type != \"display_data\") || (!Object.prototype.hasOwnProperty.call(output.data, EXEC_MIME_TYPE))) {\n      return\n    }\n\n    const toinsert = output_area.element.find(\".\" + CLASS_NAME.split(' ')[0]);\n\n    if (output.metadata[EXEC_MIME_TYPE][\"id\"] !== undefined) {\n      toinsert[toinsert.length - 1].firstChild.textContent = output.data[JS_MIME_TYPE];\n      // store reference to embed id on output_area\n      output_area._bokeh_element_id = output.metadata[EXEC_MIME_TYPE][\"id\"];\n    }\n    if (output.metadata[EXEC_MIME_TYPE][\"server_id\"] !== undefined) {\n      const bk_div = document.createElement(\"div\");\n      bk_div.innerHTML = output.data[HTML_MIME_TYPE];\n      const script_attrs = bk_div.children[0].attributes;\n      for (let i = 0; i < script_attrs.length; i++) {\n        toinsert[toinsert.length - 1].firstChild.setAttribute(script_attrs[i].name, script_attrs[i].value);\n        toinsert[toinsert.length - 1].firstChild.textContent = bk_div.children[0].textContent\n      }\n      // store reference to server id on output_area\n      output_area._bokeh_server_id = output.metadata[EXEC_MIME_TYPE][\"server_id\"];\n    }\n  }\n\n  function register_renderer(events, OutputArea) {\n\n    function append_mime(data, metadata, element) {\n      // create a DOM node to render to\n      const toinsert = this.create_output_subarea(\n        metadata,\n        CLASS_NAME,\n        EXEC_MIME_TYPE\n      );\n      this.keyboard_manager.register_events(toinsert);\n      // Render to node\n      const props = {data: data, metadata: metadata[EXEC_MIME_TYPE]};\n      render(props, toinsert[toinsert.length - 1]);\n      element.append(toinsert);\n      return toinsert\n    }\n\n    /* Handle when an output is cleared or removed */\n    events.on('clear_output.CodeCell', handleClearOutput);\n    events.on('delete.Cell', handleClearOutput);\n\n    /* Handle when a new output is added */\n    events.on('output_added.OutputArea', handleAddOutput);\n\n    /**\n     * Register the mime type and append_mime function with output_area\n     */\n    OutputArea.prototype.register_mime_type(EXEC_MIME_TYPE, append_mime, {\n      /* Is output safe? */\n      safe: true,\n      /* Index of renderer in `output_area.display_order` */\n      index: 0\n    });\n  }\n\n  // register the mime type if in Jupyter Notebook environment and previously unregistered\n  if (root.Jupyter !== undefined) {\n    const events = require('base/js/events');\n    const OutputArea = require('notebook/js/outputarea').OutputArea;\n\n    if (OutputArea.prototype.mime_types().indexOf(EXEC_MIME_TYPE) == -1) {\n      register_renderer(events, OutputArea);\n    }\n  }\n  if (typeof (root._bokeh_timeout) === \"undefined\" || force === true) {\n    root._bokeh_timeout = Date.now() + 5000;\n    root._bokeh_failed_load = false;\n  }\n\n  const NB_LOAD_WARNING = {'data': {'text/html':\n     \"<div style='background-color: #fdd'>\\n\"+\n     \"<p>\\n\"+\n     \"BokehJS does not appear to have successfully loaded. If loading BokehJS from CDN, this \\n\"+\n     \"may be due to a slow or bad network connection. Possible fixes:\\n\"+\n     \"</p>\\n\"+\n     \"<ul>\\n\"+\n     \"<li>re-rerun `output_notebook()` to attempt to load from CDN again, or</li>\\n\"+\n     \"<li>use INLINE resources instead, as so:</li>\\n\"+\n     \"</ul>\\n\"+\n     \"<code>\\n\"+\n     \"from bokeh.resources import INLINE\\n\"+\n     \"output_notebook(resources=INLINE)\\n\"+\n     \"</code>\\n\"+\n     \"</div>\"}};\n\n  function display_loaded() {\n    const el = document.getElementById(null);\n    if (el != null) {\n      el.textContent = \"BokehJS is loading...\";\n    }\n    if (root.Bokeh !== undefined) {\n      if (el != null) {\n        el.textContent = \"BokehJS \" + root.Bokeh.version + \" successfully loaded.\";\n      }\n    } else if (Date.now() < root._bokeh_timeout) {\n      setTimeout(display_loaded, 100)\n    }\n  }\n\n  function run_callbacks() {\n    try {\n      root._bokeh_onload_callbacks.forEach(function(callback) {\n        if (callback != null)\n          callback();\n      });\n    } finally {\n      delete root._bokeh_onload_callbacks\n    }\n    console.debug(\"Bokeh: all callbacks have finished\");\n  }\n\n  function load_libs(css_urls, js_urls, callback) {\n    if (css_urls == null) css_urls = [];\n    if (js_urls == null) js_urls = [];\n\n    root._bokeh_onload_callbacks.push(callback);\n    if (root._bokeh_is_loading > 0) {\n      console.debug(\"Bokeh: BokehJS is being loaded, scheduling callback at\", now());\n      return null;\n    }\n    if (js_urls == null || js_urls.length === 0) {\n      run_callbacks();\n      return null;\n    }\n    console.debug(\"Bokeh: BokehJS not loaded, scheduling load and callback at\", now());\n    root._bokeh_is_loading = css_urls.length + js_urls.length;\n\n    function on_load() {\n      root._bokeh_is_loading--;\n      if (root._bokeh_is_loading === 0) {\n        console.debug(\"Bokeh: all BokehJS libraries/stylesheets loaded\");\n        run_callbacks()\n      }\n    }\n\n    function on_error(url) {\n      console.error(\"failed to load \" + url);\n    }\n\n    for (let i = 0; i < css_urls.length; i++) {\n      const url = css_urls[i];\n      const element = document.createElement(\"link\");\n      element.onload = on_load;\n      element.onerror = on_error.bind(null, url);\n      element.rel = \"stylesheet\";\n      element.type = \"text/css\";\n      element.href = url;\n      console.debug(\"Bokeh: injecting link tag for BokehJS stylesheet: \", url);\n      document.body.appendChild(element);\n    }\n\n    for (let i = 0; i < js_urls.length; i++) {\n      const url = js_urls[i];\n      const element = document.createElement('script');\n      element.onload = on_load;\n      element.onerror = on_error.bind(null, url);\n      element.async = false;\n      element.src = url;\n      console.debug(\"Bokeh: injecting script tag for BokehJS library: \", url);\n      document.head.appendChild(element);\n    }\n  };\n\n  function inject_raw_css(css) {\n    const element = document.createElement(\"style\");\n    element.appendChild(document.createTextNode(css));\n    document.body.appendChild(element);\n  }\n\n  const js_urls = [\"https://cdn.bokeh.org/bokeh/release/bokeh-3.1.1.min.js\", \"https://cdn.bokeh.org/bokeh/release/bokeh-gl-3.1.1.min.js\", \"https://cdn.bokeh.org/bokeh/release/bokeh-widgets-3.1.1.min.js\", \"https://cdn.bokeh.org/bokeh/release/bokeh-tables-3.1.1.min.js\", \"https://cdn.bokeh.org/bokeh/release/bokeh-mathjax-3.1.1.min.js\"];\n  const css_urls = [];\n\n  const inline_js = [    function(Bokeh) {\n      Bokeh.set_log_level(\"info\");\n    },\nfunction(Bokeh) {\n    }\n  ];\n\n  function run_inline_js() {\n    if (root.Bokeh !== undefined || force === true) {\n          for (let i = 0; i < inline_js.length; i++) {\n      inline_js[i].call(root, root.Bokeh);\n    }\n} else if (Date.now() < root._bokeh_timeout) {\n      setTimeout(run_inline_js, 100);\n    } else if (!root._bokeh_failed_load) {\n      console.log(\"Bokeh: BokehJS failed to load within specified timeout.\");\n      root._bokeh_failed_load = true;\n    } else if (force !== true) {\n      const cell = $(document.getElementById(null)).parents('.cell').data().cell;\n      cell.output_area.append_execute_result(NB_LOAD_WARNING)\n    }\n  }\n\n  if (root._bokeh_is_loading === 0) {\n    console.debug(\"Bokeh: BokehJS loaded, going straight to plotting\");\n    run_inline_js();\n  } else {\n    load_libs(css_urls, js_urls, function() {\n      console.debug(\"Bokeh: BokehJS plotting callback run at\", now());\n      run_inline_js();\n    });\n  }\n}(window));",
      "application/vnd.bokehjs_load.v0+json": ""
     },
     "metadata": {},
     "output_type": "display_data"
    },
    {
     "data": {
      "text/html": [
       "\n",
       "  <div id=\"b9875f19-3d58-4a4b-9923-175725d46903\" data-root-id=\"p3180\" style=\"display: contents;\"></div>\n"
      ]
     },
     "metadata": {},
     "output_type": "display_data"
    },
    {
     "data": {
      "application/javascript": "(function(root) {\n  function embed_document(root) {\n  const docs_json = {\"1bb4c25a-702f-4dfa-9152-dcadd7b15daf\":{\"version\":\"3.1.1\",\"title\":\"Bokeh Application\",\"defs\":[],\"roots\":[{\"type\":\"object\",\"name\":\"Figure\",\"id\":\"p3180\",\"attributes\":{\"width\":650,\"height\":450,\"x_range\":{\"type\":\"object\",\"name\":\"DataRange1d\",\"id\":\"p3182\"},\"y_range\":{\"type\":\"object\",\"name\":\"Range1d\",\"id\":\"p3227\",\"attributes\":{\"start\":30,\"end\":100}},\"x_scale\":{\"type\":\"object\",\"name\":\"LinearScale\",\"id\":\"p3194\"},\"y_scale\":{\"type\":\"object\",\"name\":\"LinearScale\",\"id\":\"p3196\"},\"title\":{\"type\":\"object\",\"name\":\"Title\",\"id\":\"p3183\",\"attributes\":{\"text\":\"Hours Studied/Exam Score Data\\nbeta_1 = 0\",\"text_color\":\"#E0E0E0\",\"text_font\":\"Helvetica\",\"text_font_size\":\"1.15em\"}},\"outline_line_color\":\"#E0E0E0\",\"outline_line_alpha\":0.25,\"renderers\":[{\"type\":\"object\",\"name\":\"GlyphRenderer\",\"id\":\"p3234\",\"attributes\":{\"data_source\":{\"type\":\"object\",\"name\":\"ColumnDataSource\",\"id\":\"p3228\",\"attributes\":{\"selected\":{\"type\":\"object\",\"name\":\"Selection\",\"id\":\"p3230\",\"attributes\":{\"indices\":[],\"line_indices\":[]}},\"selection_policy\":{\"type\":\"object\",\"name\":\"UnionRenderers\",\"id\":\"p3229\"},\"data\":{\"type\":\"map\",\"entries\":[[\"x\",[20,16,20,18,17,16,15,17,15,16,15,17,16,17,14]],[\"y\",[89,72,93,84,81,75,70,82,69,83,80,83,81,84,76]]]}}},\"view\":{\"type\":\"object\",\"name\":\"CDSView\",\"id\":\"p3235\",\"attributes\":{\"filter\":{\"type\":\"object\",\"name\":\"AllIndices\",\"id\":\"p3236\"}}},\"glyph\":{\"type\":\"object\",\"name\":\"Circle\",\"id\":\"p3231\",\"attributes\":{\"x\":{\"type\":\"field\",\"field\":\"x\"},\"y\":{\"type\":\"field\",\"field\":\"y\"},\"size\":{\"type\":\"value\",\"value\":8},\"line_color\":{\"type\":\"value\",\"value\":\"crimson\"},\"fill_color\":{\"type\":\"value\",\"value\":\"crimson\"},\"fill_alpha\":{\"type\":\"value\",\"value\":0.9}}},\"nonselection_glyph\":{\"type\":\"object\",\"name\":\"Circle\",\"id\":\"p3232\",\"attributes\":{\"x\":{\"type\":\"field\",\"field\":\"x\"},\"y\":{\"type\":\"field\",\"field\":\"y\"},\"size\":{\"type\":\"value\",\"value\":8},\"line_color\":{\"type\":\"value\",\"value\":\"crimson\"},\"line_alpha\":{\"type\":\"value\",\"value\":0.1},\"fill_color\":{\"type\":\"value\",\"value\":\"crimson\"},\"fill_alpha\":{\"type\":\"value\",\"value\":0.1},\"hatch_alpha\":{\"type\":\"value\",\"value\":0.1}}},\"muted_glyph\":{\"type\":\"object\",\"name\":\"Circle\",\"id\":\"p3233\",\"attributes\":{\"x\":{\"type\":\"field\",\"field\":\"x\"},\"y\":{\"type\":\"field\",\"field\":\"y\"},\"size\":{\"type\":\"value\",\"value\":8},\"line_color\":{\"type\":\"value\",\"value\":\"crimson\"},\"line_alpha\":{\"type\":\"value\",\"value\":0.2},\"fill_color\":{\"type\":\"value\",\"value\":\"crimson\"},\"fill_alpha\":{\"type\":\"value\",\"value\":0.2},\"hatch_alpha\":{\"type\":\"value\",\"value\":0.2}}}}}],\"toolbar\":{\"type\":\"object\",\"name\":\"Toolbar\",\"id\":\"p3189\",\"attributes\":{\"tools\":[{\"type\":\"object\",\"name\":\"PanTool\",\"id\":\"p3212\"},{\"type\":\"object\",\"name\":\"WheelZoomTool\",\"id\":\"p3213\"},{\"type\":\"object\",\"name\":\"BoxZoomTool\",\"id\":\"p3214\",\"attributes\":{\"overlay\":{\"type\":\"object\",\"name\":\"BoxAnnotation\",\"id\":\"p3215\",\"attributes\":{\"syncable\":false,\"level\":\"overlay\",\"visible\":false,\"left_units\":\"canvas\",\"right_units\":\"canvas\",\"bottom_units\":\"canvas\",\"top_units\":\"canvas\",\"line_color\":\"black\",\"line_alpha\":1.0,\"line_width\":2,\"line_dash\":[4,4],\"fill_color\":\"lightgrey\",\"fill_alpha\":0.5}}}},{\"type\":\"object\",\"name\":\"SaveTool\",\"id\":\"p3216\"},{\"type\":\"object\",\"name\":\"ResetTool\",\"id\":\"p3217\"},{\"type\":\"object\",\"name\":\"HelpTool\",\"id\":\"p3218\"}]}},\"left\":[{\"type\":\"object\",\"name\":\"LinearAxis\",\"id\":\"p3205\",\"attributes\":{\"ticker\":{\"type\":\"object\",\"name\":\"BasicTicker\",\"id\":\"p3208\",\"attributes\":{\"mantissas\":[1,2,5]}},\"formatter\":{\"type\":\"object\",\"name\":\"BasicTickFormatter\",\"id\":\"p3207\"},\"axis_label\":\"Exam Scores\",\"axis_label_standoff\":10,\"axis_label_text_color\":\"#E0E0E0\",\"axis_label_text_font\":\"Helvetica\",\"axis_label_text_font_size\":\"1.25em\",\"axis_label_text_font_style\":\"normal\",\"major_label_policy\":{\"type\":\"object\",\"name\":\"AllLabels\",\"id\":\"p3206\"},\"major_label_text_color\":\"#E0E0E0\",\"major_label_text_font\":\"Helvetica\",\"major_label_text_font_size\":\"1.025em\",\"axis_line_color\":\"#E0E0E0\",\"axis_line_alpha\":0,\"major_tick_line_color\":\"#E0E0E0\",\"major_tick_line_alpha\":0,\"minor_tick_line_color\":\"#E0E0E0\",\"minor_tick_line_alpha\":0}}],\"below\":[{\"type\":\"object\",\"name\":\"LinearAxis\",\"id\":\"p3198\",\"attributes\":{\"ticker\":{\"type\":\"object\",\"name\":\"BasicTicker\",\"id\":\"p3201\",\"attributes\":{\"mantissas\":[1,2,5]}},\"formatter\":{\"type\":\"object\",\"name\":\"BasicTickFormatter\",\"id\":\"p3200\"},\"axis_label\":\"Hrs Studed\",\"axis_label_standoff\":10,\"axis_label_text_color\":\"#E0E0E0\",\"axis_label_text_font\":\"Helvetica\",\"axis_label_text_font_size\":\"1.25em\",\"axis_label_text_font_style\":\"normal\",\"major_label_policy\":{\"type\":\"object\",\"name\":\"AllLabels\",\"id\":\"p3199\"},\"major_label_text_color\":\"#E0E0E0\",\"major_label_text_font\":\"Helvetica\",\"major_label_text_font_size\":\"1.025em\",\"axis_line_color\":\"#E0E0E0\",\"axis_line_alpha\":0,\"major_tick_line_color\":\"#E0E0E0\",\"major_tick_line_alpha\":0,\"minor_tick_line_color\":\"#E0E0E0\",\"minor_tick_line_alpha\":0}}],\"center\":[{\"type\":\"object\",\"name\":\"Grid\",\"id\":\"p3204\",\"attributes\":{\"axis\":{\"id\":\"p3198\"},\"grid_line_color\":\"#E0E0E0\",\"grid_line_alpha\":0.25}},{\"type\":\"object\",\"name\":\"Grid\",\"id\":\"p3211\",\"attributes\":{\"dimension\":1,\"axis\":{\"id\":\"p3205\"},\"grid_line_color\":\"#E0E0E0\",\"grid_line_alpha\":0.25}},{\"type\":\"object\",\"name\":\"Legend\",\"id\":\"p3237\",\"attributes\":{\"border_line_alpha\":0,\"background_fill_color\":\"#20262B\",\"background_fill_alpha\":0.25,\"label_text_color\":\"#E0E0E0\",\"label_text_font\":\"Helvetica\",\"label_text_font_size\":\"1.025em\",\"label_standoff\":8,\"glyph_width\":15,\"spacing\":8,\"items\":[{\"type\":\"object\",\"name\":\"LegendItem\",\"id\":\"p3238\",\"attributes\":{\"label\":{\"type\":\"value\",\"value\":\"\"},\"renderers\":[{\"id\":\"p3234\"}]}}]}},{\"type\":\"object\",\"name\":\"Slope\",\"id\":\"p3239\",\"attributes\":{\"gradient\":0,\"y_intercept\":26.741987179487182,\"line_color\":\"gainsboro\",\"line_alpha\":0.7,\"line_width\":2}}],\"background_fill_color\":\"#20262B\",\"border_fill_color\":\"#15191C\"}}],\"callbacks\":{\"type\":\"map\"}}};\n  const render_items = [{\"docid\":\"1bb4c25a-702f-4dfa-9152-dcadd7b15daf\",\"roots\":{\"p3180\":\"b9875f19-3d58-4a4b-9923-175725d46903\"},\"root_ids\":[\"p3180\"]}];\n  root.Bokeh.embed.embed_items_notebook(docs_json, render_items);\n  }\n  if (root.Bokeh !== undefined) {\n    embed_document(root);\n  } else {\n    let attempts = 0;\n    const timer = setInterval(function(root) {\n      if (root.Bokeh !== undefined) {\n        clearInterval(timer);\n        embed_document(root);\n      } else {\n        attempts++;\n        if (attempts > 100) {\n          clearInterval(timer);\n          console.log(\"Bokeh: ERROR: Unable to run BokehJS code because BokehJS library is missing\");\n        }\n      }\n    }, 10, root)\n  }\n})(window);",
      "application/vnd.bokehjs_exec.v0+json": ""
     },
     "metadata": {
      "application/vnd.bokehjs_exec.v0+json": {
       "id": "p3180"
      }
     },
     "output_type": "display_data"
    },
    {
     "data": {
      "text/latex": [
       "$\\displaystyle \\displaystyle \\color{gainsboro} y = \\beta_0 + \\beta_1 + \\epsilon\\\\~\\\\y =  26.7420 + 0 + \\epsilon$"
      ],
      "text/plain": [
       "<IPython.core.display.Math object>"
      ]
     },
     "metadata": {},
     "output_type": "display_data"
    }
   ],
   "source": [
    "\n",
    "import numpy as np\n",
    "import pandas as pd \n",
    "import sys\n",
    "sys.path.insert(0, '../..')\n",
    "from resources import datum, glyph\n",
    "from IPython.display import display, Math, Markdown\n",
    "\n",
    "hrs_studied = [20, 16, 20, 18, 17, 16, 15, 17, 15, 16, 15, 17, 16, 17, 14]\n",
    "exams = [89, 72, 93, 84, 81, 75, 70, 82, 69, 83, 80, 83, 81, 84, 76]\n",
    "\n",
    "data = datum.Data()\n",
    "plot = glyph.Glyph(\n",
    "    title = 'Hours Studied/Exam Score Data\\nbeta_1 = 0'\n",
    "    , x_axis_label='Hrs Studed'\n",
    "    , y_axis_label='Exam Scores'\n",
    "    , y_range = (30, 100)\n",
    "    )\n",
    "\n",
    "# sanity check with my code\n",
    "beta1 = data.get_slope(x = hrs_studied, y = exams)\n",
    "beta0 = data.get_y_intercept(x = hrs_studied, y = exams, m = beta1)\n",
    "\n",
    "plot.make_points(shape = 'circle', x = hrs_studied, y = exams, size = 8, line_color='crimson', fill_color='crimson')\n",
    "\n",
    "plot.add_regression_line(slope = 0, y_intercept=beta0,line_color = 'gainsboro')\n",
    "\n",
    "msg = '\\\\displaystyle \\\\color{gainsboro} y = \\\\beta_0 + \\\\beta_1 + \\\\epsilon\\\\\\\\~\\\\\\\\'\n",
    "msg = msg + 'y = %s + %s + \\epsilon'\n",
    "\n",
    "plot.show()\n",
    "\n",
    "display(Math(msg%(\n",
    "    f'{beta0: .4f}', 0\n",
    ")))"
   ]
  },
  {
   "cell_type": "markdown",
   "metadata": {},
   "source": [
    " If there is a statistically significant linear relationship then the slope needs to be different from zero. "
   ]
  },
  {
   "cell_type": "code",
   "execution_count": 17,
   "metadata": {},
   "outputs": [
    {
     "data": {
      "text/markdown": [
       "<br><b>Regresion Chart</b><br><br>\r|  point #  |  $x$  |   $y$   |  $xy$   |  $\\mu_x^2$  |  $\\mu_y^2$  |  $\\mu_x \\cdot \\mu_y$  |\n",
       "|:---------:|:-----:|:-------:|:-------:|:-----------:|:-----------:|:---------------------:|\n",
       "|     1     |  20   |   89    |  1780   |    11.56    |   78.6178   |        30.1467        |\n",
       "|     2     |  16   |   72    |  1152   |    0.36     |   66.1511   |         4.88          |\n",
       "|     3     |  20   |   93    |  1860   |    11.56    |   165.551   |        43.7467        |\n",
       "|     4     |  18   |   84    |  1512   |    1.96     |   14.9511   |        5.41333        |\n",
       "|     5     |  17   |   81    |  1377   |    0.16     |  0.751111   |       0.346667        |\n",
       "|     6     |  16   |   75    |  1200   |    0.36     |   26.3511   |         3.08          |\n",
       "|     7     |  15   |   70    |  1050   |    2.56     |   102.684   |        16.2133        |\n",
       "|     8     |  17   |   82    |  1394   |    0.16     |   3.48444   |       0.746667        |\n",
       "|     9     |  15   |   69    |  1035   |    2.56     |   123.951   |        17.8133        |\n",
       "|    10     |  16   |   83    |  1328   |    0.36     |   8.21778   |         -1.72         |\n",
       "|    11     |  15   |   80    |  1200   |    2.56     |  0.0177778  |       0.213333        |\n",
       "|    12     |  17   |   83    |  1411   |    0.16     |   8.21778   |        1.14667        |\n",
       "|    13     |  16   |   81    |  1296   |    0.36     |  0.751111   |         -0.52         |\n",
       "|    14     |  17   |   84    |  1428   |    0.16     |   14.9511   |        1.54667        |\n",
       "|    15     |  14   |   76    |  1064   |    6.76     |   17.0844   |        10.7467        |\n",
       "| $\\Sigma$  |  249  |  1202   |  20087  |    41.6     |   631.733   |         133.8         |\n",
       "|   $\\mu$   | 16.6  | 80.1333 | 1339.13 |   2.77333   |   42.1156   |         8.92          |"
      ],
      "text/plain": [
       "<IPython.core.display.Markdown object>"
      ]
     },
     "metadata": {},
     "output_type": "display_data"
    },
    {
     "data": {
      "application/javascript": "(function(root) {\n  function now() {\n    return new Date();\n  }\n\n  const force = true;\n\n  if (typeof root._bokeh_onload_callbacks === \"undefined\" || force === true) {\n    root._bokeh_onload_callbacks = [];\n    root._bokeh_is_loading = undefined;\n  }\n\nconst JS_MIME_TYPE = 'application/javascript';\n  const HTML_MIME_TYPE = 'text/html';\n  const EXEC_MIME_TYPE = 'application/vnd.bokehjs_exec.v0+json';\n  const CLASS_NAME = 'output_bokeh rendered_html';\n\n  /**\n   * Render data to the DOM node\n   */\n  function render(props, node) {\n    const script = document.createElement(\"script\");\n    node.appendChild(script);\n  }\n\n  /**\n   * Handle when an output is cleared or removed\n   */\n  function handleClearOutput(event, handle) {\n    const cell = handle.cell;\n\n    const id = cell.output_area._bokeh_element_id;\n    const server_id = cell.output_area._bokeh_server_id;\n    // Clean up Bokeh references\n    if (id != null && id in Bokeh.index) {\n      Bokeh.index[id].model.document.clear();\n      delete Bokeh.index[id];\n    }\n\n    if (server_id !== undefined) {\n      // Clean up Bokeh references\n      const cmd_clean = \"from bokeh.io.state import curstate; print(curstate().uuid_to_server['\" + server_id + \"'].get_sessions()[0].document.roots[0]._id)\";\n      cell.notebook.kernel.execute(cmd_clean, {\n        iopub: {\n          output: function(msg) {\n            const id = msg.content.text.trim();\n            if (id in Bokeh.index) {\n              Bokeh.index[id].model.document.clear();\n              delete Bokeh.index[id];\n            }\n          }\n        }\n      });\n      // Destroy server and session\n      const cmd_destroy = \"import bokeh.io.notebook as ion; ion.destroy_server('\" + server_id + \"')\";\n      cell.notebook.kernel.execute(cmd_destroy);\n    }\n  }\n\n  /**\n   * Handle when a new output is added\n   */\n  function handleAddOutput(event, handle) {\n    const output_area = handle.output_area;\n    const output = handle.output;\n\n    // limit handleAddOutput to display_data with EXEC_MIME_TYPE content only\n    if ((output.output_type != \"display_data\") || (!Object.prototype.hasOwnProperty.call(output.data, EXEC_MIME_TYPE))) {\n      return\n    }\n\n    const toinsert = output_area.element.find(\".\" + CLASS_NAME.split(' ')[0]);\n\n    if (output.metadata[EXEC_MIME_TYPE][\"id\"] !== undefined) {\n      toinsert[toinsert.length - 1].firstChild.textContent = output.data[JS_MIME_TYPE];\n      // store reference to embed id on output_area\n      output_area._bokeh_element_id = output.metadata[EXEC_MIME_TYPE][\"id\"];\n    }\n    if (output.metadata[EXEC_MIME_TYPE][\"server_id\"] !== undefined) {\n      const bk_div = document.createElement(\"div\");\n      bk_div.innerHTML = output.data[HTML_MIME_TYPE];\n      const script_attrs = bk_div.children[0].attributes;\n      for (let i = 0; i < script_attrs.length; i++) {\n        toinsert[toinsert.length - 1].firstChild.setAttribute(script_attrs[i].name, script_attrs[i].value);\n        toinsert[toinsert.length - 1].firstChild.textContent = bk_div.children[0].textContent\n      }\n      // store reference to server id on output_area\n      output_area._bokeh_server_id = output.metadata[EXEC_MIME_TYPE][\"server_id\"];\n    }\n  }\n\n  function register_renderer(events, OutputArea) {\n\n    function append_mime(data, metadata, element) {\n      // create a DOM node to render to\n      const toinsert = this.create_output_subarea(\n        metadata,\n        CLASS_NAME,\n        EXEC_MIME_TYPE\n      );\n      this.keyboard_manager.register_events(toinsert);\n      // Render to node\n      const props = {data: data, metadata: metadata[EXEC_MIME_TYPE]};\n      render(props, toinsert[toinsert.length - 1]);\n      element.append(toinsert);\n      return toinsert\n    }\n\n    /* Handle when an output is cleared or removed */\n    events.on('clear_output.CodeCell', handleClearOutput);\n    events.on('delete.Cell', handleClearOutput);\n\n    /* Handle when a new output is added */\n    events.on('output_added.OutputArea', handleAddOutput);\n\n    /**\n     * Register the mime type and append_mime function with output_area\n     */\n    OutputArea.prototype.register_mime_type(EXEC_MIME_TYPE, append_mime, {\n      /* Is output safe? */\n      safe: true,\n      /* Index of renderer in `output_area.display_order` */\n      index: 0\n    });\n  }\n\n  // register the mime type if in Jupyter Notebook environment and previously unregistered\n  if (root.Jupyter !== undefined) {\n    const events = require('base/js/events');\n    const OutputArea = require('notebook/js/outputarea').OutputArea;\n\n    if (OutputArea.prototype.mime_types().indexOf(EXEC_MIME_TYPE) == -1) {\n      register_renderer(events, OutputArea);\n    }\n  }\n  if (typeof (root._bokeh_timeout) === \"undefined\" || force === true) {\n    root._bokeh_timeout = Date.now() + 5000;\n    root._bokeh_failed_load = false;\n  }\n\n  const NB_LOAD_WARNING = {'data': {'text/html':\n     \"<div style='background-color: #fdd'>\\n\"+\n     \"<p>\\n\"+\n     \"BokehJS does not appear to have successfully loaded. If loading BokehJS from CDN, this \\n\"+\n     \"may be due to a slow or bad network connection. Possible fixes:\\n\"+\n     \"</p>\\n\"+\n     \"<ul>\\n\"+\n     \"<li>re-rerun `output_notebook()` to attempt to load from CDN again, or</li>\\n\"+\n     \"<li>use INLINE resources instead, as so:</li>\\n\"+\n     \"</ul>\\n\"+\n     \"<code>\\n\"+\n     \"from bokeh.resources import INLINE\\n\"+\n     \"output_notebook(resources=INLINE)\\n\"+\n     \"</code>\\n\"+\n     \"</div>\"}};\n\n  function display_loaded() {\n    const el = document.getElementById(null);\n    if (el != null) {\n      el.textContent = \"BokehJS is loading...\";\n    }\n    if (root.Bokeh !== undefined) {\n      if (el != null) {\n        el.textContent = \"BokehJS \" + root.Bokeh.version + \" successfully loaded.\";\n      }\n    } else if (Date.now() < root._bokeh_timeout) {\n      setTimeout(display_loaded, 100)\n    }\n  }\n\n  function run_callbacks() {\n    try {\n      root._bokeh_onload_callbacks.forEach(function(callback) {\n        if (callback != null)\n          callback();\n      });\n    } finally {\n      delete root._bokeh_onload_callbacks\n    }\n    console.debug(\"Bokeh: all callbacks have finished\");\n  }\n\n  function load_libs(css_urls, js_urls, callback) {\n    if (css_urls == null) css_urls = [];\n    if (js_urls == null) js_urls = [];\n\n    root._bokeh_onload_callbacks.push(callback);\n    if (root._bokeh_is_loading > 0) {\n      console.debug(\"Bokeh: BokehJS is being loaded, scheduling callback at\", now());\n      return null;\n    }\n    if (js_urls == null || js_urls.length === 0) {\n      run_callbacks();\n      return null;\n    }\n    console.debug(\"Bokeh: BokehJS not loaded, scheduling load and callback at\", now());\n    root._bokeh_is_loading = css_urls.length + js_urls.length;\n\n    function on_load() {\n      root._bokeh_is_loading--;\n      if (root._bokeh_is_loading === 0) {\n        console.debug(\"Bokeh: all BokehJS libraries/stylesheets loaded\");\n        run_callbacks()\n      }\n    }\n\n    function on_error(url) {\n      console.error(\"failed to load \" + url);\n    }\n\n    for (let i = 0; i < css_urls.length; i++) {\n      const url = css_urls[i];\n      const element = document.createElement(\"link\");\n      element.onload = on_load;\n      element.onerror = on_error.bind(null, url);\n      element.rel = \"stylesheet\";\n      element.type = \"text/css\";\n      element.href = url;\n      console.debug(\"Bokeh: injecting link tag for BokehJS stylesheet: \", url);\n      document.body.appendChild(element);\n    }\n\n    for (let i = 0; i < js_urls.length; i++) {\n      const url = js_urls[i];\n      const element = document.createElement('script');\n      element.onload = on_load;\n      element.onerror = on_error.bind(null, url);\n      element.async = false;\n      element.src = url;\n      console.debug(\"Bokeh: injecting script tag for BokehJS library: \", url);\n      document.head.appendChild(element);\n    }\n  };\n\n  function inject_raw_css(css) {\n    const element = document.createElement(\"style\");\n    element.appendChild(document.createTextNode(css));\n    document.body.appendChild(element);\n  }\n\n  const js_urls = [\"https://cdn.bokeh.org/bokeh/release/bokeh-3.1.1.min.js\", \"https://cdn.bokeh.org/bokeh/release/bokeh-gl-3.1.1.min.js\", \"https://cdn.bokeh.org/bokeh/release/bokeh-widgets-3.1.1.min.js\", \"https://cdn.bokeh.org/bokeh/release/bokeh-tables-3.1.1.min.js\", \"https://cdn.bokeh.org/bokeh/release/bokeh-mathjax-3.1.1.min.js\"];\n  const css_urls = [];\n\n  const inline_js = [    function(Bokeh) {\n      Bokeh.set_log_level(\"info\");\n    },\nfunction(Bokeh) {\n    }\n  ];\n\n  function run_inline_js() {\n    if (root.Bokeh !== undefined || force === true) {\n          for (let i = 0; i < inline_js.length; i++) {\n      inline_js[i].call(root, root.Bokeh);\n    }\n} else if (Date.now() < root._bokeh_timeout) {\n      setTimeout(run_inline_js, 100);\n    } else if (!root._bokeh_failed_load) {\n      console.log(\"Bokeh: BokehJS failed to load within specified timeout.\");\n      root._bokeh_failed_load = true;\n    } else if (force !== true) {\n      const cell = $(document.getElementById(null)).parents('.cell').data().cell;\n      cell.output_area.append_execute_result(NB_LOAD_WARNING)\n    }\n  }\n\n  if (root._bokeh_is_loading === 0) {\n    console.debug(\"Bokeh: BokehJS loaded, going straight to plotting\");\n    run_inline_js();\n  } else {\n    load_libs(css_urls, js_urls, function() {\n      console.debug(\"Bokeh: BokehJS plotting callback run at\", now());\n      run_inline_js();\n    });\n  }\n}(window));",
      "application/vnd.bokehjs_load.v0+json": ""
     },
     "metadata": {},
     "output_type": "display_data"
    },
    {
     "data": {
      "text/html": [
       "\n",
       "  <div id=\"fb748e0d-cd81-4794-82dc-7bd526162727\" data-root-id=\"p14315\" style=\"display: contents;\"></div>\n"
      ]
     },
     "metadata": {},
     "output_type": "display_data"
    },
    {
     "data": {
      "application/javascript": "(function(root) {\n  function embed_document(root) {\n  const docs_json = {\"72e8ff32-5c24-4225-917d-a928ef6ed059\":{\"version\":\"3.1.1\",\"title\":\"Bokeh Application\",\"defs\":[],\"roots\":[{\"type\":\"object\",\"name\":\"Figure\",\"id\":\"p14315\",\"attributes\":{\"width\":650,\"height\":450,\"x_range\":{\"type\":\"object\",\"name\":\"DataRange1d\",\"id\":\"p14316\"},\"y_range\":{\"type\":\"object\",\"name\":\"DataRange1d\",\"id\":\"p14317\"},\"x_scale\":{\"type\":\"object\",\"name\":\"LinearScale\",\"id\":\"p14329\"},\"y_scale\":{\"type\":\"object\",\"name\":\"LinearScale\",\"id\":\"p14331\"},\"title\":{\"type\":\"object\",\"name\":\"Title\",\"id\":\"p14318\",\"attributes\":{\"text\":\"Hours Studied/Exam Score Data\\n\",\"text_color\":\"#E0E0E0\",\"text_font\":\"Helvetica\",\"text_font_size\":\"1.15em\"}},\"outline_line_color\":\"#E0E0E0\",\"outline_line_alpha\":0.25,\"renderers\":[{\"type\":\"object\",\"name\":\"GlyphRenderer\",\"id\":\"p14368\",\"attributes\":{\"data_source\":{\"type\":\"object\",\"name\":\"ColumnDataSource\",\"id\":\"p14362\",\"attributes\":{\"selected\":{\"type\":\"object\",\"name\":\"Selection\",\"id\":\"p14363\",\"attributes\":{\"indices\":[],\"line_indices\":[]}},\"selection_policy\":{\"type\":\"object\",\"name\":\"UnionRenderers\",\"id\":\"p14364\"},\"data\":{\"type\":\"map\",\"entries\":[[\"x\",[20,16,20,18,17,16,15,17,15,16,15,17,16,17,14]],[\"y\",[89,72,93,84,81,75,70,82,69,83,80,83,81,84,76]]]}}},\"view\":{\"type\":\"object\",\"name\":\"CDSView\",\"id\":\"p14369\",\"attributes\":{\"filter\":{\"type\":\"object\",\"name\":\"AllIndices\",\"id\":\"p14370\"}}},\"glyph\":{\"type\":\"object\",\"name\":\"Circle\",\"id\":\"p14365\",\"attributes\":{\"x\":{\"type\":\"field\",\"field\":\"x\"},\"y\":{\"type\":\"field\",\"field\":\"y\"},\"size\":{\"type\":\"value\",\"value\":8},\"line_color\":{\"type\":\"value\",\"value\":\"crimson\"},\"fill_color\":{\"type\":\"value\",\"value\":\"crimson\"},\"fill_alpha\":{\"type\":\"value\",\"value\":0.9}}},\"nonselection_glyph\":{\"type\":\"object\",\"name\":\"Circle\",\"id\":\"p14366\",\"attributes\":{\"x\":{\"type\":\"field\",\"field\":\"x\"},\"y\":{\"type\":\"field\",\"field\":\"y\"},\"size\":{\"type\":\"value\",\"value\":8},\"line_color\":{\"type\":\"value\",\"value\":\"crimson\"},\"line_alpha\":{\"type\":\"value\",\"value\":0.1},\"fill_color\":{\"type\":\"value\",\"value\":\"crimson\"},\"fill_alpha\":{\"type\":\"value\",\"value\":0.1},\"hatch_alpha\":{\"type\":\"value\",\"value\":0.1}}},\"muted_glyph\":{\"type\":\"object\",\"name\":\"Circle\",\"id\":\"p14367\",\"attributes\":{\"x\":{\"type\":\"field\",\"field\":\"x\"},\"y\":{\"type\":\"field\",\"field\":\"y\"},\"size\":{\"type\":\"value\",\"value\":8},\"line_color\":{\"type\":\"value\",\"value\":\"crimson\"},\"line_alpha\":{\"type\":\"value\",\"value\":0.2},\"fill_color\":{\"type\":\"value\",\"value\":\"crimson\"},\"fill_alpha\":{\"type\":\"value\",\"value\":0.2},\"hatch_alpha\":{\"type\":\"value\",\"value\":0.2}}}}}],\"toolbar\":{\"type\":\"object\",\"name\":\"Toolbar\",\"id\":\"p14321\",\"attributes\":{\"tools\":[{\"type\":\"object\",\"name\":\"PanTool\",\"id\":\"p14347\"},{\"type\":\"object\",\"name\":\"WheelZoomTool\",\"id\":\"p14348\"},{\"type\":\"object\",\"name\":\"BoxZoomTool\",\"id\":\"p14349\",\"attributes\":{\"overlay\":{\"type\":\"object\",\"name\":\"BoxAnnotation\",\"id\":\"p14350\",\"attributes\":{\"syncable\":false,\"level\":\"overlay\",\"visible\":false,\"left_units\":\"canvas\",\"right_units\":\"canvas\",\"bottom_units\":\"canvas\",\"top_units\":\"canvas\",\"line_color\":\"black\",\"line_alpha\":1.0,\"line_width\":2,\"line_dash\":[4,4],\"fill_color\":\"lightgrey\",\"fill_alpha\":0.5}}}},{\"type\":\"object\",\"name\":\"SaveTool\",\"id\":\"p14351\"},{\"type\":\"object\",\"name\":\"ResetTool\",\"id\":\"p14352\"},{\"type\":\"object\",\"name\":\"HelpTool\",\"id\":\"p14353\"}]}},\"left\":[{\"type\":\"object\",\"name\":\"LinearAxis\",\"id\":\"p14340\",\"attributes\":{\"ticker\":{\"type\":\"object\",\"name\":\"BasicTicker\",\"id\":\"p14341\",\"attributes\":{\"mantissas\":[1,2,5]}},\"formatter\":{\"type\":\"object\",\"name\":\"BasicTickFormatter\",\"id\":\"p14342\"},\"axis_label\":\"Exam Scores\",\"axis_label_standoff\":10,\"axis_label_text_color\":\"#E0E0E0\",\"axis_label_text_font\":\"Helvetica\",\"axis_label_text_font_size\":\"1.25em\",\"axis_label_text_font_style\":\"normal\",\"major_label_policy\":{\"type\":\"object\",\"name\":\"AllLabels\",\"id\":\"p14343\"},\"major_label_text_color\":\"#E0E0E0\",\"major_label_text_font\":\"Helvetica\",\"major_label_text_font_size\":\"1.025em\",\"axis_line_color\":\"#E0E0E0\",\"axis_line_alpha\":0,\"major_tick_line_color\":\"#E0E0E0\",\"major_tick_line_alpha\":0,\"minor_tick_line_color\":\"#E0E0E0\",\"minor_tick_line_alpha\":0}}],\"below\":[{\"type\":\"object\",\"name\":\"LinearAxis\",\"id\":\"p14333\",\"attributes\":{\"ticker\":{\"type\":\"object\",\"name\":\"BasicTicker\",\"id\":\"p14334\",\"attributes\":{\"mantissas\":[1,2,5]}},\"formatter\":{\"type\":\"object\",\"name\":\"BasicTickFormatter\",\"id\":\"p14335\"},\"axis_label\":\"Hrs Studied\",\"axis_label_standoff\":10,\"axis_label_text_color\":\"#E0E0E0\",\"axis_label_text_font\":\"Helvetica\",\"axis_label_text_font_size\":\"1.25em\",\"axis_label_text_font_style\":\"normal\",\"major_label_policy\":{\"type\":\"object\",\"name\":\"AllLabels\",\"id\":\"p14336\"},\"major_label_text_color\":\"#E0E0E0\",\"major_label_text_font\":\"Helvetica\",\"major_label_text_font_size\":\"1.025em\",\"axis_line_color\":\"#E0E0E0\",\"axis_line_alpha\":0,\"major_tick_line_color\":\"#E0E0E0\",\"major_tick_line_alpha\":0,\"minor_tick_line_color\":\"#E0E0E0\",\"minor_tick_line_alpha\":0}}],\"center\":[{\"type\":\"object\",\"name\":\"Grid\",\"id\":\"p14339\",\"attributes\":{\"axis\":{\"id\":\"p14333\"},\"grid_line_color\":\"#E0E0E0\",\"grid_line_alpha\":0.25}},{\"type\":\"object\",\"name\":\"Grid\",\"id\":\"p14346\",\"attributes\":{\"dimension\":1,\"axis\":{\"id\":\"p14340\"},\"grid_line_color\":\"#E0E0E0\",\"grid_line_alpha\":0.25}},{\"type\":\"object\",\"name\":\"Legend\",\"id\":\"p14371\",\"attributes\":{\"border_line_alpha\":0,\"background_fill_color\":\"#20262B\",\"background_fill_alpha\":0.25,\"label_text_color\":\"#E0E0E0\",\"label_text_font\":\"Helvetica\",\"label_text_font_size\":\"1.025em\",\"label_standoff\":8,\"glyph_width\":15,\"spacing\":8,\"items\":[{\"type\":\"object\",\"name\":\"LegendItem\",\"id\":\"p14372\",\"attributes\":{\"label\":{\"type\":\"value\",\"value\":\"\"},\"renderers\":[{\"id\":\"p14368\"}]}}]}},{\"type\":\"object\",\"name\":\"Slope\",\"id\":\"p14373\",\"attributes\":{\"gradient\":3.2163461538461537,\"y_intercept\":26.741987179487182,\"line_color\":\"gainsboro\",\"line_alpha\":0.7,\"line_width\":2}}],\"background_fill_color\":\"#20262B\",\"border_fill_color\":\"#15191C\"}}],\"callbacks\":{\"type\":\"map\"}}};\n  const render_items = [{\"docid\":\"72e8ff32-5c24-4225-917d-a928ef6ed059\",\"roots\":{\"p14315\":\"fb748e0d-cd81-4794-82dc-7bd526162727\"},\"root_ids\":[\"p14315\"]}];\n  root.Bokeh.embed.embed_items_notebook(docs_json, render_items);\n  }\n  if (root.Bokeh !== undefined) {\n    embed_document(root);\n  } else {\n    let attempts = 0;\n    const timer = setInterval(function(root) {\n      if (root.Bokeh !== undefined) {\n        clearInterval(timer);\n        embed_document(root);\n      } else {\n        attempts++;\n        if (attempts > 100) {\n          clearInterval(timer);\n          console.log(\"Bokeh: ERROR: Unable to run BokehJS code because BokehJS library is missing\");\n        }\n      }\n    }, 10, root)\n  }\n})(window);",
      "application/vnd.bokehjs_exec.v0+json": ""
     },
     "metadata": {
      "application/vnd.bokehjs_exec.v0+json": {
       "id": "p14315"
      }
     },
     "output_type": "display_data"
    },
    {
     "data": {
      "text/latex": [
       "$\\displaystyle \\displaystyle \\color{gainsboro} \\star~H_0:\\quad \\beta_1 = 0\\\\~\\\\\\star~H_a: \\quad \\beta_1 \\ne 0\\\\~\\\\y = \\beta_0 + \\beta_1 + \\epsilon\\\\~\\\\y =  26.7420 +  3.2163 + \\epsilon\\\\~\\\\\\star~n: 15 \\\\~\\\\\\star~p: 1 \\text{ - the number of predictors, (independent variables)}\\\\~\\\\\\star~df = n - p - 1 = 13\\\\~\\\\\\star~\\text{critical value: }  2.1604\\\\~\\\\\\star~\\small SS_{xx}\\quad(\\mu_x^2) = 41.6\\\\~\\\\\\star~\\small SS_{yy}\\quad(\\mu_y^2) =  631.7333 \\normalsize \\\\~\\\\\\star~\\small SS_{xy}\\quad(\\mu_x \\cdot \\mu_y) =  133.8000\\\\~\\\\\\star~SSR = \\dfrac{(\\mu_x \\cdot \\mu_y)}{\\mu_x^2} = \\dfrac{ 17902.4400}{41.6} =  430.3471\\\\~\\\\\\star~SST = \\mu_x^2 =  631.7333\\\\~\\\\\\star~SSE = \\text{ SST - SSR } =  631.7333 -  430.3471 =  201.3862\\\\~\\\\\\star~MSR = \\dfrac{SSR}{p} = \\dfrac{ 430.3471}{1} =  430.3471\\\\~\\\\\\star~MSE = \\dfrac{SSE}{DF_e} = \\dfrac{ 201.3862}{13} =  15.4912\\\\~\\\\\\star \\normalsize \\text{ test statistic } = \\small \\dfrac{\\beta_1}{\\sqrt{\\dfrac{MSE}{\\mu_x^2}}} = \\dfrac{ 3.2163}{\\sqrt{\\dfrac{ 15.4912}{41.6}}} =  5.2707\\\\~\\\\\\text{The test statistic 5.271 is greater than the critical value of 2.160 and in the rejection region.}\\\\~\\\\\\text{The decision is to reject }H_0: \\quad \\beta_1 = 0\\\\~\\\\\\text{The slope is significant different from zero therefore the regression equation is suitable to use for prediction}\\\\~\\\\$"
      ],
      "text/plain": [
       "<IPython.core.display.Math object>"
      ]
     },
     "metadata": {},
     "output_type": "display_data"
    },
    {
     "data": {
      "application/javascript": "(function(root) {\n  function now() {\n    return new Date();\n  }\n\n  const force = true;\n\n  if (typeof root._bokeh_onload_callbacks === \"undefined\" || force === true) {\n    root._bokeh_onload_callbacks = [];\n    root._bokeh_is_loading = undefined;\n  }\n\nconst JS_MIME_TYPE = 'application/javascript';\n  const HTML_MIME_TYPE = 'text/html';\n  const EXEC_MIME_TYPE = 'application/vnd.bokehjs_exec.v0+json';\n  const CLASS_NAME = 'output_bokeh rendered_html';\n\n  /**\n   * Render data to the DOM node\n   */\n  function render(props, node) {\n    const script = document.createElement(\"script\");\n    node.appendChild(script);\n  }\n\n  /**\n   * Handle when an output is cleared or removed\n   */\n  function handleClearOutput(event, handle) {\n    const cell = handle.cell;\n\n    const id = cell.output_area._bokeh_element_id;\n    const server_id = cell.output_area._bokeh_server_id;\n    // Clean up Bokeh references\n    if (id != null && id in Bokeh.index) {\n      Bokeh.index[id].model.document.clear();\n      delete Bokeh.index[id];\n    }\n\n    if (server_id !== undefined) {\n      // Clean up Bokeh references\n      const cmd_clean = \"from bokeh.io.state import curstate; print(curstate().uuid_to_server['\" + server_id + \"'].get_sessions()[0].document.roots[0]._id)\";\n      cell.notebook.kernel.execute(cmd_clean, {\n        iopub: {\n          output: function(msg) {\n            const id = msg.content.text.trim();\n            if (id in Bokeh.index) {\n              Bokeh.index[id].model.document.clear();\n              delete Bokeh.index[id];\n            }\n          }\n        }\n      });\n      // Destroy server and session\n      const cmd_destroy = \"import bokeh.io.notebook as ion; ion.destroy_server('\" + server_id + \"')\";\n      cell.notebook.kernel.execute(cmd_destroy);\n    }\n  }\n\n  /**\n   * Handle when a new output is added\n   */\n  function handleAddOutput(event, handle) {\n    const output_area = handle.output_area;\n    const output = handle.output;\n\n    // limit handleAddOutput to display_data with EXEC_MIME_TYPE content only\n    if ((output.output_type != \"display_data\") || (!Object.prototype.hasOwnProperty.call(output.data, EXEC_MIME_TYPE))) {\n      return\n    }\n\n    const toinsert = output_area.element.find(\".\" + CLASS_NAME.split(' ')[0]);\n\n    if (output.metadata[EXEC_MIME_TYPE][\"id\"] !== undefined) {\n      toinsert[toinsert.length - 1].firstChild.textContent = output.data[JS_MIME_TYPE];\n      // store reference to embed id on output_area\n      output_area._bokeh_element_id = output.metadata[EXEC_MIME_TYPE][\"id\"];\n    }\n    if (output.metadata[EXEC_MIME_TYPE][\"server_id\"] !== undefined) {\n      const bk_div = document.createElement(\"div\");\n      bk_div.innerHTML = output.data[HTML_MIME_TYPE];\n      const script_attrs = bk_div.children[0].attributes;\n      for (let i = 0; i < script_attrs.length; i++) {\n        toinsert[toinsert.length - 1].firstChild.setAttribute(script_attrs[i].name, script_attrs[i].value);\n        toinsert[toinsert.length - 1].firstChild.textContent = bk_div.children[0].textContent\n      }\n      // store reference to server id on output_area\n      output_area._bokeh_server_id = output.metadata[EXEC_MIME_TYPE][\"server_id\"];\n    }\n  }\n\n  function register_renderer(events, OutputArea) {\n\n    function append_mime(data, metadata, element) {\n      // create a DOM node to render to\n      const toinsert = this.create_output_subarea(\n        metadata,\n        CLASS_NAME,\n        EXEC_MIME_TYPE\n      );\n      this.keyboard_manager.register_events(toinsert);\n      // Render to node\n      const props = {data: data, metadata: metadata[EXEC_MIME_TYPE]};\n      render(props, toinsert[toinsert.length - 1]);\n      element.append(toinsert);\n      return toinsert\n    }\n\n    /* Handle when an output is cleared or removed */\n    events.on('clear_output.CodeCell', handleClearOutput);\n    events.on('delete.Cell', handleClearOutput);\n\n    /* Handle when a new output is added */\n    events.on('output_added.OutputArea', handleAddOutput);\n\n    /**\n     * Register the mime type and append_mime function with output_area\n     */\n    OutputArea.prototype.register_mime_type(EXEC_MIME_TYPE, append_mime, {\n      /* Is output safe? */\n      safe: true,\n      /* Index of renderer in `output_area.display_order` */\n      index: 0\n    });\n  }\n\n  // register the mime type if in Jupyter Notebook environment and previously unregistered\n  if (root.Jupyter !== undefined) {\n    const events = require('base/js/events');\n    const OutputArea = require('notebook/js/outputarea').OutputArea;\n\n    if (OutputArea.prototype.mime_types().indexOf(EXEC_MIME_TYPE) == -1) {\n      register_renderer(events, OutputArea);\n    }\n  }\n  if (typeof (root._bokeh_timeout) === \"undefined\" || force === true) {\n    root._bokeh_timeout = Date.now() + 5000;\n    root._bokeh_failed_load = false;\n  }\n\n  const NB_LOAD_WARNING = {'data': {'text/html':\n     \"<div style='background-color: #fdd'>\\n\"+\n     \"<p>\\n\"+\n     \"BokehJS does not appear to have successfully loaded. If loading BokehJS from CDN, this \\n\"+\n     \"may be due to a slow or bad network connection. Possible fixes:\\n\"+\n     \"</p>\\n\"+\n     \"<ul>\\n\"+\n     \"<li>re-rerun `output_notebook()` to attempt to load from CDN again, or</li>\\n\"+\n     \"<li>use INLINE resources instead, as so:</li>\\n\"+\n     \"</ul>\\n\"+\n     \"<code>\\n\"+\n     \"from bokeh.resources import INLINE\\n\"+\n     \"output_notebook(resources=INLINE)\\n\"+\n     \"</code>\\n\"+\n     \"</div>\"}};\n\n  function display_loaded() {\n    const el = document.getElementById(null);\n    if (el != null) {\n      el.textContent = \"BokehJS is loading...\";\n    }\n    if (root.Bokeh !== undefined) {\n      if (el != null) {\n        el.textContent = \"BokehJS \" + root.Bokeh.version + \" successfully loaded.\";\n      }\n    } else if (Date.now() < root._bokeh_timeout) {\n      setTimeout(display_loaded, 100)\n    }\n  }\n\n  function run_callbacks() {\n    try {\n      root._bokeh_onload_callbacks.forEach(function(callback) {\n        if (callback != null)\n          callback();\n      });\n    } finally {\n      delete root._bokeh_onload_callbacks\n    }\n    console.debug(\"Bokeh: all callbacks have finished\");\n  }\n\n  function load_libs(css_urls, js_urls, callback) {\n    if (css_urls == null) css_urls = [];\n    if (js_urls == null) js_urls = [];\n\n    root._bokeh_onload_callbacks.push(callback);\n    if (root._bokeh_is_loading > 0) {\n      console.debug(\"Bokeh: BokehJS is being loaded, scheduling callback at\", now());\n      return null;\n    }\n    if (js_urls == null || js_urls.length === 0) {\n      run_callbacks();\n      return null;\n    }\n    console.debug(\"Bokeh: BokehJS not loaded, scheduling load and callback at\", now());\n    root._bokeh_is_loading = css_urls.length + js_urls.length;\n\n    function on_load() {\n      root._bokeh_is_loading--;\n      if (root._bokeh_is_loading === 0) {\n        console.debug(\"Bokeh: all BokehJS libraries/stylesheets loaded\");\n        run_callbacks()\n      }\n    }\n\n    function on_error(url) {\n      console.error(\"failed to load \" + url);\n    }\n\n    for (let i = 0; i < css_urls.length; i++) {\n      const url = css_urls[i];\n      const element = document.createElement(\"link\");\n      element.onload = on_load;\n      element.onerror = on_error.bind(null, url);\n      element.rel = \"stylesheet\";\n      element.type = \"text/css\";\n      element.href = url;\n      console.debug(\"Bokeh: injecting link tag for BokehJS stylesheet: \", url);\n      document.body.appendChild(element);\n    }\n\n    for (let i = 0; i < js_urls.length; i++) {\n      const url = js_urls[i];\n      const element = document.createElement('script');\n      element.onload = on_load;\n      element.onerror = on_error.bind(null, url);\n      element.async = false;\n      element.src = url;\n      console.debug(\"Bokeh: injecting script tag for BokehJS library: \", url);\n      document.head.appendChild(element);\n    }\n  };\n\n  function inject_raw_css(css) {\n    const element = document.createElement(\"style\");\n    element.appendChild(document.createTextNode(css));\n    document.body.appendChild(element);\n  }\n\n  const js_urls = [\"https://cdn.bokeh.org/bokeh/release/bokeh-3.1.1.min.js\", \"https://cdn.bokeh.org/bokeh/release/bokeh-gl-3.1.1.min.js\", \"https://cdn.bokeh.org/bokeh/release/bokeh-widgets-3.1.1.min.js\", \"https://cdn.bokeh.org/bokeh/release/bokeh-tables-3.1.1.min.js\", \"https://cdn.bokeh.org/bokeh/release/bokeh-mathjax-3.1.1.min.js\"];\n  const css_urls = [];\n\n  const inline_js = [    function(Bokeh) {\n      Bokeh.set_log_level(\"info\");\n    },\nfunction(Bokeh) {\n    }\n  ];\n\n  function run_inline_js() {\n    if (root.Bokeh !== undefined || force === true) {\n          for (let i = 0; i < inline_js.length; i++) {\n      inline_js[i].call(root, root.Bokeh);\n    }\n} else if (Date.now() < root._bokeh_timeout) {\n      setTimeout(run_inline_js, 100);\n    } else if (!root._bokeh_failed_load) {\n      console.log(\"Bokeh: BokehJS failed to load within specified timeout.\");\n      root._bokeh_failed_load = true;\n    } else if (force !== true) {\n      const cell = $(document.getElementById(null)).parents('.cell').data().cell;\n      cell.output_area.append_execute_result(NB_LOAD_WARNING)\n    }\n  }\n\n  if (root._bokeh_is_loading === 0) {\n    console.debug(\"Bokeh: BokehJS loaded, going straight to plotting\");\n    run_inline_js();\n  } else {\n    load_libs(css_urls, js_urls, function() {\n      console.debug(\"Bokeh: BokehJS plotting callback run at\", now());\n      run_inline_js();\n    });\n  }\n}(window));",
      "application/vnd.bokehjs_load.v0+json": ""
     },
     "metadata": {},
     "output_type": "display_data"
    },
    {
     "data": {
      "text/html": [
       "\n",
       "  <div id=\"b904eeac-cc75-4f29-bcc0-83110f324289\" data-root-id=\"p15026\" style=\"display: contents;\"></div>\n"
      ]
     },
     "metadata": {},
     "output_type": "display_data"
    },
    {
     "data": {
      "application/javascript": "(function(root) {\n  function embed_document(root) {\n  const docs_json = {\"6de3cd1e-457e-4ab0-ab97-eaf480d97665\":{\"version\":\"3.1.1\",\"title\":\"Bokeh Application\",\"defs\":[],\"roots\":[{\"type\":\"object\",\"name\":\"Figure\",\"id\":\"p15026\",\"attributes\":{\"width\":650,\"height\":450,\"x_range\":{\"type\":\"object\",\"name\":\"DataRange1d\",\"id\":\"p15027\"},\"y_range\":{\"type\":\"object\",\"name\":\"DataRange1d\",\"id\":\"p15028\"},\"x_scale\":{\"type\":\"object\",\"name\":\"LinearScale\",\"id\":\"p15040\"},\"y_scale\":{\"type\":\"object\",\"name\":\"LinearScale\",\"id\":\"p15042\"},\"title\":{\"type\":\"object\",\"name\":\"Title\",\"id\":\"p15029\",\"attributes\":{\"text_color\":\"#E0E0E0\",\"text_font\":\"Helvetica\",\"text_font_size\":\"1.15em\"}},\"outline_line_color\":\"#E0E0E0\",\"outline_line_alpha\":0.25,\"renderers\":[{\"type\":\"object\",\"name\":\"GlyphRenderer\",\"id\":\"p15082\",\"attributes\":{\"data_source\":{\"type\":\"object\",\"name\":\"ColumnDataSource\",\"id\":\"p15073\",\"attributes\":{\"selected\":{\"type\":\"object\",\"name\":\"Selection\",\"id\":\"p15074\",\"attributes\":{\"indices\":[],\"line_indices\":[]}},\"selection_policy\":{\"type\":\"object\",\"name\":\"UnionRenderers\",\"id\":\"p15075\"},\"data\":{\"type\":\"map\",\"entries\":[[\"x\",[-6.0,-5.878787878787879,-5.757575757575758,-5.636363636363637,-5.515151515151516,-5.393939393939394,-5.2727272727272725,-5.151515151515151,-5.03030303030303,-4.909090909090909,-4.787878787878788,-4.666666666666666,-4.545454545454545,-4.424242424242424,-4.303030303030303,-4.181818181818182,-4.0606060606060606,-3.9393939393939394,-3.8181818181818183,-3.696969696969697,-3.5757575757575757,-3.4545454545454546,-3.333333333333333,-3.212121212121212,-3.090909090909091,-2.9696969696969697,-2.8484848484848486,-2.727272727272727,-2.606060606060606,-2.484848484848485,-2.3636363636363633,-2.242424242424242,-2.121212121212121,-2.0,-1.878787878787879,-1.7575757575757578,-1.6363636363636367,-1.5151515151515147,-1.3939393939393936,-1.2727272727272725,-1.1515151515151514,-1.0303030303030303,-0.9090909090909092,-0.7878787878787881,-0.6666666666666661,-0.545454545454545,-0.42424242424242387,-0.30303030303030276,-0.18181818181818166,-0.06060606060606055,0.06060606060606055,0.18181818181818166,0.30303030303030276,0.42424242424242475,0.5454545454545459,0.666666666666667,0.7878787878787881,0.9090909090909092,1.0303030303030303,1.1515151515151514,1.2727272727272734,1.3939393939393945,1.5151515151515156,1.6363636363636367,1.7575757575757578,1.878787878787879,2.0,2.121212121212121,2.242424242424242,2.3636363636363633,2.4848484848484844,2.6060606060606055,2.7272727272727266,2.8484848484848495,2.9696969696969706,3.0909090909090917,3.212121212121213,3.333333333333334,3.454545454545455,3.575757575757576,3.6969696969696972,3.8181818181818183,3.9393939393939394,4.0606060606060606,4.181818181818182,4.303030303030303,4.424242424242424,4.545454545454545,4.666666666666668,4.787878787878789,4.90909090909091,5.030303030303031,5.151515151515152,5.272727272727273,5.3939393939393945,5.515151515151516,5.636363636363637,5.757575757575758,5.878787878787879,6.0]],[\"y\",[4.784639248031055e-08,9.828999688672625e-08,1.9897046978715372e-07,3.969054940650069e-07,7.801978998481594e-07,1.5112684798611087e-06,2.884680064238164e-06,5.42591346375927e-06,1.005697230319496e-05,1.8368801722231098e-05,3.306081684701583e-05,5.863615905019003e-05,0.0001024794131836252,0.00017649277303901162,0.00029952729523567646,0.0005009161846197386,0.0008254920675924601,0.0013405404586040639,0.002145191801828808,0.003382762538232844,0.005256492843300841,0.008048961010413332,0.012145146309532612,0.018058632479284572,0.02645977514420607,0.03820380503575736,0.05435584757236867,0.07620879685865557,0.10528902878134198,0.1433442626995376,0.1923077080162923,0.25423319168053027,0.33119745332416967,0.4251683315876363,0.5378411294278743,0.6704498419728663,0.8235647625923861,0.9968926667008894,1.1890995842906438,1.3976783385696132,1.6188828518919167,1.847748218845131,2.078209582430057,2.3033242226159873,2.5155907424580155,2.7073479927028448,2.871225863124054,3.0006118070880876,3.0900922975769523,3.1358282650184623,3.1358282650184623,3.0900922975769523,3.0006118070880876,2.871225863124053,2.707347992702843,2.5155907424580137,2.3033242226159873,2.078209582430057,1.847748218845131,1.6188828518919167,1.3976783385696117,1.1890995842906424,0.9968926667008879,0.8235647625923861,0.6704498419728663,0.5378411294278743,0.4251683315876363,0.33119745332416967,0.25423319168053027,0.1923077080162923,0.1433442626995378,0.10528902878134211,0.07620879685865567,0.05435584757236853,0.03820380503575726,0.026459775144206,0.018058632479284523,0.012145146309532581,0.008048961010413318,0.005256492843300832,0.0033827625382328377,0.002145191801828808,0.0013405404586040639,0.0008254920675924601,0.0005009161846197386,0.00029952729523567646,0.00017649277303901162,0.0001024794131836252,5.863615905018951e-05,3.3060816847015706e-05,1.8368801722231e-05,1.0056972303194924e-05,5.425913463759251e-06,2.8846800642381533e-06,1.5112684798611006e-06,7.801978998481594e-07,3.969054940650069e-07,1.9897046978715372e-07,9.828999688672625e-08,4.784639248031055e-08]]]}}},\"view\":{\"type\":\"object\",\"name\":\"CDSView\",\"id\":\"p15083\",\"attributes\":{\"filter\":{\"type\":\"object\",\"name\":\"AllIndices\",\"id\":\"p15084\"}}},\"glyph\":{\"type\":\"object\",\"name\":\"Line\",\"id\":\"p15079\",\"attributes\":{\"x\":{\"type\":\"field\",\"field\":\"x\"},\"y\":{\"type\":\"field\",\"field\":\"y\"},\"line_color\":\"gainsboro\",\"line_alpha\":0.5}},\"nonselection_glyph\":{\"type\":\"object\",\"name\":\"Line\",\"id\":\"p15080\",\"attributes\":{\"x\":{\"type\":\"field\",\"field\":\"x\"},\"y\":{\"type\":\"field\",\"field\":\"y\"},\"line_color\":\"gainsboro\",\"line_alpha\":0.1}},\"muted_glyph\":{\"type\":\"object\",\"name\":\"Line\",\"id\":\"p15081\",\"attributes\":{\"x\":{\"type\":\"field\",\"field\":\"x\"},\"y\":{\"type\":\"field\",\"field\":\"y\"},\"line_color\":\"gainsboro\",\"line_alpha\":0.2}}}},{\"type\":\"object\",\"name\":\"GlyphRenderer\",\"id\":\"p15094\",\"attributes\":{\"data_source\":{\"type\":\"object\",\"name\":\"ColumnDataSource\",\"id\":\"p15085\",\"attributes\":{\"selected\":{\"type\":\"object\",\"name\":\"Selection\",\"id\":\"p15086\",\"attributes\":{\"indices\":[],\"line_indices\":[]}},\"selection_policy\":{\"type\":\"object\",\"name\":\"UnionRenderers\",\"id\":\"p15087\"},\"data\":{\"type\":\"map\",\"entries\":[[\"x\",[-6.0,-5.878787878787879,-5.757575757575758,-5.636363636363637,-5.515151515151516,-5.393939393939394,-5.2727272727272725,-5.151515151515151,-5.03030303030303,-4.909090909090909,-4.787878787878788,-4.666666666666666,-4.545454545454545,-4.424242424242424,-4.303030303030303,-4.181818181818182,-4.0606060606060606,-3.9393939393939394,-3.8181818181818183,-3.696969696969697,-3.5757575757575757,-3.4545454545454546,-3.333333333333333,-3.212121212121212,-3.090909090909091,-2.9696969696969697,-2.8484848484848486,-2.727272727272727,-2.606060606060606,-2.484848484848485,-2.3636363636363633,-2.242424242424242,-2.121212121212121,-2.0]],[\"floor\",{\"type\":\"ndarray\",\"array\":{\"type\":\"bytes\",\"data\":\"AAAAAAAAAAAAAAAAAAAAAAAAAAAAAAAAAAAAAAAAAAAAAAAAAAAAAAAAAAAAAAAAAAAAAAAAAAAAAAAAAAAAAAAAAAAAAAAAAAAAAAAAAAAAAAAAAAAAAAAAAAAAAAAAAAAAAAAAAAAAAAAAAAAAAAAAAAAAAAAAAAAAAAAAAAAAAAAAAAAAAAAAAAAAAAAAAAAAAAAAAAAAAAAAAAAAAAAAAAAAAAAAAAAAAAAAAAAAAAAAAAAAAAAAAAAAAAAAAAAAAAAAAAAAAAAAAAAAAAAAAAAAAAAAAAAAAAAAAAAAAAAAAAAAAAAAAAAAAAAAAAAAAAAAAAAAAAAAAAAAAAAAAAAAAAAAAAAAAAAAAAA=\"},\"shape\":[34],\"dtype\":\"float64\",\"order\":\"little\"}],[\"y\",[4.784639248031055e-08,9.828999688672625e-08,1.9897046978715372e-07,3.969054940650069e-07,7.801978998481594e-07,1.5112684798611087e-06,2.884680064238164e-06,5.42591346375927e-06,1.005697230319496e-05,1.8368801722231098e-05,3.306081684701583e-05,5.863615905019003e-05,0.0001024794131836252,0.00017649277303901162,0.00029952729523567646,0.0005009161846197386,0.0008254920675924601,0.0013405404586040639,0.002145191801828808,0.003382762538232844,0.005256492843300841,0.008048961010413332,0.012145146309532612,0.018058632479284572,0.02645977514420607,0.03820380503575736,0.05435584757236867,0.07620879685865557,0.10528902878134198,0.1433442626995376,0.1923077080162923,0.25423319168053027,0.33119745332416967,0.4251683315876363]]]}}},\"view\":{\"type\":\"object\",\"name\":\"CDSView\",\"id\":\"p15095\",\"attributes\":{\"filter\":{\"type\":\"object\",\"name\":\"AllIndices\",\"id\":\"p15096\"}}},\"glyph\":{\"type\":\"object\",\"name\":\"VArea\",\"id\":\"p15091\",\"attributes\":{\"x\":{\"type\":\"field\",\"field\":\"x\"},\"y1\":{\"type\":\"field\",\"field\":\"floor\"},\"y2\":{\"type\":\"field\",\"field\":\"y\"},\"fill_color\":\"grey\",\"fill_alpha\":0.8}},\"nonselection_glyph\":{\"type\":\"object\",\"name\":\"VArea\",\"id\":\"p15092\",\"attributes\":{\"x\":{\"type\":\"field\",\"field\":\"x\"},\"y1\":{\"type\":\"field\",\"field\":\"floor\"},\"y2\":{\"type\":\"field\",\"field\":\"y\"},\"fill_color\":\"grey\",\"fill_alpha\":0.1,\"hatch_alpha\":{\"type\":\"value\",\"value\":0.1}}},\"muted_glyph\":{\"type\":\"object\",\"name\":\"VArea\",\"id\":\"p15093\",\"attributes\":{\"x\":{\"type\":\"field\",\"field\":\"x\"},\"y1\":{\"type\":\"field\",\"field\":\"floor\"},\"y2\":{\"type\":\"field\",\"field\":\"y\"},\"fill_color\":\"grey\",\"fill_alpha\":0.2,\"hatch_alpha\":{\"type\":\"value\",\"value\":0.2}}}}},{\"type\":\"object\",\"name\":\"GlyphRenderer\",\"id\":\"p15108\",\"attributes\":{\"data_source\":{\"type\":\"object\",\"name\":\"ColumnDataSource\",\"id\":\"p15099\",\"attributes\":{\"selected\":{\"type\":\"object\",\"name\":\"Selection\",\"id\":\"p15100\",\"attributes\":{\"indices\":[],\"line_indices\":[]}},\"selection_policy\":{\"type\":\"object\",\"name\":\"UnionRenderers\",\"id\":\"p15101\"},\"data\":{\"type\":\"map\",\"entries\":[[\"x\",[2.0,2.121212121212121,2.242424242424242,2.3636363636363633,2.4848484848484844,2.6060606060606055,2.7272727272727266,2.8484848484848495,2.9696969696969706,3.0909090909090917,3.212121212121213,3.333333333333334,3.454545454545455,3.575757575757576,3.6969696969696972,3.8181818181818183,3.9393939393939394,4.0606060606060606,4.181818181818182,4.303030303030303,4.424242424242424,4.545454545454545,4.666666666666668,4.787878787878789,4.90909090909091,5.030303030303031,5.151515151515152,5.272727272727273,5.3939393939393945,5.515151515151516,5.636363636363637,5.757575757575758,5.878787878787879,6.0]],[\"floor\",{\"type\":\"ndarray\",\"array\":{\"type\":\"bytes\",\"data\":\"AAAAAAAAAAAAAAAAAAAAAAAAAAAAAAAAAAAAAAAAAAAAAAAAAAAAAAAAAAAAAAAAAAAAAAAAAAAAAAAAAAAAAAAAAAAAAAAAAAAAAAAAAAAAAAAAAAAAAAAAAAAAAAAAAAAAAAAAAAAAAAAAAAAAAAAAAAAAAAAAAAAAAAAAAAAAAAAAAAAAAAAAAAAAAAAAAAAAAAAAAAAAAAAAAAAAAAAAAAAAAAAAAAAAAAAAAAAAAAAAAAAAAAAAAAAAAAAAAAAAAAAAAAAAAAAAAAAAAAAAAAAAAAAAAAAAAAAAAAAAAAAAAAAAAAAAAAAAAAAAAAAAAAAAAAAAAAAAAAAAAAAAAAAAAAAAAAAAAAAAAAA=\"},\"shape\":[34],\"dtype\":\"float64\",\"order\":\"little\"}],[\"y\",[0.4251683315876363,0.33119745332416967,0.25423319168053027,0.1923077080162923,0.1433442626995378,0.10528902878134211,0.07620879685865567,0.05435584757236853,0.03820380503575726,0.026459775144206,0.018058632479284523,0.012145146309532581,0.008048961010413318,0.005256492843300832,0.0033827625382328377,0.002145191801828808,0.0013405404586040639,0.0008254920675924601,0.0005009161846197386,0.00029952729523567646,0.00017649277303901162,0.0001024794131836252,5.863615905018951e-05,3.3060816847015706e-05,1.8368801722231e-05,1.0056972303194924e-05,5.425913463759251e-06,2.8846800642381533e-06,1.5112684798611006e-06,7.801978998481594e-07,3.969054940650069e-07,1.9897046978715372e-07,9.828999688672625e-08,4.784639248031055e-08]]]}}},\"view\":{\"type\":\"object\",\"name\":\"CDSView\",\"id\":\"p15109\",\"attributes\":{\"filter\":{\"type\":\"object\",\"name\":\"AllIndices\",\"id\":\"p15110\"}}},\"glyph\":{\"type\":\"object\",\"name\":\"VArea\",\"id\":\"p15105\",\"attributes\":{\"x\":{\"type\":\"field\",\"field\":\"x\"},\"y1\":{\"type\":\"field\",\"field\":\"floor\"},\"y2\":{\"type\":\"field\",\"field\":\"y\"},\"fill_color\":\"grey\",\"fill_alpha\":0.8}},\"nonselection_glyph\":{\"type\":\"object\",\"name\":\"VArea\",\"id\":\"p15106\",\"attributes\":{\"x\":{\"type\":\"field\",\"field\":\"x\"},\"y1\":{\"type\":\"field\",\"field\":\"floor\"},\"y2\":{\"type\":\"field\",\"field\":\"y\"},\"fill_color\":\"grey\",\"fill_alpha\":0.1,\"hatch_alpha\":{\"type\":\"value\",\"value\":0.1}}},\"muted_glyph\":{\"type\":\"object\",\"name\":\"VArea\",\"id\":\"p15107\",\"attributes\":{\"x\":{\"type\":\"field\",\"field\":\"x\"},\"y1\":{\"type\":\"field\",\"field\":\"floor\"},\"y2\":{\"type\":\"field\",\"field\":\"y\"},\"fill_color\":\"grey\",\"fill_alpha\":0.2,\"hatch_alpha\":{\"type\":\"value\",\"value\":0.2}}}}},{\"type\":\"object\",\"name\":\"GlyphRenderer\",\"id\":\"p15117\",\"attributes\":{\"data_source\":{\"type\":\"object\",\"name\":\"ColumnDataSource\",\"id\":\"p15111\",\"attributes\":{\"selected\":{\"type\":\"object\",\"name\":\"Selection\",\"id\":\"p15112\",\"attributes\":{\"indices\":[],\"line_indices\":[]}},\"selection_policy\":{\"type\":\"object\",\"name\":\"UnionRenderers\",\"id\":\"p15113\"},\"data\":{\"type\":\"map\",\"entries\":[[\"x\",[5.270675166531985]],[\"y\",[2.916056203871994e-06]]]}}},\"view\":{\"type\":\"object\",\"name\":\"CDSView\",\"id\":\"p15118\",\"attributes\":{\"filter\":{\"type\":\"object\",\"name\":\"AllIndices\",\"id\":\"p15119\"}}},\"glyph\":{\"type\":\"object\",\"name\":\"Scatter\",\"id\":\"p15114\",\"attributes\":{\"x\":{\"type\":\"field\",\"field\":\"x\"},\"y\":{\"type\":\"field\",\"field\":\"y\"},\"size\":{\"type\":\"value\",\"value\":10},\"line_color\":{\"type\":\"value\",\"value\":\"crimson\"},\"fill_color\":{\"type\":\"value\",\"value\":\"crimson\"},\"fill_alpha\":{\"type\":\"value\",\"value\":0.9},\"marker\":{\"type\":\"value\",\"value\":\"star\"}}},\"nonselection_glyph\":{\"type\":\"object\",\"name\":\"Scatter\",\"id\":\"p15115\",\"attributes\":{\"x\":{\"type\":\"field\",\"field\":\"x\"},\"y\":{\"type\":\"field\",\"field\":\"y\"},\"size\":{\"type\":\"value\",\"value\":10},\"line_color\":{\"type\":\"value\",\"value\":\"crimson\"},\"line_alpha\":{\"type\":\"value\",\"value\":0.1},\"fill_color\":{\"type\":\"value\",\"value\":\"crimson\"},\"fill_alpha\":{\"type\":\"value\",\"value\":0.1},\"hatch_alpha\":{\"type\":\"value\",\"value\":0.1},\"marker\":{\"type\":\"value\",\"value\":\"star\"}}},\"muted_glyph\":{\"type\":\"object\",\"name\":\"Scatter\",\"id\":\"p15116\",\"attributes\":{\"x\":{\"type\":\"field\",\"field\":\"x\"},\"y\":{\"type\":\"field\",\"field\":\"y\"},\"size\":{\"type\":\"value\",\"value\":10},\"line_color\":{\"type\":\"value\",\"value\":\"crimson\"},\"line_alpha\":{\"type\":\"value\",\"value\":0.2},\"fill_color\":{\"type\":\"value\",\"value\":\"crimson\"},\"fill_alpha\":{\"type\":\"value\",\"value\":0.2},\"hatch_alpha\":{\"type\":\"value\",\"value\":0.2},\"marker\":{\"type\":\"value\",\"value\":\"star\"}}}}}],\"toolbar\":{\"type\":\"object\",\"name\":\"Toolbar\",\"id\":\"p15032\",\"attributes\":{\"tools\":[{\"type\":\"object\",\"name\":\"PanTool\",\"id\":\"p15058\"},{\"type\":\"object\",\"name\":\"WheelZoomTool\",\"id\":\"p15059\"},{\"type\":\"object\",\"name\":\"BoxZoomTool\",\"id\":\"p15060\",\"attributes\":{\"overlay\":{\"type\":\"object\",\"name\":\"BoxAnnotation\",\"id\":\"p15061\",\"attributes\":{\"syncable\":false,\"level\":\"overlay\",\"visible\":false,\"left_units\":\"canvas\",\"right_units\":\"canvas\",\"bottom_units\":\"canvas\",\"top_units\":\"canvas\",\"line_color\":\"black\",\"line_alpha\":1.0,\"line_width\":2,\"line_dash\":[4,4],\"fill_color\":\"lightgrey\",\"fill_alpha\":0.5}}}},{\"type\":\"object\",\"name\":\"SaveTool\",\"id\":\"p15062\"},{\"type\":\"object\",\"name\":\"ResetTool\",\"id\":\"p15063\"},{\"type\":\"object\",\"name\":\"HelpTool\",\"id\":\"p15064\"}]}},\"left\":[{\"type\":\"object\",\"name\":\"LinearAxis\",\"id\":\"p15051\",\"attributes\":{\"ticker\":{\"type\":\"object\",\"name\":\"BasicTicker\",\"id\":\"p15052\",\"attributes\":{\"mantissas\":[1,2,5]}},\"formatter\":{\"type\":\"object\",\"name\":\"BasicTickFormatter\",\"id\":\"p15053\"},\"axis_label\":\"y\",\"axis_label_standoff\":10,\"axis_label_text_color\":\"#E0E0E0\",\"axis_label_text_font\":\"Helvetica\",\"axis_label_text_font_size\":\"1.25em\",\"axis_label_text_font_style\":\"normal\",\"major_label_policy\":{\"type\":\"object\",\"name\":\"AllLabels\",\"id\":\"p15054\"},\"major_label_text_color\":\"#E0E0E0\",\"major_label_text_font\":\"Helvetica\",\"major_label_text_font_size\":\"1.025em\",\"axis_line_color\":\"#E0E0E0\",\"axis_line_alpha\":0,\"major_tick_line_color\":\"#E0E0E0\",\"major_tick_line_alpha\":0,\"minor_tick_line_color\":\"#E0E0E0\",\"minor_tick_line_alpha\":0}}],\"below\":[{\"type\":\"object\",\"name\":\"LinearAxis\",\"id\":\"p15044\",\"attributes\":{\"ticker\":{\"type\":\"object\",\"name\":\"BasicTicker\",\"id\":\"p15045\",\"attributes\":{\"mantissas\":[1,2,5]}},\"formatter\":{\"type\":\"object\",\"name\":\"BasicTickFormatter\",\"id\":\"p15046\"},\"axis_label\":\"x\",\"axis_label_standoff\":10,\"axis_label_text_color\":\"#E0E0E0\",\"axis_label_text_font\":\"Helvetica\",\"axis_label_text_font_size\":\"1.25em\",\"axis_label_text_font_style\":\"normal\",\"major_label_policy\":{\"type\":\"object\",\"name\":\"AllLabels\",\"id\":\"p15047\"},\"major_label_text_color\":\"#E0E0E0\",\"major_label_text_font\":\"Helvetica\",\"major_label_text_font_size\":\"1.025em\",\"axis_line_color\":\"#E0E0E0\",\"axis_line_alpha\":0,\"major_tick_line_color\":\"#E0E0E0\",\"major_tick_line_alpha\":0,\"minor_tick_line_color\":\"#E0E0E0\",\"minor_tick_line_alpha\":0}}],\"center\":[{\"type\":\"object\",\"name\":\"Grid\",\"id\":\"p15050\",\"attributes\":{\"axis\":{\"id\":\"p15044\"},\"grid_line_color\":\"#E0E0E0\",\"grid_line_alpha\":0.25}},{\"type\":\"object\",\"name\":\"Grid\",\"id\":\"p15057\",\"attributes\":{\"dimension\":1,\"axis\":{\"id\":\"p15051\"},\"grid_line_color\":\"#E0E0E0\",\"grid_line_alpha\":0.25}},{\"type\":\"object\",\"name\":\"Legend\",\"id\":\"p15097\",\"attributes\":{\"location\":\"top_left\",\"border_line_alpha\":0,\"background_fill_color\":\"#20262B\",\"background_fill_alpha\":0.25,\"label_text_color\":\"#E0E0E0\",\"label_text_font\":\"Helvetica\",\"label_text_font_size\":\"1.025em\",\"label_standoff\":8,\"glyph_width\":15,\"spacing\":8,\"items\":[{\"type\":\"object\",\"name\":\"LegendItem\",\"id\":\"p15098\",\"attributes\":{\"label\":{\"type\":\"value\",\"value\":\"critical values: [-  2.1604,  2.1604]\"},\"renderers\":[{\"id\":\"p15094\"}]}},{\"type\":\"object\",\"name\":\"LegendItem\",\"id\":\"p15120\",\"attributes\":{\"label\":{\"type\":\"value\",\"value\":\"test statistic:  5.2707\"},\"renderers\":[{\"id\":\"p15117\"}]}}]}}],\"background_fill_color\":\"#20262B\",\"border_fill_color\":\"#15191C\"}}],\"callbacks\":{\"type\":\"map\"}}};\n  const render_items = [{\"docid\":\"6de3cd1e-457e-4ab0-ab97-eaf480d97665\",\"roots\":{\"p15026\":\"b904eeac-cc75-4f29-bcc0-83110f324289\"},\"root_ids\":[\"p15026\"]}];\n  root.Bokeh.embed.embed_items_notebook(docs_json, render_items);\n  }\n  if (root.Bokeh !== undefined) {\n    embed_document(root);\n  } else {\n    let attempts = 0;\n    const timer = setInterval(function(root) {\n      if (root.Bokeh !== undefined) {\n        clearInterval(timer);\n        embed_document(root);\n      } else {\n        attempts++;\n        if (attempts > 100) {\n          clearInterval(timer);\n          console.log(\"Bokeh: ERROR: Unable to run BokehJS code because BokehJS library is missing\");\n        }\n      }\n    }, 10, root)\n  }\n})(window);",
      "application/vnd.bokehjs_exec.v0+json": ""
     },
     "metadata": {
      "application/vnd.bokehjs_exec.v0+json": {
       "id": "p15026"
      }
     },
     "output_type": "display_data"
    }
   ],
   "source": [
    "\n",
    "import numpy as np\n",
    "import pandas as pd \n",
    "import sys\n",
    "sys.path.insert(0, '../..')\n",
    "from resources import datum, glyph, dsutils \n",
    "from IPython.display import display, Math, Markdown\n",
    "\n",
    "\n",
    "hrs_studied = [20, 16, 20, 18, 17, 16, 15, 17, 15, 16, 15, 17, 16, 17, 14]\n",
    "exams = [89, 72, 93, 84, 81, 75, 70, 82, 69, 83, 80, 83, 81, 84, 76]\n",
    "\n",
    "ds = dsutils.Utils(x = hrs_studied, y = exams)\n",
    "ds.chart_regression(chart=True)\n",
    "\n",
    "data = datum.Data()\n",
    "\n",
    "tail = 'two'\n",
    "CL = .95\n",
    "alpha = 1 - CL \n",
    "n = len(hrs_studied)\n",
    "p = 1 # the number of predictors, (independent variables), for now set to 1\n",
    "df = n - p - 1\n",
    "xy_sum, mu_x_sqr_sum, mu_y_sqr_sum, cov, mu_cov  = data.chart_regression(x = hrs_studied, y = exams)\n",
    "\n",
    "SSR = cov**2/mu_x_sqr_sum\n",
    "SST = mu_y_sqr_sum\n",
    "SSE = SST - SSR\n",
    "MSR = SSR/p \n",
    "MSE = SSE/df\n",
    "\n",
    "\n",
    "data = datum.Data()\n",
    "plot = glyph.Glyph(\n",
    "    title = 'Hours Studied/Exam Score Data\\n'\n",
    "    , x_axis_label='Hrs Studied'\n",
    "    , y_axis_label='Exam Scores'\n",
    "    )\n",
    "\n",
    "# calculate critical value \n",
    "critical_value = data.get_t_critical_value(tail = tail, q = alpha, df = df)\n",
    "\n",
    "# calculate the p-value\n",
    "p_value = data.get_pvalue(test_statistic=critical_value, tail = 'upper')\n",
    "\n",
    "# sanity check with my code\n",
    "beta1 = data.get_slope(x = hrs_studied, y = exams)\n",
    "beta0 = data.get_y_intercept(x = hrs_studied, y = exams, m = beta1)\n",
    "\n",
    "test_stat = beta1/(np.sqrt(MSE/mu_x_sqr_sum))\n",
    "\n",
    "plot.make_points(shape = 'circle', x = hrs_studied, y = exams, size = 8, line_color='crimson', fill_color='crimson')\n",
    "\n",
    "plot.add_regression_line(slope = beta1, y_intercept=beta0,line_color = 'gainsboro')\n",
    "\n",
    "msg = '\\\\displaystyle \\\\color{gainsboro} \\\\star~H_0:\\\\quad \\\\beta_1 = 0\\\\\\\\~\\\\\\\\'\n",
    "msg = msg + '\\\\star~H_a: \\\\quad \\\\beta_1 \\\\ne 0\\\\\\\\~\\\\\\\\'\n",
    "msg = msg + 'y = \\\\beta_0 + \\\\beta_1 + \\\\epsilon\\\\\\\\~\\\\\\\\'\n",
    "msg = msg + 'y = %s + %s + \\epsilon\\\\\\\\~\\\\\\\\\\\\star~n: %s \\\\\\\\~\\\\\\\\'\n",
    "msg = msg + '\\\\star~p: %s \\\\text{ - the number of predictors, (independent variables)}\\\\\\\\~\\\\\\\\'\n",
    "msg = msg + '\\\\star~df = n - p - 1 = %s\\\\\\\\~\\\\\\\\'\n",
    "msg = msg + '\\\\star~\\\\text{critical value: } %s\\\\\\\\~\\\\\\\\'\n",
    "msg = msg + '\\\\star~\\\\small SS_{xx}\\\\quad(\\\\mu_x^2) = %s\\\\\\\\~\\\\\\\\\\\\star~\\\\small SS_{yy}\\\\quad(\\\\mu_y^2) = %s \\\\normalsize \\\\\\\\~\\\\\\\\'\n",
    "msg = msg + '\\\\star~\\\\small SS_{xy}\\\\quad(\\\\mu_x \\\\cdot \\\\mu_y) = %s\\\\\\\\~\\\\\\\\'\n",
    "msg = msg + '\\\\star~SSR = \\\\dfrac{(\\\\mu_x \\\\cdot \\\\mu_y)}{\\\\mu_x^2} = \\\\dfrac{%s}{%s} = %s\\\\\\\\~\\\\\\\\'\n",
    "msg = msg + '\\\\star~SST = \\\\mu_x^2 = %s\\\\\\\\~\\\\\\\\'\n",
    "msg = msg + '\\\\star~SSE = \\\\text{ SST - SSR } = %s - %s = %s\\\\\\\\~\\\\\\\\'\n",
    "msg = msg + '\\\\star~MSR = \\\\dfrac{SSR}{p} = \\\\dfrac{%s}{%s} = %s\\\\\\\\~\\\\\\\\'\n",
    "msg = msg + '\\\\star~MSE = \\\\dfrac{SSE}{DF_e} = \\\\dfrac{%s}{%s} = %s\\\\\\\\~\\\\\\\\'\n",
    "msg = msg + '\\\\star \\\\normalsize \\\\text{ test statistic } = \\\\small \\\\dfrac{\\\\beta_1}{\\\\sqrt{\\\\dfrac{MSE}{\\\\mu_x^2}}} = ' \n",
    "msg = msg + '\\\\dfrac{%s}{\\\\sqrt{\\\\dfrac{%s}{%s}}} = %s\\\\\\\\~\\\\\\\\'\n",
    "msg = msg + '\\\\text{The test statistic 5.271 is greater than the critical value of 2.160 and in the rejection region.}\\\\\\\\~\\\\\\\\'\n",
    "msg = msg + '\\\\text{The decision is to reject }H_0: \\\\quad \\\\beta_1 = 0\\\\\\\\~\\\\\\\\'\n",
    "msg = msg + '\\\\text{The slope is significant different from zero therefore the regression equation is suitable to use for prediction}\\\\\\\\~\\\\\\\\'\n",
    "\n",
    "\n",
    "plot.show()\n",
    "\n",
    "display(Math(msg%(\n",
    "    f'{beta0: .4f}', f'{beta1: .4f}' \n",
    "    , n, p, df\n",
    "    , f'{critical_value: .4f}'\n",
    "    , mu_x_sqr_sum, f'{mu_y_sqr_sum: .4f}', f'{cov: .4f}'\n",
    "    , f'{(cov)**2: .4f}',  mu_x_sqr_sum, f'{SSR: .4f}'\n",
    "    , f'{mu_y_sqr_sum: .4f}'\n",
    "    , f'{SST: .4f}', f'{SSR: .4f}', f'{SSE: .4f}'\n",
    "    , f'{SSR: .4f}', p, f'{MSR: .4f}'\n",
    "    , f'{SSE: .4f}', df, f'{MSE: .4f}'\n",
    "    , f'{beta1: .4f}', f'{MSE: .4f}', mu_x_sqr_sum, f'{test_stat: .4f}'\n",
    ")))\n",
    "\n",
    "mu = 0\n",
    "s = 1\n",
    "norm_x = list(np.linspace(-6, 6, 100))\n",
    "norm_y = data.get_normal_dist(x_arr=norm_x, mu = mu, sigma = s)\n",
    "\n",
    "norm_dist = glyph.Glyph(\n",
    "    title = ''\n",
    "    , x_axis_label='x'\n",
    "    , y_axis_label='y'\n",
    "    ,legend_location='top_left'\n",
    "    )\n",
    "\n",
    "norm_dist.make_line(norm_x, norm_y, color = 'gainsboro', alpha = .5)\n",
    "\n",
    "# get arrays for lower and upper regions of rejection\n",
    "critical_value_auc = data.get_t_auc(critical_values = [critical_value], df = df, mu = mu)\n",
    "\n",
    "lower_rej_reg_x, upper_rej_reg_x = data.get_rejection_regions(x = norm_x, tail = tail, alpha = critical_value_auc[0], observed_value = mu, sigma = s )\n",
    "\n",
    "# plot lower regions of rejections \n",
    "lower_rej_reg_y = data.get_normal_dist(x_arr = lower_rej_reg_x, mu = mu, sigma = s)\n",
    "lower_rej_reg_floor = np.zeros(len(lower_rej_reg_y))\n",
    "norm_dist.make_varea(x=lower_rej_reg_x\n",
    "                     , y=lower_rej_reg_y\n",
    "                     , floor = lower_rej_reg_floor\n",
    "                     , fill_color = 'grey'\n",
    "                     , fill_alpha=0.80\n",
    "                     , legend_label=f\"critical values: [- {critical_value: .4f}, {critical_value: .4f}]\"\n",
    "                    )\n",
    "\n",
    "# plot upper regions of rejections \n",
    "upper_rej_reg_y = data.get_normal_dist(x_arr = upper_rej_reg_x, mu = mu, sigma = s)\n",
    "upper_rej_reg_floor = np.zeros(len(upper_rej_reg_y))\n",
    "norm_dist.make_varea(x=upper_rej_reg_x\n",
    "                     , y=upper_rej_reg_y\n",
    "                     , floor = upper_rej_reg_floor\n",
    "                     , fill_color = 'grey'\n",
    "                     , fill_alpha=0.80)\n",
    "\n",
    "# plot test statistic \n",
    "norm_dist.make_points(\n",
    "    shape = 'star'\n",
    "    , x = [test_stat]\n",
    "    , y = data.get_normal_dist([test_stat], mu = mu, sigma = s)\n",
    "    , fill_color='crimson'\n",
    "    , line_color='crimson'\n",
    "    , size = 10\n",
    "    , label =  f'test statistic: {test_stat: .4f}'\n",
    "    )\n",
    "\n",
    "\n",
    "norm_dist.show()"
   ]
  },
  {
   "cell_type": "markdown",
   "metadata": {},
   "source": [
    "### ANOVA Table \n",
    "\n",
    "* $SS_{xx} = \\mu_x^2$\n",
    "\n",
    "* $SS_{yy} = \\mu_y^2$\n",
    "\n",
    "* $SS_{xy} = \\mu_x \\cdot \\mu_y$\n",
    "\n",
    "* $\\displaystyle \\small SSR = \\dfrac{(SS_{yy})^2}{SS_{xx}}$\n",
    "\n",
    "* $\\displaystyle \\small SST - \\text{The sum of squares for treatments } = SS{yy}$\n",
    "  \n",
    "* $\\displaystyle \\small SSE - \\text{The sum of squares for errors } = SST - SSR$\n",
    "\n",
    "* $\\displaystyle \\small DFT - \\text{The degrees of freedom for treatments}$\n",
    "  * $\\displaystyle \\small DFT = k - 1$\n",
    "\n",
    "* $\\displaystyle \\small DFE - \\text{The degrees of freedom for error}$\n",
    "  * $\\displaystyle \\small DFE = N - k$\n",
    "\n",
    "* $\\displaystyle \\small MST - \\text{The mean of squares for errors}$\n",
    "\n",
    "  * MST = $\\displaystyle \\small \\dfrac{SST}{DFT}$\n",
    "  \n",
    "* $\\displaystyle \\small MSE - \\text{The mean of squares for treatments}$\n",
    "  \n",
    "  *$\\displaystyle \\small  MSE = \\dfrac{SSE}{DFE}$\n",
    "  \n",
    "\n",
    "  \n",
    "\n",
    "  \n",
    "\n",
    "\n"
   ]
  }
 ],
 "metadata": {
  "kernelspec": {
   "display_name": "bokehVenv",
   "language": "python",
   "name": "python3"
  },
  "language_info": {
   "codemirror_mode": {
    "name": "ipython",
    "version": 3
   },
   "file_extension": ".py",
   "mimetype": "text/x-python",
   "name": "python",
   "nbconvert_exporter": "python",
   "pygments_lexer": "ipython3",
   "version": "3.10.2"
  }
 },
 "nbformat": 4,
 "nbformat_minor": 2
}
